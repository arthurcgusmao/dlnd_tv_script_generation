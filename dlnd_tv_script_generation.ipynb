{
 "cells": [
  {
   "cell_type": "markdown",
   "metadata": {},
   "source": [
    "# TV Script Generation\n",
    "In this project, you'll generate your own [Simpsons](https://en.wikipedia.org/wiki/The_Simpsons) TV scripts using RNNs.  You'll be using part of the [Simpsons dataset](https://www.kaggle.com/wcukierski/the-simpsons-by-the-data) of scripts from 27 seasons.  The Neural Network you'll build will generate a new TV script for a scene at [Moe's Tavern](https://simpsonswiki.com/wiki/Moe's_Tavern).\n",
    "## Get the Data\n",
    "The data is already provided for you.  You'll be using a subset of the original dataset.  It consists of only the scenes in Moe's Tavern.  This doesn't include other versions of the tavern, like \"Moe's Cavern\", \"Flaming Moe's\", \"Uncle Moe's Family Feed-Bag\", etc.."
   ]
  },
  {
   "cell_type": "code",
   "execution_count": 1,
   "metadata": {
    "collapsed": true
   },
   "outputs": [],
   "source": [
    "\"\"\"\n",
    "DON'T MODIFY ANYTHING IN THIS CELL\n",
    "\"\"\"\n",
    "import helper\n",
    "\n",
    "data_dir = './data/simpsons/moes_tavern_lines.txt'\n",
    "text = helper.load_data(data_dir)\n",
    "# Ignore notice, since we don't use it for analysing the data\n",
    "text = text[81:]"
   ]
  },
  {
   "cell_type": "markdown",
   "metadata": {},
   "source": [
    "## Explore the Data\n",
    "Play around with `view_sentence_range` to view different parts of the data."
   ]
  },
  {
   "cell_type": "code",
   "execution_count": 2,
   "metadata": {},
   "outputs": [
    {
     "name": "stdout",
     "output_type": "stream",
     "text": [
      "Dataset Stats\n",
      "Roughly the number of unique words: 11492\n",
      "Number of scenes: 262\n",
      "Average number of sentences in each scene: 15.248091603053435\n",
      "Number of lines: 4257\n",
      "Average number of words in each line: 11.50434578341555\n",
      "\n",
      "The sentences 0 to 10:\n",
      "Moe_Szyslak: (INTO PHONE) Moe's Tavern. Where the elite meet to drink.\n",
      "Bart_Simpson: Eh, yeah, hello, is Mike there? Last name, Rotch.\n",
      "Moe_Szyslak: (INTO PHONE) Hold on, I'll check. (TO BARFLIES) Mike Rotch. Mike Rotch. Hey, has anybody seen Mike Rotch, lately?\n",
      "Moe_Szyslak: (INTO PHONE) Listen you little puke. One of these days I'm gonna catch you, and I'm gonna carve my name on your back with an ice pick.\n",
      "Moe_Szyslak: What's the matter Homer? You're not your normal effervescent self.\n",
      "Homer_Simpson: I got my problems, Moe. Give me another one.\n",
      "Moe_Szyslak: Homer, hey, you should not drink to forget your problems.\n",
      "Barney_Gumble: Yeah, you should only drink to enhance your social skills.\n",
      "\n",
      "\n"
     ]
    }
   ],
   "source": [
    "view_sentence_range = (0, 10)\n",
    "\n",
    "\"\"\"\n",
    "DON'T MODIFY ANYTHING IN THIS CELL\n",
    "\"\"\"\n",
    "import numpy as np\n",
    "\n",
    "print('Dataset Stats')\n",
    "print('Roughly the number of unique words: {}'.format(len({word: None for word in text.split()})))\n",
    "scenes = text.split('\\n\\n')\n",
    "print('Number of scenes: {}'.format(len(scenes)))\n",
    "sentence_count_scene = [scene.count('\\n') for scene in scenes]\n",
    "print('Average number of sentences in each scene: {}'.format(np.average(sentence_count_scene)))\n",
    "\n",
    "sentences = [sentence for scene in scenes for sentence in scene.split('\\n')]\n",
    "print('Number of lines: {}'.format(len(sentences)))\n",
    "word_count_sentence = [len(sentence.split()) for sentence in sentences]\n",
    "print('Average number of words in each line: {}'.format(np.average(word_count_sentence)))\n",
    "\n",
    "print()\n",
    "print('The sentences {} to {}:'.format(*view_sentence_range))\n",
    "print('\\n'.join(text.split('\\n')[view_sentence_range[0]:view_sentence_range[1]]))"
   ]
  },
  {
   "cell_type": "markdown",
   "metadata": {},
   "source": [
    "## Implement Preprocessing Functions\n",
    "The first thing to do to any dataset is preprocessing.  Implement the following preprocessing functions below:\n",
    "- Lookup Table\n",
    "- Tokenize Punctuation\n",
    "\n",
    "### Lookup Table\n",
    "To create a word embedding, you first need to transform the words to ids.  In this function, create two dictionaries:\n",
    "- Dictionary to go from the words to an id, we'll call `vocab_to_int`\n",
    "- Dictionary to go from the id to word, we'll call `int_to_vocab`\n",
    "\n",
    "Return these dictionaries in the following tuple `(vocab_to_int, int_to_vocab)`"
   ]
  },
  {
   "cell_type": "code",
   "execution_count": 3,
   "metadata": {},
   "outputs": [
    {
     "name": "stdout",
     "output_type": "stream",
     "text": [
      "Tests Passed\n"
     ]
    }
   ],
   "source": [
    "import numpy as np\n",
    "import problem_unittests as tests\n",
    "\n",
    "from collections import Counter # added by student\n",
    "\n",
    "def create_lookup_tables(text):\n",
    "    \"\"\"\n",
    "    Create lookup tables for vocabulary\n",
    "    :param text: The text of tv scripts split into words\n",
    "    :return: A tuple of dicts (vocab_to_int, int_to_vocab)\n",
    "    \"\"\"\n",
    "    # TODO: Implement Function\n",
    "    word_count = Counter(text)\n",
    "    vocab = sorted(word_count, key=word_count.get, reverse=True)\n",
    "    vocab_to_int = {w: i for i,w in enumerate(vocab)}\n",
    "    int_to_vocab = {i: w for w,i in vocab_to_int.items()}\n",
    "    return vocab_to_int, int_to_vocab\n",
    "\n",
    "\n",
    "\"\"\"\n",
    "DON'T MODIFY ANYTHING IN THIS CELL THAT IS BELOW THIS LINE\n",
    "\"\"\"\n",
    "tests.test_create_lookup_tables(create_lookup_tables)"
   ]
  },
  {
   "cell_type": "markdown",
   "metadata": {},
   "source": [
    "### Tokenize Punctuation\n",
    "We'll be splitting the script into a word array using spaces as delimiters.  However, punctuations like periods and exclamation marks make it hard for the neural network to distinguish between the word \"bye\" and \"bye!\".\n",
    "\n",
    "Implement the function `token_lookup` to return a dict that will be used to tokenize symbols like \"!\" into \"||Exclamation_Mark||\".  Create a dictionary for the following symbols where the symbol is the key and value is the token:\n",
    "- Period ( . )\n",
    "- Comma ( , )\n",
    "- Quotation Mark ( \" )\n",
    "- Semicolon ( ; )\n",
    "- Exclamation mark ( ! )\n",
    "- Question mark ( ? )\n",
    "- Left Parentheses ( ( )\n",
    "- Right Parentheses ( ) )\n",
    "- Dash ( -- )\n",
    "- Return ( \\n )\n",
    "\n",
    "This dictionary will be used to token the symbols and add the delimiter (space) around it.  This separates the symbols as it's own word, making it easier for the neural network to predict on the next word. Make sure you don't use a token that could be confused as a word. Instead of using the token \"dash\", try using something like \"||dash||\"."
   ]
  },
  {
   "cell_type": "code",
   "execution_count": 4,
   "metadata": {},
   "outputs": [
    {
     "name": "stdout",
     "output_type": "stream",
     "text": [
      "Tests Passed\n"
     ]
    }
   ],
   "source": [
    "def token_lookup():\n",
    "    \"\"\"\n",
    "    Generate a dict to turn punctuation into a token.\n",
    "    :return: Tokenize dictionary where the key is the punctuation and the value is the token\n",
    "    \"\"\"\n",
    "    # TODO: Implement Function\n",
    "    punc_to_token = {\n",
    "        '.': '||period||',\n",
    "        ',': '||comma||',\n",
    "        '\"': '||quotation_mark||',\n",
    "        ';': '||semicolon||',\n",
    "        '!': '||exclamation_mark||',\n",
    "        '?': '||question_mark||',\n",
    "        '(': '||left_parenthesis||',\n",
    "        ')': '||right_parenthesis||',\n",
    "        '--': '||dash||',\n",
    "        '\\n': '||newline||'\n",
    "    }\n",
    "    return punc_to_token\n",
    "\n",
    "\"\"\"\n",
    "DON'T MODIFY ANYTHING IN THIS CELL THAT IS BELOW THIS LINE\n",
    "\"\"\"\n",
    "tests.test_tokenize(token_lookup)"
   ]
  },
  {
   "cell_type": "markdown",
   "metadata": {},
   "source": [
    "## Preprocess all the data and save it\n",
    "Running the code cell below will preprocess all the data and save it to file."
   ]
  },
  {
   "cell_type": "code",
   "execution_count": 6,
   "metadata": {
    "collapsed": true
   },
   "outputs": [],
   "source": [
    "\"\"\"\n",
    "DON'T MODIFY ANYTHING IN THIS CELL\n",
    "\"\"\"\n",
    "# Preprocess Training, Validation, and Testing Data\n",
    "helper.preprocess_and_save_data(data_dir, token_lookup, create_lookup_tables)"
   ]
  },
  {
   "cell_type": "markdown",
   "metadata": {},
   "source": [
    "# Check Point\n",
    "This is your first checkpoint. If you ever decide to come back to this notebook or have to restart the notebook, you can start from here. The preprocessed data has been saved to disk."
   ]
  },
  {
   "cell_type": "code",
   "execution_count": 1,
   "metadata": {
    "collapsed": true
   },
   "outputs": [],
   "source": [
    "\"\"\"\n",
    "DON'T MODIFY ANYTHING IN THIS CELL\n",
    "\"\"\"\n",
    "import helper\n",
    "import numpy as np\n",
    "import problem_unittests as tests\n",
    "\n",
    "int_text, vocab_to_int, int_to_vocab, token_dict = helper.load_preprocess()"
   ]
  },
  {
   "cell_type": "markdown",
   "metadata": {},
   "source": [
    "## Build the Neural Network\n",
    "You'll build the components necessary to build a RNN by implementing the following functions below:\n",
    "- get_inputs\n",
    "- get_init_cell\n",
    "- get_embed\n",
    "- build_rnn\n",
    "- build_nn\n",
    "- get_batches\n",
    "\n",
    "### Check the Version of TensorFlow and Access to GPU"
   ]
  },
  {
   "cell_type": "code",
   "execution_count": 2,
   "metadata": {},
   "outputs": [
    {
     "name": "stdout",
     "output_type": "stream",
     "text": [
      "TensorFlow Version: 1.3.0-rc2\n",
      "Default GPU Device: /device:GPU:0\n"
     ]
    }
   ],
   "source": [
    "\"\"\"\n",
    "DON'T MODIFY ANYTHING IN THIS CELL\n",
    "\"\"\"\n",
    "from distutils.version import LooseVersion\n",
    "import warnings\n",
    "import tensorflow as tf\n",
    "\n",
    "# Check TensorFlow Version\n",
    "assert LooseVersion(tf.__version__) >= LooseVersion('1.0'), 'Please use TensorFlow version 1.0 or newer'\n",
    "print('TensorFlow Version: {}'.format(tf.__version__))\n",
    "\n",
    "# Check for a GPU\n",
    "if not tf.test.gpu_device_name():\n",
    "    warnings.warn('No GPU found. Please use a GPU to train your neural network.')\n",
    "else:\n",
    "    print('Default GPU Device: {}'.format(tf.test.gpu_device_name()))"
   ]
  },
  {
   "cell_type": "markdown",
   "metadata": {},
   "source": [
    "### Input\n",
    "Implement the `get_inputs()` function to create TF Placeholders for the Neural Network.  It should create the following placeholders:\n",
    "- Input text placeholder named \"input\" using the [TF Placeholder](https://www.tensorflow.org/api_docs/python/tf/placeholder) `name` parameter.\n",
    "- Targets placeholder\n",
    "- Learning Rate placeholder\n",
    "\n",
    "Return the placeholders in the following tuple `(Input, Targets, LearningRate)`"
   ]
  },
  {
   "cell_type": "code",
   "execution_count": 3,
   "metadata": {},
   "outputs": [
    {
     "name": "stdout",
     "output_type": "stream",
     "text": [
      "Tests Passed\n"
     ]
    }
   ],
   "source": [
    "def get_inputs():\n",
    "    \"\"\"\n",
    "    Create TF Placeholders for input, targets, and learning rate.\n",
    "    :return: Tuple (input, targets, learning rate)\n",
    "    \"\"\"\n",
    "    # TODO: Implement Function\n",
    "    input_ = tf.placeholder(tf.int32, [None, None], name='input')\n",
    "    targets = tf.placeholder(tf.int32, [None, None], name='targets')\n",
    "    lr = tf.placeholder(tf.float32, name='learning_rate')\n",
    "    return input_, targets, lr\n",
    "\n",
    "\n",
    "\"\"\"\n",
    "DON'T MODIFY ANYTHING IN THIS CELL THAT IS BELOW THIS LINE\n",
    "\"\"\"\n",
    "tests.test_get_inputs(get_inputs)"
   ]
  },
  {
   "cell_type": "markdown",
   "metadata": {},
   "source": [
    "### Build RNN Cell and Initialize\n",
    "Stack one or more [`BasicLSTMCells`](https://www.tensorflow.org/api_docs/python/tf/contrib/rnn/BasicLSTMCell) in a [`MultiRNNCell`](https://www.tensorflow.org/api_docs/python/tf/contrib/rnn/MultiRNNCell).\n",
    "- The Rnn size should be set using `rnn_size`\n",
    "- Initalize Cell State using the MultiRNNCell's [`zero_state()`](https://www.tensorflow.org/api_docs/python/tf/contrib/rnn/MultiRNNCell#zero_state) function\n",
    "    - Apply the name \"initial_state\" to the initial state using [`tf.identity()`](https://www.tensorflow.org/api_docs/python/tf/identity)\n",
    "\n",
    "Return the cell and initial state in the following tuple `(Cell, InitialState)`"
   ]
  },
  {
   "cell_type": "code",
   "execution_count": 4,
   "metadata": {},
   "outputs": [
    {
     "name": "stdout",
     "output_type": "stream",
     "text": [
      "Tests Passed\n"
     ]
    }
   ],
   "source": [
    "def get_init_cell(batch_size, rnn_size):\n",
    "    \"\"\"\n",
    "    Create an RNN Cell and initialize it.\n",
    "    :param batch_size: Size of batches\n",
    "    :param rnn_size: Size of RNNs\n",
    "    :return: Tuple (cell, initialize state)\n",
    "    \"\"\"\n",
    "    # TODO: Implement Function\n",
    "    def build_lstm():\n",
    "        lstm = tf.contrib.rnn.BasicLSTMCell(rnn_size)\n",
    "        # should we use dropout here?\n",
    "#         drop = tf.contrib.rnn.DropoutWrapper(lstm, output_keep_prob=keep_prob)\n",
    "        return lstm\n",
    "\n",
    "    # why isn't the layer size parameter defined?\n",
    "    cell = tf.contrib.rnn.MultiRNNCell([build_lstm() for _ in range(1)])\n",
    "    initial_state = cell.zero_state(batch_size, tf.float32)\n",
    "    initial_state = tf.identity(initial_state, name='initial_state')\n",
    "    return cell, initial_state\n",
    "\n",
    "\n",
    "\"\"\"\n",
    "DON'T MODIFY ANYTHING IN THIS CELL THAT IS BELOW THIS LINE\n",
    "\"\"\"\n",
    "tests.test_get_init_cell(get_init_cell)"
   ]
  },
  {
   "cell_type": "markdown",
   "metadata": {},
   "source": [
    "### Word Embedding\n",
    "Apply embedding to `input_data` using TensorFlow.  Return the embedded sequence."
   ]
  },
  {
   "cell_type": "code",
   "execution_count": 5,
   "metadata": {},
   "outputs": [
    {
     "name": "stdout",
     "output_type": "stream",
     "text": [
      "Tests Passed\n"
     ]
    }
   ],
   "source": [
    "def get_embed(input_data, vocab_size, embed_dim):\n",
    "    \"\"\"\n",
    "    Create embedding for <input_data>.\n",
    "    :param input_data: TF placeholder for text input.\n",
    "    :param vocab_size: Number of words in vocabulary.\n",
    "    :param embed_dim: Number of embedding dimensions\n",
    "    :return: Embedded input.\n",
    "    \"\"\"\n",
    "    # TODO: Implement Function\n",
    "    embedding = tf.Variable(tf.random_uniform([vocab_size, embed_dim], -1, 1))\n",
    "    embed = tf.nn.embedding_lookup(embedding, input_data)\n",
    "    return embed\n",
    "\n",
    "\n",
    "\"\"\"\n",
    "DON'T MODIFY ANYTHING IN THIS CELL THAT IS BELOW THIS LINE\n",
    "\"\"\"\n",
    "tests.test_get_embed(get_embed)"
   ]
  },
  {
   "cell_type": "markdown",
   "metadata": {},
   "source": [
    "### Build RNN\n",
    "You created a RNN Cell in the `get_init_cell()` function.  Time to use the cell to create a RNN.\n",
    "- Build the RNN using the [`tf.nn.dynamic_rnn()`](https://www.tensorflow.org/api_docs/python/tf/nn/dynamic_rnn)\n",
    " - Apply the name \"final_state\" to the final state using [`tf.identity()`](https://www.tensorflow.org/api_docs/python/tf/identity)\n",
    "\n",
    "Return the outputs and final_state state in the following tuple `(Outputs, FinalState)` "
   ]
  },
  {
   "cell_type": "code",
   "execution_count": 6,
   "metadata": {},
   "outputs": [
    {
     "name": "stdout",
     "output_type": "stream",
     "text": [
      "Tests Passed\n"
     ]
    }
   ],
   "source": [
    "def build_rnn(cell, inputs):\n",
    "    \"\"\"\n",
    "    Create a RNN using a RNN Cell\n",
    "    :param cell: RNN Cell\n",
    "    :param inputs: Input text data\n",
    "    :return: Tuple (Outputs, Final State)\n",
    "    \"\"\"\n",
    "    # TODO: Implement Function\n",
    "    outputs, final_state = tf.nn.dynamic_rnn(cell, inputs, dtype=tf.float32)\n",
    "    final_state = tf.identity(final_state, name='final_state')\n",
    "    return outputs, final_state\n",
    "\n",
    "\n",
    "\"\"\"\n",
    "DON'T MODIFY ANYTHING IN THIS CELL THAT IS BELOW THIS LINE\n",
    "\"\"\"\n",
    "tests.test_build_rnn(build_rnn)"
   ]
  },
  {
   "cell_type": "markdown",
   "metadata": {},
   "source": [
    "### Build the Neural Network\n",
    "Apply the functions you implemented above to:\n",
    "- Apply embedding to `input_data` using your `get_embed(input_data, vocab_size, embed_dim)` function.\n",
    "- Build RNN using `cell` and your `build_rnn(cell, inputs)` function.\n",
    "- Apply a fully connected layer with a linear activation and `vocab_size` as the number of outputs.\n",
    "\n",
    "Return the logits and final state in the following tuple (Logits, FinalState) "
   ]
  },
  {
   "cell_type": "code",
   "execution_count": 10,
   "metadata": {
    "scrolled": false
   },
   "outputs": [
    {
     "ename": "AssertionError",
     "evalue": "Final state wrong shape.  Found shape (2, 2, 128, 256)",
     "output_type": "error",
     "traceback": [
      "\u001b[0;31m---------------------------------------------------------------------------\u001b[0m",
      "\u001b[0;31mAssertionError\u001b[0m                            Traceback (most recent call last)",
      "\u001b[0;32m<ipython-input-10-8dd6a4e7fdd8>\u001b[0m in \u001b[0;36m<module>\u001b[0;34m()\u001b[0m\n\u001b[1;32m     29\u001b[0m \u001b[0mDON\u001b[0m\u001b[0;31m'\u001b[0m\u001b[0mT\u001b[0m \u001b[0mMODIFY\u001b[0m \u001b[0mANYTHING\u001b[0m \u001b[0mIN\u001b[0m \u001b[0mTHIS\u001b[0m \u001b[0mCELL\u001b[0m \u001b[0mTHAT\u001b[0m \u001b[0mIS\u001b[0m \u001b[0mBELOW\u001b[0m \u001b[0mTHIS\u001b[0m \u001b[0mLINE\u001b[0m\u001b[0;34m\u001b[0m\u001b[0m\n\u001b[1;32m     30\u001b[0m \"\"\"\n\u001b[0;32m---> 31\u001b[0;31m \u001b[0mtests\u001b[0m\u001b[0;34m.\u001b[0m\u001b[0mtest_build_nn\u001b[0m\u001b[0;34m(\u001b[0m\u001b[0mbuild_nn\u001b[0m\u001b[0;34m)\u001b[0m\u001b[0;34m\u001b[0m\u001b[0m\n\u001b[0m",
      "\u001b[0;32m~/Projects/deep-learning-nanodegree/tv-script-generation/problem_unittests.py\u001b[0m in \u001b[0;36mtest_build_nn\u001b[0;34m(build_nn)\u001b[0m\n\u001b[1;32m    265\u001b[0m             \u001b[0;34m'Outputs has wrong shape.  Found shape {}'\u001b[0m\u001b[0;34m.\u001b[0m\u001b[0mformat\u001b[0m\u001b[0;34m(\u001b[0m\u001b[0mlogits\u001b[0m\u001b[0;34m.\u001b[0m\u001b[0mget_shape\u001b[0m\u001b[0;34m(\u001b[0m\u001b[0;34m)\u001b[0m\u001b[0;34m)\u001b[0m\u001b[0;34m\u001b[0m\u001b[0m\n\u001b[1;32m    266\u001b[0m         \u001b[0;32massert\u001b[0m \u001b[0mfinal_state\u001b[0m\u001b[0;34m.\u001b[0m\u001b[0mget_shape\u001b[0m\u001b[0;34m(\u001b[0m\u001b[0;34m)\u001b[0m\u001b[0;34m.\u001b[0m\u001b[0mas_list\u001b[0m\u001b[0;34m(\u001b[0m\u001b[0;34m)\u001b[0m \u001b[0;34m==\u001b[0m \u001b[0;34m[\u001b[0m\u001b[0mtest_rnn_layer_size\u001b[0m\u001b[0;34m,\u001b[0m \u001b[0;36m2\u001b[0m\u001b[0;34m,\u001b[0m \u001b[0;32mNone\u001b[0m\u001b[0;34m,\u001b[0m \u001b[0mtest_rnn_size\u001b[0m\u001b[0;34m]\u001b[0m\u001b[0;34m,\u001b[0m\u001b[0;31m \u001b[0m\u001b[0;31m\\\u001b[0m\u001b[0;34m\u001b[0m\u001b[0m\n\u001b[0;32m--> 267\u001b[0;31m             \u001b[0;34m'Final state wrong shape.  Found shape {}'\u001b[0m\u001b[0;34m.\u001b[0m\u001b[0mformat\u001b[0m\u001b[0;34m(\u001b[0m\u001b[0mfinal_state\u001b[0m\u001b[0;34m.\u001b[0m\u001b[0mget_shape\u001b[0m\u001b[0;34m(\u001b[0m\u001b[0;34m)\u001b[0m\u001b[0;34m)\u001b[0m\u001b[0;34m\u001b[0m\u001b[0m\n\u001b[0m\u001b[1;32m    268\u001b[0m \u001b[0;34m\u001b[0m\u001b[0m\n\u001b[1;32m    269\u001b[0m     \u001b[0m_print_success_message\u001b[0m\u001b[0;34m(\u001b[0m\u001b[0;34m)\u001b[0m\u001b[0;34m\u001b[0m\u001b[0m\n",
      "\u001b[0;31mAssertionError\u001b[0m: Final state wrong shape.  Found shape (2, 2, 128, 256)"
     ]
    }
   ],
   "source": [
    "def build_nn(cell, rnn_size, input_data, vocab_size, embed_dim):\n",
    "    \"\"\"\n",
    "    Build part of the neural network\n",
    "    :param cell: RNN cell\n",
    "    :param rnn_size: Size of rnns\n",
    "    :param input_data: Input data\n",
    "    :param vocab_size: Vocabulary size\n",
    "    :param embed_dim: Number of embedding dimensions\n",
    "    :return: Tuple (Logits, FinalState)\n",
    "    \"\"\"\n",
    "    # TODO: Implement Function\n",
    "    embed = get_embed(input_data, vocab_size, embed_dim)\n",
    "    outputs, final_state = build_rnn(cell, embed)\n",
    "    \n",
    "    # this is how I tried to do 'manually' but it didn't work\n",
    "#     weights = tf.Variable(tf.truncated_normal([rnn_size, vocab_size]), name='weights')\n",
    "#     biases_shape = input_data.get_shape().as_list() + [vocab_size]\n",
    "#     biases = tf.Variable(tf.zeros(biases_shape), name='biases')\n",
    "#     logits = tf.tensordot(outputs, weights, [2, 0]) + biases\n",
    "\n",
    "    logits = tf.contrib.layers.fully_connected(outputs, vocab_size, activation_fn=None)\n",
    "\n",
    "    # please check out my comment in the cell below, I believe the implementation is fine\n",
    "    # but the fact that I'm running in TF 1.3 is causing the issue.\n",
    "    return logits, final_state\n",
    "\n",
    "\n",
    "\"\"\"\n",
    "DON'T MODIFY ANYTHING IN THIS CELL THAT IS BELOW THIS LINE\n",
    "\"\"\"\n",
    "tests.test_build_nn(build_nn)"
   ]
  },
  {
   "cell_type": "markdown",
   "metadata": {},
   "source": [
    "**comment by @arthurcgusmao:**\n",
    "Please consider if this test is still expected to work in TensorFlow 1.3. I believe the implementation is OK and there must be something in this version of TF that makes the 3rd dimension of the `final_state` be equal to the `batch_size`."
   ]
  },
  {
   "cell_type": "markdown",
   "metadata": {},
   "source": [
    "### Batches\n",
    "Implement `get_batches` to create batches of input and targets using `int_text`.  The batches should be a Numpy array with the shape `(number of batches, 2, batch size, sequence length)`. Each batch contains two elements:\n",
    "- The first element is a single batch of **input** with the shape `[batch size, sequence length]`\n",
    "- The second element is a single batch of **targets** with the shape `[batch size, sequence length]`\n",
    "\n",
    "If you can't fill the last batch with enough data, drop the last batch.\n",
    "\n",
    "For exmple, `get_batches([1, 2, 3, 4, 5, 6, 7, 8, 9, 10, 11, 12, 13, 14, 15, 16, 17, 18, 19, 20], 3, 2)` would return a Numpy array of the following:\n",
    "```\n",
    "[\n",
    "  # First Batch\n",
    "  [\n",
    "    # Batch of Input\n",
    "    [[ 1  2], [ 7  8], [13 14]]\n",
    "    # Batch of targets\n",
    "    [[ 2  3], [ 8  9], [14 15]]\n",
    "  ]\n",
    "\n",
    "  # Second Batch\n",
    "  [\n",
    "    # Batch of Input\n",
    "    [[ 3  4], [ 9 10], [15 16]]\n",
    "    # Batch of targets\n",
    "    [[ 4  5], [10 11], [16 17]]\n",
    "  ]\n",
    "\n",
    "  # Third Batch\n",
    "  [\n",
    "    # Batch of Input\n",
    "    [[ 5  6], [11 12], [17 18]]\n",
    "    # Batch of targets\n",
    "    [[ 6  7], [12 13], [18  1]]\n",
    "  ]\n",
    "]\n",
    "```\n",
    "\n",
    "Notice that the last target value in the last batch is the first input value of the first batch. In this case, `1`. This is a common technique used when creating sequence batches, although it is rather unintuitive."
   ]
  },
  {
   "cell_type": "code",
   "execution_count": 14,
   "metadata": {},
   "outputs": [
    {
     "name": "stdout",
     "output_type": "stream",
     "text": [
      "Tests Passed\n"
     ]
    }
   ],
   "source": [
    "def get_batches(int_text, batch_size, seq_length):\n",
    "    \"\"\"\n",
    "    Return batches of input and target\n",
    "    :param int_text: Text with the words replaced by their ids\n",
    "    :param batch_size: The size of batch\n",
    "    :param seq_length: The length of sequence\n",
    "    :return: Batches as a Numpy array\n",
    "    \"\"\"\n",
    "    # TODO: Implement Function\n",
    "    n_el_per_batch = batch_size * seq_length\n",
    "    n_batches = len(int_text) // n_el_per_batch\n",
    "    \n",
    "    # drop exceeding elements\n",
    "    n_exceeding = len(int_text) % n_el_per_batch\n",
    "    int_text = int_text[:-n_exceeding]\n",
    "    \n",
    "    len_text = len(int_text)\n",
    "    row_length = len_text // batch_size # that is = n_batches * seq_lenght\n",
    "    output = []\n",
    "    for b in range(n_batches): # for each batch\n",
    "        batch_inputs = []\n",
    "        batch_labels = []\n",
    "        for i in range(0, len_text, row_length): # for each sequence\n",
    "            seq_start = i + b * seq_length\n",
    "            seq_end = seq_start + seq_length\n",
    "            \n",
    "            seq_inputs = int_text[seq_start:seq_end]\n",
    "            seq_labels = int_text[seq_start+1:seq_end+1]\n",
    "            \n",
    "            if seq_end+1 > len_text:\n",
    "                seq_labels.append(int_text[0])\n",
    "                \n",
    "            batch_inputs.append(seq_inputs)\n",
    "            batch_labels.append(seq_labels)\n",
    "        \n",
    "        output.append([batch_inputs, batch_labels])\n",
    "    return np.array(output)\n",
    "\n",
    "\n",
    "\"\"\"\n",
    "DON'T MODIFY ANYTHING IN THIS CELL THAT IS BELOW THIS LINE\n",
    "\"\"\"\n",
    "tests.test_get_batches(get_batches)"
   ]
  },
  {
   "cell_type": "markdown",
   "metadata": {},
   "source": [
    "## Neural Network Training\n",
    "### Hyperparameters\n",
    "Tune the following parameters:\n",
    "\n",
    "- Set `num_epochs` to the number of epochs.\n",
    "- Set `batch_size` to the batch size.\n",
    "- Set `rnn_size` to the size of the RNNs.\n",
    "- Set `embed_dim` to the size of the embedding.\n",
    "- Set `seq_length` to the length of sequence.\n",
    "- Set `learning_rate` to the learning rate.\n",
    "- Set `show_every_n_batches` to the number of batches the neural network should print progress."
   ]
  },
  {
   "cell_type": "code",
   "execution_count": 48,
   "metadata": {
    "collapsed": true
   },
   "outputs": [],
   "source": [
    "# Number of Epochs\n",
    "num_epochs = 500\n",
    "# Batch Size\n",
    "batch_size = 64\n",
    "# RNN Size\n",
    "rnn_size = 128\n",
    "# Embedding Dimension Size\n",
    "embed_dim = 50\n",
    "# Sequence Length\n",
    "seq_length = 165\n",
    "# Learning Rate\n",
    "learning_rate = 0.05\n",
    "# Show stats for every n number of batches\n",
    "show_every_n_batches = 16\n",
    "\n",
    "\"\"\"\n",
    "DON'T MODIFY ANYTHING IN THIS CELL THAT IS BELOW THIS LINE\n",
    "\"\"\"\n",
    "save_dir = './save'"
   ]
  },
  {
   "cell_type": "markdown",
   "metadata": {},
   "source": [
    "### Build the Graph\n",
    "Build the graph using the neural network you implemented."
   ]
  },
  {
   "cell_type": "code",
   "execution_count": 49,
   "metadata": {
    "collapsed": true
   },
   "outputs": [],
   "source": [
    "\"\"\"\n",
    "DON'T MODIFY ANYTHING IN THIS CELL\n",
    "\"\"\"\n",
    "from tensorflow.contrib import seq2seq\n",
    "\n",
    "train_graph = tf.Graph()\n",
    "with train_graph.as_default():\n",
    "    vocab_size = len(int_to_vocab)\n",
    "    input_text, targets, lr = get_inputs()\n",
    "    input_data_shape = tf.shape(input_text)\n",
    "    cell, initial_state = get_init_cell(input_data_shape[0], rnn_size)\n",
    "    logits, final_state = build_nn(cell, rnn_size, input_text, vocab_size, embed_dim)\n",
    "\n",
    "    # Probabilities for generating words\n",
    "    probs = tf.nn.softmax(logits, name='probs')\n",
    "\n",
    "    # Loss function\n",
    "    cost = seq2seq.sequence_loss(\n",
    "        logits,\n",
    "        targets,\n",
    "        tf.ones([input_data_shape[0], input_data_shape[1]]))\n",
    "\n",
    "    # Optimizer\n",
    "    optimizer = tf.train.AdamOptimizer(lr)\n",
    "\n",
    "    # Gradient Clipping\n",
    "    gradients = optimizer.compute_gradients(cost)\n",
    "    capped_gradients = [(tf.clip_by_value(grad, -1., 1.), var) for grad, var in gradients if grad is not None]\n",
    "    train_op = optimizer.apply_gradients(capped_gradients)"
   ]
  },
  {
   "cell_type": "markdown",
   "metadata": {},
   "source": [
    "## Train\n",
    "Train the neural network on the preprocessed data.  If you have a hard time getting a good loss, check the [forums](https://discussions.udacity.com/) to see if anyone is having the same problem."
   ]
  },
  {
   "cell_type": "code",
   "execution_count": 50,
   "metadata": {},
   "outputs": [
    {
     "name": "stdout",
     "output_type": "stream",
     "text": [
      "Epoch   0 Batch    0/6   train_loss = 8.821\n",
      "Epoch   2 Batch    4/6   train_loss = 5.869\n",
      "Epoch   5 Batch    2/6   train_loss = 5.176\n",
      "Epoch   8 Batch    0/6   train_loss = 4.751\n",
      "Epoch  10 Batch    4/6   train_loss = 4.444\n",
      "Epoch  13 Batch    2/6   train_loss = 4.040\n",
      "Epoch  16 Batch    0/6   train_loss = 3.814\n",
      "Epoch  18 Batch    4/6   train_loss = 3.637\n",
      "Epoch  21 Batch    2/6   train_loss = 3.393\n",
      "Epoch  24 Batch    0/6   train_loss = 3.290\n",
      "Epoch  26 Batch    4/6   train_loss = 3.187\n",
      "Epoch  29 Batch    2/6   train_loss = 2.993\n",
      "Epoch  32 Batch    0/6   train_loss = 2.947\n",
      "Epoch  34 Batch    4/6   train_loss = 2.892\n",
      "Epoch  37 Batch    2/6   train_loss = 2.731\n",
      "Epoch  40 Batch    0/6   train_loss = 2.670\n",
      "Epoch  42 Batch    4/6   train_loss = 2.572\n",
      "Epoch  45 Batch    2/6   train_loss = 2.480\n",
      "Epoch  48 Batch    0/6   train_loss = 2.457\n",
      "Epoch  50 Batch    4/6   train_loss = 2.371\n",
      "Epoch  53 Batch    2/6   train_loss = 2.289\n",
      "Epoch  56 Batch    0/6   train_loss = 2.278\n",
      "Epoch  58 Batch    4/6   train_loss = 2.219\n",
      "Epoch  61 Batch    2/6   train_loss = 2.180\n",
      "Epoch  64 Batch    0/6   train_loss = 2.172\n",
      "Epoch  66 Batch    4/6   train_loss = 2.093\n",
      "Epoch  69 Batch    2/6   train_loss = 2.020\n",
      "Epoch  72 Batch    0/6   train_loss = 2.032\n",
      "Epoch  74 Batch    4/6   train_loss = 1.949\n",
      "Epoch  77 Batch    2/6   train_loss = 1.885\n",
      "Epoch  80 Batch    0/6   train_loss = 1.888\n",
      "Epoch  82 Batch    4/6   train_loss = 1.835\n",
      "Epoch  85 Batch    2/6   train_loss = 1.788\n",
      "Epoch  88 Batch    0/6   train_loss = 1.821\n",
      "Epoch  90 Batch    4/6   train_loss = 1.803\n",
      "Epoch  93 Batch    2/6   train_loss = 1.790\n",
      "Epoch  96 Batch    0/6   train_loss = 1.810\n",
      "Epoch  98 Batch    4/6   train_loss = 1.748\n",
      "Epoch 101 Batch    2/6   train_loss = 1.711\n",
      "Epoch 104 Batch    0/6   train_loss = 1.742\n",
      "Epoch 106 Batch    4/6   train_loss = 1.735\n",
      "Epoch 109 Batch    2/6   train_loss = 1.704\n",
      "Epoch 112 Batch    0/6   train_loss = 1.709\n",
      "Epoch 114 Batch    4/6   train_loss = 1.647\n",
      "Epoch 117 Batch    2/6   train_loss = 1.604\n",
      "Epoch 120 Batch    0/6   train_loss = 1.609\n",
      "Epoch 122 Batch    4/6   train_loss = 1.552\n",
      "Epoch 125 Batch    2/6   train_loss = 1.512\n",
      "Epoch 128 Batch    0/6   train_loss = 1.533\n",
      "Epoch 130 Batch    4/6   train_loss = 1.483\n",
      "Epoch 133 Batch    2/6   train_loss = 1.455\n",
      "Epoch 136 Batch    0/6   train_loss = 1.488\n",
      "Epoch 138 Batch    4/6   train_loss = 1.467\n",
      "Epoch 141 Batch    2/6   train_loss = 1.452\n",
      "Epoch 144 Batch    0/6   train_loss = 1.468\n",
      "Epoch 146 Batch    4/6   train_loss = 1.430\n",
      "Epoch 149 Batch    2/6   train_loss = 1.399\n",
      "Epoch 152 Batch    0/6   train_loss = 1.444\n",
      "Epoch 154 Batch    4/6   train_loss = 1.396\n",
      "Epoch 157 Batch    2/6   train_loss = 1.395\n",
      "Epoch 160 Batch    0/6   train_loss = 1.440\n",
      "Epoch 162 Batch    4/6   train_loss = 1.423\n",
      "Epoch 165 Batch    2/6   train_loss = 1.429\n",
      "Epoch 168 Batch    0/6   train_loss = 1.463\n",
      "Epoch 170 Batch    4/6   train_loss = 1.426\n",
      "Epoch 173 Batch    2/6   train_loss = 1.436\n",
      "Epoch 176 Batch    0/6   train_loss = 1.471\n",
      "Epoch 178 Batch    4/6   train_loss = 1.466\n",
      "Epoch 181 Batch    2/6   train_loss = 1.440\n",
      "Epoch 184 Batch    0/6   train_loss = 1.479\n",
      "Epoch 186 Batch    4/6   train_loss = 1.452\n",
      "Epoch 189 Batch    2/6   train_loss = 1.413\n",
      "Epoch 192 Batch    0/6   train_loss = 1.428\n",
      "Epoch 194 Batch    4/6   train_loss = 1.361\n",
      "Epoch 197 Batch    2/6   train_loss = 1.335\n",
      "Epoch 200 Batch    0/6   train_loss = 1.345\n",
      "Epoch 202 Batch    4/6   train_loss = 1.262\n",
      "Epoch 205 Batch    2/6   train_loss = 1.253\n",
      "Epoch 208 Batch    0/6   train_loss = 1.294\n",
      "Epoch 210 Batch    4/6   train_loss = 1.232\n",
      "Epoch 213 Batch    2/6   train_loss = 1.233\n",
      "Epoch 216 Batch    0/6   train_loss = 1.249\n",
      "Epoch 218 Batch    4/6   train_loss = 1.188\n",
      "Epoch 221 Batch    2/6   train_loss = 1.199\n",
      "Epoch 224 Batch    0/6   train_loss = 1.246\n",
      "Epoch 226 Batch    4/6   train_loss = 1.187\n",
      "Epoch 229 Batch    2/6   train_loss = 1.230\n",
      "Epoch 232 Batch    0/6   train_loss = 1.274\n",
      "Epoch 234 Batch    4/6   train_loss = 1.253\n",
      "Epoch 237 Batch    2/6   train_loss = 1.280\n",
      "Epoch 240 Batch    0/6   train_loss = 1.370\n",
      "Epoch 242 Batch    4/6   train_loss = 1.359\n",
      "Epoch 245 Batch    2/6   train_loss = 1.377\n",
      "Epoch 248 Batch    0/6   train_loss = 1.389\n",
      "Epoch 250 Batch    4/6   train_loss = 1.339\n",
      "Epoch 253 Batch    2/6   train_loss = 1.325\n",
      "Epoch 256 Batch    0/6   train_loss = 1.373\n",
      "Epoch 258 Batch    4/6   train_loss = 1.365\n",
      "Epoch 261 Batch    2/6   train_loss = 1.356\n",
      "Epoch 264 Batch    0/6   train_loss = 1.381\n",
      "Epoch 266 Batch    4/6   train_loss = 1.297\n",
      "Epoch 269 Batch    2/6   train_loss = 1.295\n",
      "Epoch 272 Batch    0/6   train_loss = 1.288\n",
      "Epoch 274 Batch    4/6   train_loss = 1.201\n",
      "Epoch 277 Batch    2/6   train_loss = 1.189\n",
      "Epoch 280 Batch    0/6   train_loss = 1.223\n",
      "Epoch 282 Batch    4/6   train_loss = 1.159\n",
      "Epoch 285 Batch    2/6   train_loss = 1.156\n",
      "Epoch 288 Batch    0/6   train_loss = 1.181\n",
      "Epoch 290 Batch    4/6   train_loss = 1.105\n",
      "Epoch 293 Batch    2/6   train_loss = 1.106\n",
      "Epoch 296 Batch    0/6   train_loss = 1.134\n",
      "Epoch 298 Batch    4/6   train_loss = 1.090\n",
      "Epoch 301 Batch    2/6   train_loss = 1.122\n",
      "Epoch 304 Batch    0/6   train_loss = 1.159\n",
      "Epoch 306 Batch    4/6   train_loss = 1.114\n",
      "Epoch 309 Batch    2/6   train_loss = 1.128\n",
      "Epoch 312 Batch    0/6   train_loss = 1.170\n",
      "Epoch 314 Batch    4/6   train_loss = 1.129\n",
      "Epoch 317 Batch    2/6   train_loss = 1.146\n",
      "Epoch 320 Batch    0/6   train_loss = 1.193\n",
      "Epoch 322 Batch    4/6   train_loss = 1.179\n",
      "Epoch 325 Batch    2/6   train_loss = 1.256\n",
      "Epoch 328 Batch    0/6   train_loss = 1.291\n",
      "Epoch 330 Batch    4/6   train_loss = 1.267\n",
      "Epoch 333 Batch    2/6   train_loss = 1.355\n",
      "Epoch 336 Batch    0/6   train_loss = 1.420\n",
      "Epoch 338 Batch    4/6   train_loss = 1.402\n",
      "Epoch 341 Batch    2/6   train_loss = 1.422\n",
      "Epoch 344 Batch    0/6   train_loss = 1.443\n",
      "Epoch 346 Batch    4/6   train_loss = 1.383\n",
      "Epoch 349 Batch    2/6   train_loss = 1.391\n",
      "Epoch 352 Batch    0/6   train_loss = 1.394\n",
      "Epoch 354 Batch    4/6   train_loss = 1.358\n",
      "Epoch 357 Batch    2/6   train_loss = 1.391\n",
      "Epoch 360 Batch    0/6   train_loss = 1.378\n",
      "Epoch 362 Batch    4/6   train_loss = 1.312\n",
      "Epoch 365 Batch    2/6   train_loss = 1.313\n",
      "Epoch 368 Batch    0/6   train_loss = 1.316\n",
      "Epoch 370 Batch    4/6   train_loss = 1.190\n",
      "Epoch 373 Batch    2/6   train_loss = 1.174\n",
      "Epoch 376 Batch    0/6   train_loss = 1.185\n",
      "Epoch 378 Batch    4/6   train_loss = 1.105\n",
      "Epoch 381 Batch    2/6   train_loss = 1.090\n",
      "Epoch 384 Batch    0/6   train_loss = 1.122\n",
      "Epoch 386 Batch    4/6   train_loss = 1.054\n",
      "Epoch 389 Batch    2/6   train_loss = 1.081\n",
      "Epoch 392 Batch    0/6   train_loss = 1.092\n",
      "Epoch 394 Batch    4/6   train_loss = 1.039\n",
      "Epoch 397 Batch    2/6   train_loss = 1.061\n",
      "Epoch 400 Batch    0/6   train_loss = 1.098\n",
      "Epoch 402 Batch    4/6   train_loss = 1.015\n",
      "Epoch 405 Batch    2/6   train_loss = 1.016\n",
      "Epoch 408 Batch    0/6   train_loss = 1.071\n",
      "Epoch 410 Batch    4/6   train_loss = 1.016\n",
      "Epoch 413 Batch    2/6   train_loss = 1.030\n",
      "Epoch 416 Batch    0/6   train_loss = 1.073\n",
      "Epoch 418 Batch    4/6   train_loss = 1.037\n",
      "Epoch 421 Batch    2/6   train_loss = 1.062\n",
      "Epoch 424 Batch    0/6   train_loss = 1.105\n",
      "Epoch 426 Batch    4/6   train_loss = 1.055\n",
      "Epoch 429 Batch    2/6   train_loss = 1.067\n",
      "Epoch 432 Batch    0/6   train_loss = 1.113\n",
      "Epoch 434 Batch    4/6   train_loss = 1.090\n",
      "Epoch 437 Batch    2/6   train_loss = 1.161\n",
      "Epoch 440 Batch    0/6   train_loss = 1.233\n",
      "Epoch 442 Batch    4/6   train_loss = 1.230\n",
      "Epoch 445 Batch    2/6   train_loss = 1.308\n",
      "Epoch 448 Batch    0/6   train_loss = 1.408\n",
      "Epoch 450 Batch    4/6   train_loss = 1.411\n",
      "Epoch 453 Batch    2/6   train_loss = 1.463\n",
      "Epoch 456 Batch    0/6   train_loss = 1.558\n",
      "Epoch 458 Batch    4/6   train_loss = 1.574\n",
      "Epoch 461 Batch    2/6   train_loss = 1.599\n",
      "Epoch 464 Batch    0/6   train_loss = 1.604\n",
      "Epoch 466 Batch    4/6   train_loss = 1.551\n",
      "Epoch 469 Batch    2/6   train_loss = 1.474\n",
      "Epoch 472 Batch    0/6   train_loss = 1.579\n",
      "Epoch 474 Batch    4/6   train_loss = 1.481\n",
      "Epoch 477 Batch    2/6   train_loss = 1.470\n",
      "Epoch 480 Batch    0/6   train_loss = 1.406\n",
      "Epoch 482 Batch    4/6   train_loss = 1.314\n",
      "Epoch 485 Batch    2/6   train_loss = 1.289\n",
      "Epoch 488 Batch    0/6   train_loss = 1.277\n",
      "Epoch 490 Batch    4/6   train_loss = 1.201\n",
      "Epoch 493 Batch    2/6   train_loss = 1.199\n",
      "Epoch 496 Batch    0/6   train_loss = 1.202\n"
     ]
    },
    {
     "name": "stdout",
     "output_type": "stream",
     "text": [
      "Epoch 498 Batch    4/6   train_loss = 1.125\n",
      "Model Trained and Saved\n"
     ]
    }
   ],
   "source": [
    "\"\"\"\n",
    "DON'T MODIFY ANYTHING IN THIS CELL\n",
    "\"\"\"\n",
    "batches = get_batches(int_text, batch_size, seq_length)\n",
    "\n",
    "with tf.Session(graph=train_graph) as sess:\n",
    "    sess.run(tf.global_variables_initializer())\n",
    "\n",
    "    for epoch_i in range(num_epochs):\n",
    "        state = sess.run(initial_state, {input_text: batches[0][0]})\n",
    "\n",
    "        for batch_i, (x, y) in enumerate(batches):\n",
    "            feed = {\n",
    "                input_text: x,\n",
    "                targets: y,\n",
    "                initial_state: state,\n",
    "                lr: learning_rate}\n",
    "            train_loss, state, _ = sess.run([cost, final_state, train_op], feed)\n",
    "\n",
    "            # Show every <show_every_n_batches> batches\n",
    "            if (epoch_i * len(batches) + batch_i) % show_every_n_batches == 0:\n",
    "                print('Epoch {:>3} Batch {:>4}/{}   train_loss = {:.3f}'.format(\n",
    "                    epoch_i,\n",
    "                    batch_i,\n",
    "                    len(batches),\n",
    "                    train_loss))\n",
    "\n",
    "    # Save Model\n",
    "    saver = tf.train.Saver()\n",
    "    saver.save(sess, save_dir)\n",
    "    print('Model Trained and Saved')"
   ]
  },
  {
   "cell_type": "markdown",
   "metadata": {},
   "source": [
    "## Save Parameters\n",
    "Save `seq_length` and `save_dir` for generating a new TV script."
   ]
  },
  {
   "cell_type": "code",
   "execution_count": 51,
   "metadata": {
    "collapsed": true
   },
   "outputs": [],
   "source": [
    "\"\"\"\n",
    "DON'T MODIFY ANYTHING IN THIS CELL\n",
    "\"\"\"\n",
    "# Save parameters for checkpoint\n",
    "helper.save_params((seq_length, save_dir))"
   ]
  },
  {
   "cell_type": "markdown",
   "metadata": {},
   "source": [
    "# Checkpoint"
   ]
  },
  {
   "cell_type": "code",
   "execution_count": 1,
   "metadata": {
    "collapsed": true
   },
   "outputs": [],
   "source": [
    "\"\"\"\n",
    "DON'T MODIFY ANYTHING IN THIS CELL\n",
    "\"\"\"\n",
    "import tensorflow as tf\n",
    "import numpy as np\n",
    "import helper\n",
    "import problem_unittests as tests\n",
    "\n",
    "_, vocab_to_int, int_to_vocab, token_dict = helper.load_preprocess()\n",
    "seq_length, load_dir = helper.load_params()"
   ]
  },
  {
   "cell_type": "markdown",
   "metadata": {},
   "source": [
    "## Implement Generate Functions\n",
    "### Get Tensors\n",
    "Get tensors from `loaded_graph` using the function [`get_tensor_by_name()`](https://www.tensorflow.org/api_docs/python/tf/Graph#get_tensor_by_name).  Get the tensors using the following names:\n",
    "- \"input:0\"\n",
    "- \"initial_state:0\"\n",
    "- \"final_state:0\"\n",
    "- \"probs:0\"\n",
    "\n",
    "Return the tensors in the following tuple `(InputTensor, InitialStateTensor, FinalStateTensor, ProbsTensor)` "
   ]
  },
  {
   "cell_type": "code",
   "execution_count": 2,
   "metadata": {},
   "outputs": [
    {
     "name": "stdout",
     "output_type": "stream",
     "text": [
      "Tests Passed\n"
     ]
    }
   ],
   "source": [
    "def get_tensors(loaded_graph):\n",
    "    \"\"\"\n",
    "    Get input, initial state, final state, and probabilities tensor from <loaded_graph>\n",
    "    :param loaded_graph: TensorFlow graph loaded from file\n",
    "    :return: Tuple (InputTensor, InitialStateTensor, FinalStateTensor, ProbsTensor)\n",
    "    \"\"\"\n",
    "    # TODO: Implement Function\n",
    "    input_ = loaded_graph.get_tensor_by_name('input:0')\n",
    "    initial_state = loaded_graph.get_tensor_by_name('initial_state:0')\n",
    "    final_state = loaded_graph.get_tensor_by_name('final_state:0')\n",
    "    probs = loaded_graph.get_tensor_by_name('probs:0')\n",
    "    return input_, initial_state, final_state, probs\n",
    "\n",
    "\n",
    "\"\"\"\n",
    "DON'T MODIFY ANYTHING IN THIS CELL THAT IS BELOW THIS LINE\n",
    "\"\"\"\n",
    "tests.test_get_tensors(get_tensors)"
   ]
  },
  {
   "cell_type": "markdown",
   "metadata": {},
   "source": [
    "### Choose Word\n",
    "Implement the `pick_word()` function to select the next word using `probabilities`."
   ]
  },
  {
   "cell_type": "code",
   "execution_count": 34,
   "metadata": {},
   "outputs": [
    {
     "name": "stdout",
     "output_type": "stream",
     "text": [
      "[ 0.1   0.8   0.05  0.05]\n",
      "[1] <class 'numpy.ndarray'>\n",
      "1 <class 'int'>\n",
      "{0: 'this', 1: 'is', 2: 'a', 3: 'test'}\n",
      "output: is\n",
      "Tests Passed\n"
     ]
    }
   ],
   "source": [
    "def pick_word(probabilities, int_to_vocab):\n",
    "    \"\"\"\n",
    "    Pick the next word in the generated text\n",
    "    :param probabilities: Probabilites of the next word\n",
    "    :param int_to_vocab: Dictionary of word ids as the keys and words as the values\n",
    "    :return: String of the predicted word\n",
    "    \"\"\"\n",
    "    # TODO: Implement Function\n",
    "    print(probabilities)\n",
    "    probabilities = [[1.5, 5.8, 0.9]]\n",
    "    max_index = tf.Session().run(tf.argmax(probabilities, axis=-1))\n",
    "    print(max_index, type(max_index))\n",
    "    max_index = int(max_index)\n",
    "    print(max_index, type(max_index))\n",
    "    print(int_to_vocab)\n",
    "    output = int_to_vocab[int(max_index)]\n",
    "    print('output:', output)\n",
    "    return output\n",
    "\n",
    "\n",
    "\"\"\"\n",
    "DON'T MODIFY ANYTHING IN THIS CELL THAT IS BELOW THIS LINE\n",
    "\"\"\"\n",
    "tests.test_pick_word(pick_word)"
   ]
  },
  {
   "cell_type": "markdown",
   "metadata": {},
   "source": [
    "## Generate TV Script\n",
    "This will generate the TV script for you.  Set `gen_length` to the length of TV script you want to generate."
   ]
  },
  {
   "cell_type": "code",
   "execution_count": 39,
   "metadata": {},
   "outputs": [
    {
     "name": "stdout",
     "output_type": "stream",
     "text": [
      "INFO:tensorflow:Restoring parameters from ./save\n",
      "probbbb: [[[  7.14754351e-05   2.38253870e-06   7.48807332e-03 ...,   4.68829350e-11\n",
      "     4.86329622e-11   5.28103186e-11]]]\n",
      "dyn_seq_length-1: 0\n",
      "probbbb_indexed: [[  7.14754351e-05   2.38253870e-06   7.48807332e-03 ...,   4.68829350e-11\n",
      "    4.86329622e-11   5.28103186e-11]]\n",
      "[[  7.14754351e-05   2.38253870e-06   7.48807332e-03 ...,   4.68829350e-11\n",
      "    4.86329622e-11   5.28103186e-11]]\n",
      "[1] <class 'numpy.ndarray'>\n",
      "1 <class 'int'>\n",
      "{0: '||period||', 1: '||newline||', 2: '||comma||', 3: '||left_parenthesis||', 4: '||right_parenthesis||', 5: 'the', 6: 'i', 7: 'you', 8: '||exclamation_mark||', 9: 'moe_szyslak:', 10: '||question_mark||', 11: 'a', 12: 'homer_simpson:', 13: 'to', 14: 'and', 15: 'of', 16: 'my', 17: 'it', 18: 'that', 19: 'in', 20: '||quotation_mark||', 21: 'me', 22: 'is', 23: 'this', 24: \"i'm\", 25: 'for', 26: 'your', 27: 'homer', 28: 'on', 29: 'hey', 30: 'moe', 31: 'oh', 32: 'no', 33: 'lenny_leonard:', 34: 'what', 35: 'with', 36: 'yeah', 37: 'all', 38: 'just', 39: 'like', 40: 'but', 41: 'barney_gumble:', 42: 'so', 43: 'be', 44: 'here', 45: 'carl_carlson:', 46: \"don't\", 47: 'have', 48: 'up', 49: \"it's\", 50: 'well', 51: 'out', 52: 'do', 53: 'was', 54: 'got', 55: 'are', 56: 'get', 57: 'we', 58: 'uh', 59: \"that's\", 60: 'one', 61: \"you're\", 62: 'not', 63: 'now', 64: 'can', 65: 'know', 66: '||dash||', 67: 'at', 68: 'right', 69: '/', 70: 'how', 71: 'if', 72: 'back', 73: 'marge_simpson:', 74: 'about', 75: 'he', 76: 'from', 77: 'go', 78: 'gonna', 79: 'there', 80: 'they', 81: 'beer', 82: 'good', 83: 'who', 84: 'an', 85: 'man', 86: 'okay', 87: 'little', 88: 'his', 89: 'as', 90: 'some', 91: \"can't\", 92: 'then', 93: 'never', 94: \"i'll\", 95: 'think', 96: 'come', 97: 'could', 98: 'him', 99: \"i've\", 100: 'see', 101: 'want', 102: 'really', 103: 'look', 104: 'too', 105: 'guys', 106: 'been', 107: 'when', 108: 'make', 109: 'why', 110: 'ya', 111: 'bar', 112: 'her', 113: 'did', 114: 'time', 115: 'say', 116: 'ah', 117: 'or', 118: 'gotta', 119: 'marge', 120: 'take', 121: 'into', 122: 'love', 123: 'down', 124: 'more', 125: 'our', 126: 'am', 127: 'off', 128: 'guy', 129: 'sure', 130: 'barney', 131: 'two', 132: \"there's\", 133: 'thing', 134: 'lisa_simpson:', 135: 'would', 136: \"we're\", 137: 'where', 138: \"he's\", 139: 'had', 140: 'big', 141: 'tell', 142: 'let', 143: 'need', 144: 'money', 145: 'drink', 146: 'bart_simpson:', 147: \"what's\", 148: 'sorry', 149: 'over', 150: 'us', 151: 'something', 152: 'only', 153: 'ever', 154: 'by', 155: 'day', 156: 'will', 157: 'way', 158: 'wait', 159: 'she', 160: 'chief_wiggum:', 161: 'give', 162: 'even', 163: 'huh', 164: 'new', 165: \"i'd\", 166: 'god', 167: \"didn't\", 168: \"ain't\", 169: 'those', 170: 'great', 171: 'people', 172: 'phone', 173: \"moe's\", 174: 'eh', 175: 'has', 176: 'life', 177: 'much', 178: 'maybe', 179: 'lenny', 180: 'were', 181: 'than', 182: 'going', 183: 'mean', 184: 'place', 185: 'these', 186: 'should', 187: 'mr', 188: 'around', 189: \"you've\", 190: 'better', 191: 'wanna', 192: 'still', 193: 'help', 194: 'friend', 195: 'old', 196: 'home', 197: \"'em\", 198: 'name', 199: 'please', 200: 'night', 201: 'before', 202: 'noise', 203: 'last', 204: 'whoa', 205: 'tv', 206: 'aw', 207: 'seymour_skinner:', 208: 'boy', 209: 'face', 210: 'any', 211: 'made', 212: 'hello', 213: 'call', 214: 'thanks', 215: 'duff', 216: 'three', 217: 'drunk', 218: 'put', 219: \"'cause\", 220: 'listen', 221: 'their', 222: 'looking', 223: 'car', 224: 'bad', 225: 'again', 226: 'first', 227: 'very', 228: \"let's\", 229: 'best', 230: 'does', 231: 'wow', 232: 'yes', 233: 'another', 234: 'looks', 235: 'every', 236: 'ooh', 237: 'while', 238: 'them', 239: 'kent_brockman:', 240: 'said', 241: 'work', 242: 'wife', 243: 'other', 244: 'guess', 245: 'apu_nahasapeemapetilon:', 246: 'dad', 247: 'sweet', 248: \"won't\", 249: 'play', 250: 'feel', 251: 'tonight', 252: 'years', 253: 'singing', 254: 'springfield', 255: 'thought', 256: 'sobs', 257: 'everybody', 258: 'find', 259: 'voice', 260: \"they're\", 261: 'after', 262: 'dr', 263: 'things', 264: 'buy', 265: 'kids', 266: 'might', 267: 'check', 268: 'nice', 269: 'keep', 270: 'happy', 271: 'minute', 272: 'girl', 273: 'since', 274: 'head', 275: 'because', 276: 'shut', 277: 'show', 278: 'beat', 279: 'world', 280: 'sighs', 281: 'use', 282: 'bart', 283: \"who's\", 284: 'lisa', 285: 'sings', 286: 'chuckle', 287: 'friends', 288: 'always', 289: \"isn't\", 290: \"you'll\", 291: 'stupid', 292: 'kid', 293: 'c', 294: 'someone', 295: 'krusty_the_clown:', 296: 'ow', 297: 'which', 298: 'carl', 299: 'seen', 300: 'lot', 301: 'remember', 302: 'hundred', 303: 'anything', 304: 'laugh', 305: \"here's\", 306: 'talk', 307: 'job', 308: 'chuckles', 309: 'next', 310: 'glass', 311: 'through', 312: 'hell', 313: 'thank', 314: 'simpson', 315: 'laughs', 316: 'matter', 317: 'pretty', 318: 'five', 319: 'lost', 320: 'house', 321: 'says', 322: 'away', 323: 'hear', 324: 'long', 325: 'outta', 326: 'kind', 327: \"nothin'\", 328: 'hope', 329: 'woman', 330: 'happened', 331: 'believe', 332: 'tavern', 333: 'nervous', 334: 'once', 335: 'four', 336: 'family', 337: 'turn', 338: \"c'mon\", 339: '_montgomery_burns:', 340: 'waylon_smithers:', 341: 'book', 342: 'comes', 343: 'real', 344: 'wish', 345: \"homer's\", 346: 'stop', 347: 'ned_flanders:', 348: 'fat', 349: 'actually', 350: 'business', 351: 'myself', 352: 'idea', 353: 'ask', 354: 'game', 355: 'grampa_simpson:', 356: \"goin'\", 357: 'wants', 358: 'wrong', 359: \"doin'\", 360: 'used', 361: 'loud', 362: 'today', 363: 'party', 364: 'enough', 365: 'nobody', 366: 'burns', 367: \"we've\", 368: 'done', 369: 'problem', 370: 'town', 371: \"comin'\", 372: 'getting', 373: 'many', 374: \"wouldn't\", 375: \"she's\", 376: 'duffman:', 377: 'must', 378: 'everything', 379: 'hold', 380: 'doing', 381: 'free', 382: 'watch', 383: 'sounds', 384: 'try', 385: 'reading', 386: 'dollars', 387: 'na', 388: 'um', 389: 'bucks', 390: 'maggie', 391: 'took', 392: 'true', 393: 'thinking', 394: 'nah', 395: 'gee', 396: 'woo', 397: 'sound', 398: 'sell', 399: 'excuse', 400: 'makes', 401: 'everyone', 402: 'daughter', 403: 'secret', 404: 'stuff', 405: \"where's\", 406: 'chief', 407: 'gimme', 408: 'care', 409: 'wanted', 410: 'leave', 411: 'baby', 412: 'pay', 413: 'under', 414: 'most', 415: 'pants', 416: 'yourself', 417: 'beautiful', 418: 'canyonero', 419: 'being', 420: 'edna', 421: 'kill', 422: 'kemi:', 423: 'pick', 424: 'own', 425: 'mouth', 426: 'pal', 427: 'tough', 428: 'tipsy', 429: 'quickly', 430: 'left', 431: 'worry', 432: 'smithers', 433: 'went', 434: 'knew', 435: 'points', 436: 'save', 437: 'dead', 438: \"you'd\", 439: 'hurt', 440: 'dinner', 441: 'sad', 442: 'school', 443: 'tomorrow', 444: 'till', 445: 'hoo', 446: 'drinking', 447: 'hate', 448: 'sign', 449: 'fine', 450: 'hi', 451: 'quit', 452: 'feeling', 453: 'win', 454: 'heard', 455: 'dog', 456: 'die', 457: 'camera', 458: 'told', 459: 'excited', 460: 'skinner', 461: 'funny', 462: 'gave', 463: 'break', 464: 'eyes', 465: 'came', 466: 'ladies', 467: 'saw', 468: 'gets', 469: 'booze', 470: 'forget', 471: \"couldn't\", 472: 'alcohol', 473: 'easy', 474: 'flaming', 475: 'without', 476: 'fire', 477: 'million', 478: \"aren't\", 479: 'calling', 480: 'eat', 481: 'sir', 482: 'loves', 483: 'barflies:', 484: 'twenty', 485: 'hand', 486: 'seven', 487: 'nuts', 488: 'super', 489: 'krusty', 490: 'clean', 491: 'gone', 492: 'gasp', 493: 'loser', 494: 'date', 495: 'mad', 496: 'hands', 497: 'anyone', 498: 'jacques:', 499: 'cash', 500: 'kinda', 501: 'bring', 502: 'fight', 503: 'room', 504: 'kirk_van_houten:', 505: 'drive', 506: 'surprised', 507: 'burn', 508: 'mom', 509: 'noises', 510: 'small', 511: 'read', 512: 'artie_ziff:', 513: 'meet', 514: 'problems', 515: 'door', 516: 'happen', 517: \"wasn't\", 518: 'high', 519: 'behind', 520: 'cut', 521: 'called', 522: \"lookin'\", 523: \"haven't\", 524: 'course', 525: 'anyway', 526: \"talkin'\", 527: 'low', 528: \"we'll\", 529: 'trouble', 530: \"doesn't\", 531: 'coming', 532: 'sadly', 533: 'each', 534: 'six', 535: 'seymour', 536: 'gentlemen', 537: 'geez', 538: 'turns', 539: \"y'know\", 540: \"somethin'\", 541: 'chance', 542: 'tape', 543: 'already', 544: \"drinkin'\", 545: 'bartender', 546: 'professor_jonathan_frink:', 547: 'upset', 548: 'dear', 549: 'self', 550: \"it'll\", 551: 'end', 552: 'ugly', 553: 'machine', 554: 'eye', 555: 'larry:', 556: 'works', 557: 'fun', 558: 'disgusted', 559: 'hot', 560: 'bottle', 561: 'realizing', 562: 'sing', 563: 'song', 564: 'wiggum', 565: 'hours', 566: 'start', 567: 'moan', 568: 'outside', 569: 'mmmm', 570: 'sigh', 571: 'throat', 572: 'steal', 573: 'uh-oh', 574: 'heart', 575: 'close', 576: \"gettin'\", 577: 'blame', 578: 'trying', 579: 'change', 580: 'war', 581: 'dump', 582: 'whatever', 583: 'snake_jailbird:', 584: 'stay', 585: 'learn', 586: 'live', 587: 'stand', 588: 'lady', 589: 'keys', 590: 'least', 591: 'm', 592: 'spend', 593: 'crazy', 594: 'whole', 595: 'straight', 596: 'quiet', 597: 'talking', 598: ':', 599: 'watching', 600: 'worried', 601: 'worse', 602: 'the_rich_texan:', 603: 'bar_rag:', 604: 'barflies', 605: 'lousy', 606: 'butt', 607: 'less', 608: 'ten', 609: 'late', 610: 'learned', 611: 'drinks', 612: 'probably', 613: 'such', 614: 'stick', 615: 'perfect', 616: 'greatest', 617: 'shocked', 618: 'private', 619: 'playing', 620: 'may', 621: 'blue', 622: 'anymore', 623: 'goodbye', 624: 'bowl', 625: \"'bout\", 626: 'special', 627: 'poor', 628: 'light', 629: 'joe', 630: 'second', 631: 'thinks', 632: 'year', 633: 'girls', 634: 'morning', 635: 'gasps', 636: \"shouldn't\", 637: 'pull', 638: 'thousand', 639: 'soon', 640: 'times', 641: 'ma', 642: 'apu', 643: 'police', 644: 'crowd:', 645: 'person', 646: 'far', 647: 'alive', 648: 'married', 649: 'marriage', 650: 'air', 651: 'heh', 652: 'bit', 653: 'turned', 654: 'young', 655: 'mother', 656: 'either', 657: 'front', 658: 'else', 659: 'whip', 660: 'point', 661: 'annoyed', 662: 'tsk', 663: 'delete', 664: 'anybody', 665: 'store', 666: 'kick', 667: 'cool', 668: 'moron', 669: 'minutes', 670: 'buddy', 671: 'open', 672: 'picture', 673: 'goes', 674: 'uh-huh', 675: 'couple', 676: 'found', 677: 'blood', 678: 'boys', 679: 'letter', 680: 'nothing', 681: 'lucky', 682: 'smell', 683: 'feet', 684: 'taking', 685: 'both', 686: 'turning', 687: 'eight', 688: 'miss', 689: 'walk', 690: 'join', 691: 'president', 692: 'ticket', 693: 'later', 694: \"how'd\", 695: 'king', 696: 'knows', 697: 'lemme', 698: 'jacques', 699: 'ass', 700: 'throw', 701: 'serious', 702: 'box', 703: 'shot', 704: 'mayor_joe_quimby:', 705: 'beers', 706: 'barn', 707: 'tab', 708: 'exactly', 709: 'boxing', 710: 'yet', 711: 'nods', 712: 'duffman', 713: 'card', 714: 'christmas', 715: 'angry', 716: 'agnes_skinner:', 717: 'american', 718: 'arm', 719: 'rev', 720: 'pig', 721: 'shotgun', 722: 'mind', 723: 'alone', 724: 'instead', 725: 'fifty', 726: 'patty_bouvier:', 727: 'youse', 728: 'goodnight', 729: 'days', 730: 'somebody', 731: 'proudly', 732: 'kiss', 733: 'top', 734: 'number', 735: 'full', 736: 'dry', 737: 'food', 738: 'collette:', 739: 'warmly', 740: 'ahh', 741: 'plant', 742: 'friendly', 743: 'english', 744: 'saying', 745: 'mrs', 746: 'paint', 747: 'hide', 748: 'afraid', 749: 'accident', 750: 'black', 751: 'using', 752: 's', 753: 'deal', 754: 'ready', 755: 'amazed', 756: 'rummy', 757: 'dance', 758: 'eggs', 759: 'walking', 760: 'nine', 761: 'welcome', 762: 'o', 763: 'damn', 764: \"he'll\", 765: 'together', 766: '||semicolon||', 767: 'fellas', 768: 'alright', 769: 'send', 770: 'wire', 771: 'etc', 772: 'forever', 773: 'plus', 774: 'seems', 775: 'advice', 776: 'ned', 777: 'butts', 778: 'huge', 779: 'story', 780: 'ball', 781: 'himself', 782: 'favorite', 783: 'intrigued', 784: 'happier', 785: 'making', 786: 'table', 787: 'hang', 788: 'broke', 789: 'sotto', 790: 'crap', 791: 'move', 792: 'finally', 793: 'lucius:', 794: 'though', 795: 'return', 796: 'word', 797: 'ha', 798: 'hmm', 799: 'sitting', 800: 'fast', 801: 'weird', 802: 'scared', 803: 'grampa', 804: 'son', 805: 'news', 806: 'cold', 807: 'terrible', 808: 'smile', 809: 'words', 810: \"makin'\", 811: 'run', 812: 'screw', 813: 'city', 814: 'renee:', 815: 'pour', 816: 'round', 817: 'channel', 818: 'telling', 819: 'losers', 820: 'japanese', 821: 'tap', 822: 'glove', 823: 'la', 824: 'inside', 825: 'seat', 826: 'human', 827: \"ol'\", 828: 'comic_book_guy:', 829: 'moans', 830: \"kiddin'\", 831: 'glad', 832: 'horrible', 833: 'homie', 834: 'peanuts', 835: 'young_marge:', 836: 'selma_bouvier:', 837: 'street', 838: 'means', 839: 'narrator:', 840: 'warm_female_voice:', 841: 'ice', 842: 'normal', 843: 'belch', 844: 'dunno', 845: 'honest', 846: 'gumbel', 847: 'milk', 848: 'smells', 849: 'laughing', 850: 'music', 851: 'tip', 852: 'seconds', 853: 'early', 854: 'half', 855: 'slow', 856: 'forgot', 857: 'invented', 858: 'harv:', 859: 'fill', 860: 'eating', 861: 'thirty', 862: 'power', 863: 'company', 864: 'bet', 865: 'hair', 866: 'sent', 867: 'denver', 868: 'ones', 869: 'football_announcer:', 870: 'class', 871: 'won', 872: 'star', 873: 'state', 874: 'uncle', 875: 'stool', 876: 'sick', 877: 'along', 878: 'takes', 879: 'holding', 880: 'lying', 881: 'tinkle', 882: 'gives', 883: 'desperate', 884: 'holds', 885: '_julius_hibbert:', 886: 'except', 887: 'honey', 888: 'principal', 889: 'nigel_bakerbutcher:', 890: 'group', 891: 'joey', 892: 'worst', 893: 'flanders', 894: 'hit', 895: 'al', 896: 'romantic', 897: 'birthday', 898: 'shall', 899: 'pass', 900: 'men', 901: 'admit', 902: 'dangerous', 903: 'brought', 904: 'charge', 905: 'hard', 906: 'write', 907: 'fall', 908: 'bitter', 909: 'lives', 910: 'touched', 911: 'impressed', 912: 'sex', 913: 'strong', 914: 'sips', 915: 'fat_tony:', 916: 'tony', 917: 'set', 918: \"we'd\", 919: 'heaven', 920: 'same', 921: 'giving', 922: 'health', 923: 'kent', 924: 'truth', 925: 'bag', 926: 'hank_williams_jr', 927: 'crack', 928: 'treasure', 929: 'plan', 930: 'rat', 931: \"sayin'\", 932: \"that'll\", 933: 'szyslak', 934: 'mister', 935: 'week', 936: 'lowers', 937: 'loved', 938: 'supposed', 939: 'tune', 940: 'slap', 941: 'across', 942: 'plastic', 943: 'dumb', 944: 'baseball', 945: 'quick', 946: 'became', 947: 'jukebox', 948: 'gold', 949: 'manjula_nahasapeemapetilon:', 950: 'water', 951: 'safe', 952: 'health_inspector:', 953: 'numbers', 954: 'maya:', 955: 'bow', 956: 'lou:', 957: 'walther_hotenhoffer:', 958: 'omigod', 959: 'princess', 960: 'young_homer:', 961: 'mike', 962: 'catch', 963: \"how's\", 964: \"he'd\", 965: 'speech', 966: 'little_man:', 967: 'closed', 968: 'wallet', 969: 'wrote', 970: 'grand', 971: 'troll', 972: 'invited', 973: 'government', 974: 'joint', 975: 'club', 976: 'cutting', 977: 'service', 978: 'quietly', 979: 'movie', 980: 'doubt', 981: 'accent', 982: 'nein', 983: 'speaking', 984: 'bee', 985: 'pop', 986: 'treat', 987: 'wonderful', 988: 'games', 989: 'fellow', 990: 'cheer', 991: 'yea', 992: 'coaster', 993: 'sunday', 994: 'luck', 995: 'jack', 996: 'cop', 997: 'dallas', 998: 'short', 999: 'shirt', 1000: 'lord', 1001: 'asked', 1002: 'offended', 1003: 'wha', 1004: \"smokin'_joe_frazier:\", 1005: 'cleaned', 1006: 'piece', 1007: 'felt', 1008: \"lisa's\", 1009: 'clown', 1010: 'announcer:', 1011: 'testing', 1012: 'shaking', 1013: 'glasses', 1014: \"callin'\", 1015: 'pipe', 1016: 'red', 1017: 'cost', 1018: 'wall', 1019: 'center', 1020: 'all:', 1021: 'represent', 1022: 'ago', 1023: 'chanting', 1024: 'ad', 1025: 'handsome', 1026: 'sharps', 1027: 'named', 1028: 'names', 1029: 'swear', 1030: 'hospital', 1031: 'children', 1032: 'rest', 1033: 'strap', 1034: 'fingers', 1035: 'suddenly', 1036: 'man:', 1037: 'puzzled', 1038: 'brilliant', 1039: 'soul', 1040: 'saved', 1041: 'pool', 1042: 'local', 1043: 'daddy', 1044: 'dank', 1045: 'ashamed', 1046: 'side', 1047: 'customers', 1048: 'disappointed', 1049: 'hated', 1050: 'horrified', 1051: 'tongue', 1052: 'window', 1053: 'until', 1054: 'truck', 1055: 'selma', 1056: 'owe', 1057: 'dude', 1058: 'wonder', 1059: \"tellin'\", 1060: 'punch', 1061: 'jeez', 1062: 'yep', 1063: 'empty', 1064: 'biggest', 1065: 'tired', 1066: 'drederick', 1067: 'against', 1068: 'changing', 1069: 'evening', 1070: 'clears', 1071: 'favor', 1072: 'hanging', 1073: 'gay', 1074: 'deer', 1075: 'designated', 1076: 'writing', 1077: 'beloved', 1078: 'wine', 1079: 'suit', 1080: 'confused', 1081: 'french', 1082: 'having', 1083: 'during', 1084: 'clear', 1085: 'sober', 1086: 'longer', 1087: 'chug', 1088: 'jar', 1089: 'brockman', 1090: 'absolutely', 1091: \"drivin'\", 1092: 'wheel', 1093: 'driving', 1094: 'part', 1095: 'park', 1096: 'i-i', 1097: 'unless', 1098: 'hopeful', 1099: 'stunned', 1100: 'also', 1101: \"world's\", 1102: 'running', 1103: 'broad', 1104: 'filthy', 1105: 'dame', 1106: 'boring', 1107: 'totally', 1108: 'none', 1109: 'surgery', 1110: 'survive', 1111: \"tryin'\", 1112: 'mayor', 1113: \"workin'\", 1114: 'isotopes', 1115: 'lose', 1116: 'detective_homer_simpson:', 1117: 'exasperated', 1118: \"guy's\", 1119: 'act', 1120: 'needs', 1121: 'given', 1122: 'counting', 1123: 'caught', 1124: 'cow', 1125: 'college', 1126: 'p', 1127: 'fish', 1128: 'women', 1129: 'third', 1130: 'mine', 1131: 'lessons', 1132: 'x', 1133: 'few', 1134: 'thumb', 1135: 'dying', 1136: 'stories', 1137: 'speak', 1138: 'beach', 1139: 'bed', 1140: 'artie', 1141: 'billy_the_kid:', 1142: 'bank', 1143: 'jerks', 1144: 'proud', 1145: \"one's\", 1146: \"sittin'\", 1147: 'sauce', 1148: 'suicide', 1149: 'duh', 1150: 'edna_krabappel-flanders:', 1151: 'sob', 1152: 'rope', 1153: \"i'm-so-stupid\", 1154: 'america', 1155: 'mouse', 1156: 'pity', 1157: 'nineteen', 1158: 'african', 1159: 'nuclear', 1160: 'calm', 1161: '_zander:', 1162: 'tree', 1163: 'lloyd:', 1164: '_hooper:', 1165: 'glen:', 1166: 'bender:', 1167: 'adult_bart:', 1168: 'tv_wife:', 1169: 'tv_husband:', 1170: 'rotch', 1171: 'cares', 1172: 'sits', 1173: 'follow', 1174: 'bars', 1175: 'chocolate', 1176: 'usually', 1177: 'closing', 1178: 'pulled', 1179: 'hurry', 1180: 'fifteen', 1181: 'gin', 1182: 'hits', 1183: 'spot', 1184: 'smiling', 1185: \"everyone's\", 1186: 'feels', 1187: 'pitcher', 1188: 'amazing', 1189: 'offer', 1190: 'minimum', 1191: 'restaurant', 1192: 'dollar', 1193: 'ingredient', 1194: 'career', 1195: 'market', 1196: 'stock', 1197: 'hans:', 1198: \"o'problem\", 1199: 'calls', 1200: 'embarrassed', 1201: \"today's\", 1202: 'nose', 1203: 'domestic', 1204: 'pointed', 1205: 'weekly', 1206: 'sarcastic', 1207: 'belches', 1208: 'forty', 1209: 'ruined', 1210: 'ourselves', 1211: 'original', 1212: 'situation', 1213: 'almost', 1214: 'field', 1215: 'buffalo', 1216: 'pit', 1217: 'pickled', 1218: 'couch', 1219: 'heavyweight', 1220: 'championship', 1221: 'whee', 1222: 'father', 1223: 'beauty', 1224: 'amanda', 1225: 'huggenkiss', 1226: 'ivana', 1227: 'plow', 1228: 'teenage_barney:', 1229: 'hero', 1230: 'starts', 1231: 'answer', 1232: 'enjoy', 1233: 'yesterday', 1234: 'fridge', 1235: 'agent', 1236: 'island', 1237: 'sly', 1238: 'adeleine', 1239: 'scream', 1240: 'question', 1241: 'arrest', 1242: \"what'll\", 1243: 'knock', 1244: 'figured', 1245: 'stillwater:', 1246: 'respect', 1247: 'fbi', 1248: 'hm', 1249: 'teach', 1250: 'professional', 1251: 'snake', 1252: 'flower', 1253: 'clothes', 1254: 'polite', 1255: 'tail', 1256: 'liver', 1257: 'legs', 1258: 'understand', 1259: 'pulls', 1260: 'line', 1261: 'woman:', 1262: 'meeting', 1263: 'hugh:', 1264: 'rather', 1265: 'pub', 1266: 'wear', 1267: 'loaded', 1268: 'sense', 1269: 'different', 1270: 'movies', 1271: 'magic', 1272: 'deep', 1273: \"they've\", 1274: 'ahead', 1275: 'breath', 1276: 'boat', 1277: 'working', 1278: 'kidding', 1279: 'burp', 1280: 'blow', 1281: \"livin'\", 1282: 'choice', 1283: 'test', 1284: 'opportunity', 1285: 'rich', 1286: 'brain', 1287: 'train', 1288: 'yard', 1289: 'hungry', 1290: 'match', 1291: 'body', 1292: 'tatum', 1293: 'sit', 1294: 'dramatic', 1295: \"buyin'\", 1296: 'bill', 1297: 'twelve', 1298: 'gas', 1299: 'quite', 1300: 'finger', 1301: 'lie', 1302: 'south', 1303: 'fix', 1304: 'whiny', 1305: \"o'clock\", 1306: 'drivers', 1307: 'drug', 1308: 'upbeat', 1309: 'sold', 1310: 'betty:', 1311: 'explaining', 1312: 'sexy', 1313: 'dang', 1314: 'started', 1315: 'egg', 1316: 'mug', 1317: 'months', 1318: 'chick', 1319: 'threw', 1320: 'stirring', 1321: 'husband', 1322: 'illegal', 1323: 'cover', 1324: 'folks', 1325: \"watchin'\", 1326: 'case', 1327: 'sports', 1328: 'smooth', 1329: 'computer', 1330: 'selling', 1331: 'ride', 1332: 'renee', 1333: 'flowers', 1334: 'girlfriend', 1335: 'distraught', 1336: 'pain', 1337: 'sobbing', 1338: 'raises', 1339: 'arms', 1340: 'stagy', 1341: 'procedure', 1342: 'able', 1343: 'lips', 1344: 'especially', 1345: 'fan', 1346: \"who'll\", 1347: 'dennis_conroy:', 1348: 'bottom', 1349: 'road', 1350: 'bye', 1351: 'wally:', 1352: 'flips', 1353: 'character', 1354: 'partner', 1355: 'guns', 1356: \"valentine's\", 1357: 'amid', 1358: 'yellow', 1359: 'radishes', 1360: 'u', 1361: \"bein'\", 1362: 'bald', 1363: 'castle', 1364: 'busy', 1365: 're:', 1366: 'seem', 1367: 'jerk', 1368: 'sincere', 1369: 'precious', 1370: 'burt', 1371: 'garbage', 1372: 'died', 1373: \"dad's\", 1374: 'whisper', 1375: 'lotta', 1376: 'secrets', 1377: 'whaddaya', 1378: 'sees', 1379: 'pickle', 1380: 'rob', 1381: 'coat', 1382: 'trip', 1383: 'ooo', 1384: 'band', 1385: 'neck', 1386: 'tom', 1387: 'gotten', 1388: 'buttons', 1389: 'eleven', 1390: 'à', 1391: 'cries', 1392: 'awkward', 1393: 'video', 1394: 'billboard', 1395: 'david_byrne:', 1396: 'france', 1397: 'sheepish', 1398: 'address', 1399: 'monster', 1400: 'meaningful', 1401: 'furious', 1402: 'new_health_inspector:', 1403: 'pipes', 1404: 'needed', 1405: 'moment', 1406: 'ominous', 1407: 'declan_desmond:', 1408: 'sister', 1409: 'milhouse_van_houten:', 1410: 'forget-me-shot', 1411: 'finding', 1412: 'shows', 1413: 'bees', 1414: 'vance', 1415: 'correct', 1416: 'pleased', 1417: 'cable', 1418: 'babies', 1419: 'clearly', 1420: 'yap', 1421: 'hoping', 1422: 'thoughtful', 1423: 'grim', 1424: 'frustrated', 1425: 'burps', 1426: 'therapy', 1427: 'foibles', 1428: 'books', 1429: 'twins', 1430: 'rag', 1431: 'keeps', 1432: 'dan_gillick:', 1433: 'ken:', 1434: \"carl's\", 1435: 'senator', 1436: 'senators', 1437: \"moe's_thoughts:\", 1438: 'teenage_bart:', 1439: 'eddie:', 1440: 'lately', 1441: 'puke', 1442: 'struggling', 1443: 'crummy', 1444: 'tells', 1445: 'spit', 1446: \"'til\", 1447: 'unison', 1448: 'thoughts', 1449: 'finished', 1450: 'concerned', 1451: 'burning', 1452: 'hiya', 1453: 'junior', 1454: 'cigarette', 1455: 'sucked', 1456: 'harv', 1457: 'cough', 1458: 'its', 1459: 'delicious', 1460: 'noticing', 1461: 'above', 1462: 'expect', 1463: 'accurate', 1464: 'tips', 1465: 'pardon', 1466: 'idiot', 1467: 'covering', 1468: 'frankly', 1469: 'kept', 1470: 'k', 1471: 'twenty-five', 1472: 'become', 1473: 'german', 1474: 'fritz:', 1475: 'buying', 1476: 'brains', 1477: 'crank', 1478: \"bart's\", 1479: 'lots', 1480: \"they'll\", 1481: 'cheap', 1482: 'hug', 1483: 'sniffs', 1484: 'bowling', 1485: 'gift', 1486: 'bret:', 1487: 'guest', 1488: 'whose', 1489: 'shares', 1490: 'odd', 1491: 'hates', 1492: 'whatcha', 1493: 'touchdown', 1494: 'fork', 1495: 'keeping', 1496: 'careful', 1497: 'prime', 1498: 'palmerston', 1499: 'elder', 1500: 'pfft', 1501: 'lottery', 1502: 'sadistic_barfly:', 1503: 'cents', 1504: 'customer', 1505: 'step', 1506: 'holiday', 1507: 'religion', 1508: 'born', 1509: 'tv_father:', 1510: 'toss', 1511: 'jack_larson:', 1512: 'pageant', 1513: 'age', 1514: 'endorse', 1515: 'puff', 1516: \"where'd\", 1517: 'stopped', 1518: 'ruin', 1519: 'sec', 1520: 'shove', 1521: 'mistake', 1522: 'slip', 1523: 'pathetic', 1524: 'har', 1525: 'ring', 1526: 'checks', 1527: 'pointing', 1528: 'aside', 1529: 'ordered', 1530: 'dressed', 1531: 'bus', 1532: 'gal', 1533: 'afternoon', 1534: 'kwik-e-mart', 1535: 'coney', 1536: 'single', 1537: 'darts', 1538: \"havin'\", 1539: 'pause', 1540: '_babcock:', 1541: 'higher', 1542: 'reads', 1543: 'sexual', 1544: 'moments', 1545: 'alley', 1546: 'fault', 1547: 'hmmm', 1548: 'roll', 1549: 'form', 1550: 'register', 1551: 'prank', 1552: 'coffee', 1553: 'label', 1554: 'innocent', 1555: 'double', 1556: 'hurts', 1557: 'loan', 1558: 'leans', 1559: 'fool', 1560: 'covers', 1561: 'crawl', 1562: 'following', 1563: 'celebrities', 1564: 'consider', 1565: 'imagine', 1566: 'moved', 1567: 'fumes', 1568: 'oil', 1569: 'exhaust', 1570: 'gag', 1571: 'stole', 1572: 'killed', 1573: 'understanding', 1574: 'raising', 1575: 'natural', 1576: 'stools', 1577: 'texas', 1578: 'rid', 1579: 'barney-shaped_form:', 1580: 'snaps', 1581: 'bright', 1582: 'beginning', 1583: 'cute', 1584: 'evil', 1585: '&', 1586: 'exit', 1587: 'midnight', 1588: 'compliment', 1589: \"stinkin'\", 1590: 'glum', 1591: 'salad', 1592: 'complete', 1593: \"c'mere\", 1594: 'knocked', 1595: 'bob', 1596: 'fact', 1597: 'cannot', 1598: 'incredulous', 1599: 'fans', 1600: 'saturday', 1601: 'parking', 1602: 'general', 1603: 'trust', 1604: \"could've\", 1605: 'stayed', 1606: 'shape', 1607: 'taken', 1608: \"gentleman's\", 1609: \"barney's\", 1610: 'mafia', 1611: 'crime', 1612: 'indignant', 1613: 'entire', 1614: 'grow', 1615: 'modern', 1616: 'diet', 1617: 'shoot', 1618: 'enemy', 1619: 'accept', 1620: 'enemies', 1621: 'list', 1622: 'invite', 1623: 'lonely', 1624: 'singers:', 1625: 'toward', 1626: 'defensive', 1627: 'walks', 1628: 'snort', 1629: 'mechanical', 1630: 'suppose', 1631: 'sometime', 1632: 'fancy', 1633: 'kissing', 1634: 'per', 1635: 'traffic', 1636: 'peter', 1637: 'pained', 1638: 'extra', 1639: 'cheers', 1640: 'driver', 1641: 'program', 1642: 'inspector', 1643: 'heads', 1644: 'recommend', 1645: 'severe', 1646: 'checking', 1647: 'showing', 1648: 'fever', 1649: 'spending', 1650: 'switch', 1651: 'casual', 1652: 'rough', 1653: 'pissed', 1654: 'scene', 1655: 'church', 1656: 'threatening', 1657: 'turkey', 1658: 'scam', 1659: 'jesus', 1660: 'spinning', 1661: 'pats', 1662: \"seein'\", 1663: 'toilet', 1664: 'der', 1665: 'crowd', 1666: 'boo', 1667: 'wide', 1668: 'toasting', 1669: 'order', 1670: 'bunch', 1671: 'pays', 1672: 'law', 1673: 'wasting', 1674: 'corpses', 1675: 'sleep', 1676: 'screams', 1677: 'aww', 1678: 'seeing', 1679: 'military', 1680: 'hunter', 1681: 'reminds', 1682: 'panicky', 1683: 'ridiculous', 1684: 'campaign', 1685: 'public', 1686: \"they'd\", 1687: 'focus', 1688: 'knowing', 1689: 'jolly', 1690: 'upon', 1691: 'edison', 1692: 'played', 1693: 'middle', 1694: 'worked', 1695: 'james', 1696: 'hole', 1697: 'corner', 1698: 'summer', 1699: 'operation', 1700: 'comfortable', 1701: 'inspection', 1702: 'season', 1703: 'grunt', 1704: 'wooooo', 1705: 'history', 1706: 'team', 1707: 'grabbing', 1708: 'root', 1709: 'spanish', 1710: 'weeks', 1711: 'coach:', 1712: \"wife's\", 1713: 'leg', 1714: 'grabs', 1715: 'peace', 1716: 'toys', 1717: 'changed', 1718: 'international', 1719: 'who-o-oa', 1720: 'hour', 1721: 'men:', 1722: \"men's\", 1723: 'hilarious', 1724: 'frink', 1725: 'paying', 1726: 'searching', 1727: 'embarrassing', 1728: 'past', 1729: 'challenge', 1730: 'tears', 1731: 'cocktail', 1732: 'stadium', 1733: 'finest', 1734: 'license', 1735: 'ho', 1736: 'dynamite', 1737: 'rub', 1738: 'grunts', 1739: 'chinese', 1740: 'uncomfortable', 1741: 'helicopter', 1742: 'sweetly', 1743: 'fly', 1744: 'suck', 1745: 'film', 1746: 'fireball', 1747: 'mudflap', 1748: \"ridin'\", 1749: 'teeth', 1750: 'closer', 1751: 'happily', 1752: '_timothy_lovejoy:', 1753: 'chest', 1754: 'popular', 1755: 'directions', 1756: 'bought', 1757: 'tried', 1758: 'wearing', 1759: 'delighted', 1760: 'button', 1761: 'future', 1762: 'drunks', 1763: 'serve', 1764: 'spoken', 1765: 'thankful', 1766: 'looked', 1767: 'ancient', 1768: 'losing', 1769: 'lindsay_naegle:', 1770: 'teenage', 1771: 'ohmygod', 1772: 'uneasy', 1773: \"i-i'm\", 1774: 'terrified', 1775: 'scum', 1776: 'afford', 1777: 'anniversary', 1778: 'feed', 1779: 'starting', 1780: \"robbin'\", 1781: 'banks', 1782: 'fair', 1783: 'backwards', 1784: 'rats', 1785: 'staying', 1786: 'death', 1787: 'andy', 1788: 'mock', 1789: 'flatly', 1790: 'sisters', 1791: 'subject', 1792: 'likes', 1793: 'peach', 1794: 'miserable', 1795: 'jump', 1796: 'dive', 1797: 'bless', 1798: 'attention', 1799: 'paris', 1800: 'cards', 1801: 'ziffcorp', 1802: 'sec_agent_#1:', 1803: 'fraud', 1804: 'perhaps', 1805: 'ground', 1806: 'jail', 1807: 'ran', 1808: \"kids'\", 1809: 'gary_chalmers:', 1810: 'dancing', 1811: 'wiener', 1812: 'vomit', 1813: 'bike', 1814: 'floor', 1815: 'glen', 1816: 'breaking', 1817: 'british', 1818: 'letters', 1819: 'clone', 1820: 'tradition', 1821: 'push', 1822: 'vegas', 1823: 'system', 1824: 'bar-boy', 1825: 'foot', 1826: 'motel', 1827: 'awful', 1828: 'child', 1829: 'yee-haw', 1830: 'workers', 1831: 'then:', 1832: 'clientele', 1833: 'army', 1834: 'milhouse', 1835: 'greystash', 1836: 'dirt', 1837: 'doors', 1838: 'size', 1839: 'reason', 1840: 'feelings', 1841: 'mel', 1842: 'bite', 1843: 'powerful', 1844: 'wipe', 1845: 'image', 1846: 'pockets', 1847: 'share', 1848: 'jamaican', 1849: 'l', 1850: \"lenny's\", 1851: 'midge', 1852: 'gently', 1853: 'unlike', 1854: 'meant', 1855: 'sniffles', 1856: 'election', 1857: 'al_gore:', 1858: 'nobel', 1859: 'sadder', 1860: 'yo', 1861: 'unlucky', 1862: 'somewhere', 1863: 'met', 1864: 'relax', 1865: 'anguished', 1866: 'talk-sings', 1867: 'tastes', 1868: 'kang:', 1869: \"year's\", 1870: 'bitterly', 1871: 'woo-hoo', 1872: 'cameras', 1873: 'nards', 1874: 'gary:', 1875: 'fourth', 1876: 'scotch', 1877: 'drop', 1878: 'weak', 1879: 'opening', 1880: '_kissingher:', 1881: 'text', 1882: 'f', 1883: 'hall', 1884: 'wayne:', 1885: 'nation', 1886: 'kermit', 1887: 'belly', 1888: 'despite', 1889: 'r', 1890: 'theater', 1891: 'twenty-two', 1892: 'sixty-nine', 1893: 'source', 1894: 'brother', 1895: 'book_club_member:', 1896: 'literature', 1897: 'troy:', 1898: 'pocket', 1899: 'marvin', 1900: 'carve', 1901: 'effervescent', 1902: 'social', 1903: 'vote', 1904: 'corkscrew', 1905: 'folk', 1906: 'neat', 1907: 'tick', 1908: 'effects', 1909: 'trick', 1910: 'judge', 1911: 'mumbling', 1912: 'closes', 1913: 'smoothly', 1914: 'gum', 1915: 'satisfaction', 1916: 'payments', 1917: 'distributor', 1918: 'spent', 1919: 'tester', 1920: 'gums', 1921: \"bartender's\", 1922: 'brightening', 1923: 'homers', 1924: 'syrup', 1925: 'knife', 1926: 'doll', 1927: 'charm', 1928: 'lighting', 1929: \"tester's\", 1930: 'busted', 1931: 'barkeep', 1932: 'bartenders', 1933: 'barf', 1934: 'measurements', 1935: 'benefits', 1936: 'prefer', 1937: 'hired', 1938: \"shan't\", 1939: 'regret', 1940: 'genius', 1941: 'mcstagger', 1942: 'successful', 1943: 'sale', 1944: 'yours', 1945: 'compliments', 1946: 'aerosmith', 1947: 'refund', 1948: 'henry', 1949: 'reserve', 1950: 'swill', 1951: 'ech', 1952: 'interested', 1953: 'owner', 1954: 'confident', 1955: '100', 1956: 'awwww', 1957: 'bucket', 1958: 'conspiratorial', 1959: 'teddy', 1960: 'bear', 1961: 'beneath', 1962: 'seek', 1963: 'bears', 1964: 'blend', 1965: 'greedy', 1966: 'sector', 1967: 'recently', 1968: 'shaken', 1969: 'recall', 1970: 'inspire', 1971: 'peanut', 1972: 'slyly', 1973: 'pleasure', 1974: 'thirteen', 1975: 'studio', 1976: 'apartment', 1977: 'listening', 1978: 'deeply', 1979: 'victory', 1980: 'bread', 1981: 'bets', 1982: 'troy', 1983: 'troy_mcclure:', 1984: 'bret', 1985: 'handle', 1986: 'retired', 1987: 'comedy', 1988: \"buffalo's\", 1989: 'excellent', 1990: 'riding', 1991: 'whistles', 1992: 'dan', 1993: 'wins', 1994: 'aggravated', 1995: 'teams', 1996: 'cowboys', 1997: 'clock', 1998: 'cars', 1999: \"maggie's\", 2000: 'handing', 2001: 'minister', 2002: 'wade_boggs:', 2003: 'jumps', 2004: 'poking', 2005: \"showin'\", 2006: 'gals', 2007: 'fudd', 2008: 'miles', 2009: 'finishing', 2010: 'dryer', 2011: 'feast', 2012: 'snake-handler', 2013: 'prove', 2014: 'laramie', 2015: 'cigarettes', 2016: 'prohibit', 2017: 'smoke', 2018: 'product', 2019: '250', 2020: 'animals', 2021: '_powers:', 2022: 'standards', 2023: 'b', 2024: 'sausage', 2025: 'ah-ha', 2026: 'sooner', 2027: 'linda', 2028: 'project', 2029: 'snow', 2030: \"fallin'\", 2031: 'prayer', 2032: 'wave', 2033: 'yoo', 2034: 'cheery', 2035: 'sack', 2036: 'chilly', 2037: 'willy', 2038: 'appear', 2039: 'remembered', 2040: 'snap', 2041: 't-shirt', 2042: 'plum', 2043: 'deserve', 2044: 'civic', 2045: 'ragtime', 2046: 'isle', 2047: 'babe', 2048: 'village', 2049: 'tenor:', 2050: 'paid', 2051: 'lib', 2052: 'remains', 2053: 'witty', 2054: 'served', 2055: 'cops', 2056: 'andalay', 2057: 'sometimes', 2058: 'based', 2059: 'realize', 2060: 'insightful', 2061: 'code', 2062: 'cueball', 2063: 'clinton', 2064: 'tang', 2065: \"it'd\", 2066: 'nasa', 2067: 'astronaut', 2068: 'shrugging', 2069: 'rap', 2070: 'advantage', 2071: 'generous', 2072: 'pin', 2073: 'cola', 2074: 'forbidden', 2075: 'present', 2076: 'entirely', 2077: 'bold', 2078: 'teacher', 2079: 'sugar', 2080: 'pleading', 2081: 'pulling', 2082: 'ohh', 2083: 'greetings', 2084: 'giggles', 2085: 'advance', 2086: 'gosh', 2087: 'bash', 2088: 'poet', 2089: 'alcoholic', 2090: 'large', 2091: 'pouring', 2092: 'honored', 2093: 'virtual', 2094: 'inflated', 2095: 'self-esteem', 2096: 'male_inspector:', 2097: 'detecting', 2098: 'rage', 2099: 'reasons', 2100: 'writers', 2101: 'alfalfa', 2102: 'murmur', 2103: 'hollywood', 2104: 'restaurants', 2105: 'pressure', 2106: 'inspired', 2107: 'memories', 2108: 'blew', 2109: 'pad', 2110: 'stinks', 2111: 'ahhh', 2112: 'rolling', 2113: 'wondering', 2114: 'ringing', 2115: 'ye', 2116: 'jebediah', 2117: 'cutie', 2118: 'bums', 2119: 'angel', 2120: 'blood-thirsty', 2121: 'pirate', 2122: 'jubilant', 2123: 'waylon', 2124: 'delivery', 2125: 'forward', 2126: 'darkest', 2127: 'calculate', 2128: 'results', 2129: 'billion', 2130: 'space', 2131: 'considering', 2132: 'freeze', 2133: 'reasonable', 2134: 'ha-ha', 2135: 'themselves', 2136: 'raise', 2137: 'oof', 2138: 'belt', 2139: 'steak', 2140: 'meal', 2141: 'awe', 2142: 'percent', 2143: 'manage', 2144: 'realized', 2145: \"hadn't\", 2146: 'boxer', 2147: 'gorgeous', 2148: \"meanin'\", 2149: 'lucius', 2150: 'famous', 2151: 'don', 2152: 'manager', 2153: 'somehow', 2154: 'row', 2155: 'politics', 2156: 'agreement', 2157: 'fighting', 2158: 'sandwich', 2159: 'punches', 2160: 'energy', 2161: 'hobo', 2162: 'nudge', 2163: 'awed', 2164: 'managing', 2165: 'champ', 2166: 'release', 2167: 'weary', 2168: 'rounds', 2169: 'freak', 2170: 'remembering', 2171: 'fondly', 2172: 'worth', 2173: 'lover', 2174: 'radio', 2175: 'borrow', 2176: 'granted', 2177: 'helped', 2178: 'built', 2179: 'solid', 2180: 'routine', 2181: 'mate', 2182: 'chum', 2183: 'acquaintance', 2184: 'quality', 2185: 'fox_mulder:', 2186: 'began', 2187: 'discussing', 2188: 'scully', 2189: 'penny', 2190: \"money's\", 2191: 'asking', 2192: 'mob', 2193: 'steel', 2194: 'broadway', 2195: 'sodas', 2196: 'neither', 2197: 'christopher', 2198: 'shooting', 2199: 'bags', 2200: 'hunting', 2201: \"patrick's\", 2202: 'kicked', 2203: 'written', 2204: 'crossed', 2205: 'morose', 2206: 'bam', 2207: 'yelling', 2208: 'love-matic', 2209: 'peppy', 2210: 'passed', 2211: 'floated', 2212: 'sweeter', 2213: 'buried', 2214: 'naked', 2215: 'dismissive', 2216: 'karaoke', 2217: 'near', 2218: 'expert', 2219: 'spread', 2220: 'germs', 2221: 'cent', 2222: 'caused', 2223: 'pope', 2224: 'reach', 2225: 'draw', 2226: 'costume', 2227: 'labels', 2228: 'straining', 2229: 'conditioner', 2230: 'sweetheart', 2231: 'margarita', 2232: 'planning', 2233: 'vacation', 2234: 'chase', 2235: 'blues', 2236: 'manjula', 2237: \"countin'\", 2238: 'freedom', 2239: 'reaching', 2240: 'bubbles', 2241: 'ways', 2242: \"ma'am\", 2243: 'devastated', 2244: 'grave', 2245: 'mic', 2246: 'products', 2247: 'price', 2248: 'cake', 2249: 'churchill', 2250: 'purse', 2251: 'businessman_#1:', 2252: 'firmly', 2253: 'utility', 2254: 'creeps', 2255: 'roomy', 2256: 'european', 2257: 'plenty', 2258: 'yogurt', 2259: 'porn', 2260: 'thoughtfully', 2261: 'seats', 2262: 'highway', 2263: 'commission', 2264: 'yards', 2265: 'pride', 2266: 'beam', 2267: 'mail', 2268: 'bride', 2269: 'fabulous', 2270: 'due', 2271: 'roses', 2272: 'kidney', 2273: 'dropped', 2274: 'dearest', 2275: 'warily', 2276: 'placing', 2277: \"town's\", 2278: 'charity', 2279: 'railroad', 2280: 'coward', 2281: 'medicine', 2282: 'sudden', 2283: 'attack', 2284: 'yell', 2285: 'forgive', 2286: 'puts', 2287: 'joined', 2288: 'joining', 2289: 'although', 2290: \"pope's\", 2291: 'ironed', 2292: 'blown', 2293: 'involved', 2294: 'agent_johnson:', 2295: 'involving', 2296: 'bush', 2297: 'charlie', 2298: 'lazy', 2299: 'message', 2300: 'seriously', 2301: 'mop', 2302: 'stands', 2303: 'ocean', 2304: 'bathing', 2305: 'increasingly', 2306: 'organ', 2307: 'jockey', 2308: 'grumpy', 2309: 'crying', 2310: \"springfield's\", 2311: 'bigger', 2312: 'cotton', 2313: 'balls', 2314: '6', 2315: 'promised', 2316: 'vodka', 2317: 'gentleman:', 2318: 'celebrity', 2319: 'bubble', 2320: 'brave', 2321: 'deadly', 2322: 'correcting', 2323: 'scare', 2324: 'eyeball', 2325: 'catching', 2326: 'mess', 2327: 'bathroom', 2328: 'all-star', 2329: \"'topes\", 2330: 'excitement', 2331: 'inspiring', 2332: \"game's\", 2333: 'pitch', 2334: 'director', 2335: 'rumaki', 2336: 'sports_announcer:', 2337: 'pointless', 2338: 'conference', 2339: \"team's\", 2340: 'atlanta', 2341: 'falcons', 2342: 'mmm', 2343: 'foil', 2344: 'yup', 2345: 'beating', 2346: 'simp-sonnnn', 2347: 'acting', 2348: 'gang', 2349: 'choking', 2350: 'murmurs', 2351: 'yourselves', 2352: 'easier', 2353: 'curious', 2354: 'matter-of-fact', 2355: 'kyoto', 2356: 'sea', 2357: 'fritz', 2358: 'drawing', 2359: 'justice', 2360: 'patterns', 2361: 'lights', 2362: 'hawking:', 2363: \"hangin'\", 2364: 'putting', 2365: 'tentative', 2366: 'umm', 2367: 'heavyset', 2368: 'insulted', 2369: 'tommy', 2370: 'honor', 2371: 'duel', 2372: 'fevered', 2373: 'between', 2374: 'thesaurus', 2375: 'danish', 2376: 'joking', 2377: 'laws', 2378: 'held', 2379: 'knees', 2380: 'throwing', 2381: 'seas', 2382: 'eyesore', 2383: 'jeff', 2384: 'ugliest', 2385: 'white', 2386: 'gargoyle', 2387: 'brow', 2388: 'pleasant', 2389: 'mount', 2390: 'carlson', 2391: 'harder', 2392: 'nearly', 2393: 'wash', 2394: 'beats', 2395: 'tax', 2396: 'trusted', 2397: 'poem', 2398: 'planet', 2399: 'professor', 2400: 'disgrace', 2401: 'stationery', 2402: 'flying', 2403: 'tanked-up', 2404: 'certain', 2405: \"bar's\", 2406: 'queer', 2407: 'guide', 2408: 'calmly', 2409: 'befouled', 2410: 'broom', 2411: 'explain', 2412: 'unfortunately', 2413: 'reynolds', 2414: 'jerry', 2415: 'solo', 2416: 'lowering', 2417: 'sinister', 2418: 'onions', 2419: 'talked', 2420: 'frosty', 2421: 'voice:', 2422: 'helen', 2423: 'bible', 2424: 'medical', 2425: \"chewin'\", 2426: 'shock', 2427: 'satisfied', 2428: 'effigy', 2429: 'jobs', 2430: 'mention', 2431: 'smart', 2432: 'dee-fense', 2433: 'twice', 2434: 'schnapps', 2435: 'comic', 2436: 'klingon', 2437: 'mm', 2438: 'corporation', 2439: 'fresh', 2440: 'loss', 2441: 'smurfs', 2442: 'wake', 2443: 'disapproving', 2444: 'informant', 2445: 'goods', 2446: 'smugglers', 2447: 'voice_on_transmitter:', 2448: 'answering', 2449: 'mcbain', 2450: \"father's\", 2451: 'taps', 2452: 'jets', 2453: 'eventually', 2454: 'morlocks', 2455: 'liar', 2456: \"weren't\", 2457: 'naturally', 2458: 'shaggy', 2459: 'gun', 2460: 'passion', 2461: 'bartending', 2462: 'painting', 2463: 'expression', 2464: 'contest', 2465: 'potato', 2466: 'ayyy', 2467: 'tabooger', 2468: 'ollie', 2469: 'deliberate', 2470: 'century', 2471: 'formico:', 2472: 'formico', 2473: 'thanksgiving', 2474: 'tofu', 2475: 'curds', 2476: 'ambrosia', 2477: 'terrific', 2478: 'cookies', 2479: 'admiring', 2480: 'anywhere', 2481: 'eighty-seven', 2482: 'palm', 2483: 'actors', 2484: 'brewed', 2485: 'hop', 2486: 'juice', 2487: 'agree', 2488: 'grandiose', 2489: 'boyfriend', 2490: 'spy', 2491: 'superior', 2492: 'rainier_wolfcastle:', 2493: 'authorized', 2494: 'impatient', 2495: 'bottles', 2496: 'salt', 2497: 'windex', 2498: 'koi', 2499: 'pond', 2500: 'drown', 2501: 'surprise', 2502: 'wang', 2503: 'dating', 2504: 'sat', 2505: 'drank', 2506: 'i-i-i', 2507: 'force', 2508: 'badges', 2509: 'admitting', 2510: 'pian-ee', 2511: 'shoo', 2512: 'grab', 2513: \"'im\", 2514: 'dough', 2515: 'emotional', 2516: 'color', 2517: 'skin', 2518: 'alphabet', 2519: 'smug', 2520: 'louder', 2521: 'fuss', 2522: '1895', 2523: 'soap', 2524: 'aging', 2525: 'whenever', 2526: 'denser', 2527: 'disco', 2528: 'complaining', 2529: 'magazine', 2530: 'young_moe:', 2531: 'memory', 2532: 'amount', 2533: 'appointment', 2534: 'bird', 2535: 'decide', 2536: 'lush', 2537: 'cruel', 2538: 'david', 2539: 'wishes', 2540: 'cream', 2541: \"cat's\", 2542: 'nope', 2543: 'boozy', 2544: 'dessert', 2545: 'crumble', 2546: 'cooler', 2547: 'delivery_boy:', 2548: 'bastard', 2549: 'mona_simpson:', 2550: 'stevie', 2551: 'woozy', 2552: 'gifts', 2553: 'diamond', 2554: 'woman_bystander:', 2555: 'ziff', 2556: 'fold', 2557: 'achem', 2558: 'd', 2559: 'securities', 2560: 'exchange', 2561: 'sec_agent_#2:', 2562: 'investor', 2563: 'confidence', 2564: 'nerve', 2565: 'prison', 2566: 'standing', 2567: 'bedroom', 2568: 'value', 2569: 'shakespeare', 2570: 'watered-down', 2571: 'underpants', 2572: 'needy', 2573: 'kindly', 2574: 'funds', 2575: 'lap', 2576: \"what're\", 2577: 'bugging', 2578: 'seemed', 2579: 'wedding', 2580: 'missed', 2581: 'shoulder', 2582: 'department', 2583: 'violations', 2584: 'roof', 2585: 'shutting', 2586: \"'tis\", 2587: 'shrugs', 2588: \"beer's\", 2589: 'changes', 2590: 'conversation', 2591: 'hotline', 2592: 'dials', 2593: 'allowed', 2594: 'sleeps', 2595: 'quotes', 2596: 'therefore', 2597: 'regulars', 2598: 'skirt', 2599: 'prepared', 2600: 'trapped', 2601: 'rule', 2602: 'pint', 2603: 'judge_snyder:', 2604: 'ale', 2605: 'suds', 2606: 'cat', 2607: 'moe-clone:', 2608: 'attitude', 2609: 'weirder', 2610: 'jerky', 2611: 'record', 2612: 'bourbon', 2613: 'ginger', 2614: 'sissy', 2615: 'wrestling', 2616: 'forehead', 2617: 'barely', 2618: 'flag', 2619: 'attempting', 2620: \"takin'\", 2621: 'camp', 2622: 'cheat', 2623: 'haw', 2624: \"payin'\", 2625: 'known', 2626: 'bridge', 2627: 'museum', 2628: 'coins', 2629: 'jailbird', 2630: 'wangs', 2631: 'photo', 2632: 'shoots', 2633: 'louie:', 2634: 'reporter:', 2635: 'irish', 2636: \"drawin'\", 2637: 'marmaduke', 2638: \"waitin'\", 2639: 'fragile', 2640: 'wolfe', 2641: 'wordloaf', 2642: 'festival', 2643: 'fictional', 2644: \"what'sa\", 2645: 'fausto', 2646: 'action', 2647: 'pretending', 2648: 'abandon', 2649: 'airport', 2650: 'mortgage', 2651: \"ladies'\", 2652: 'dames', 2653: 'appealing', 2654: 'patient', 2655: 'weirded-out', 2656: 'fanciest', 2657: 'towed', 2658: 'eighty-one', 2659: 'joke', 2660: 'grandmother', 2661: 'bully', 2662: 'mixed', 2663: 'stir', 2664: 'positive', 2665: 'slight', 2666: 'latin', 2667: 'complaint', 2668: 'obvious', 2669: 'thighs', 2670: 'internet', 2671: 'media', 2672: 'disappeared', 2673: 'candidate', 2674: 'dennis_kucinich:', 2675: 'lurleen', 2676: 'lurleen_lumpkin:', 2677: 'rock', 2678: \"someone's\", 2679: 'hangs', 2680: 'sneaky', 2681: 'winnings', 2682: 'krabappel', 2683: 'difficult', 2684: 'discuss', 2685: 'compared', 2686: 'decent', 2687: 'doreen', 2688: 'doreen:', 2689: \"marge's\", 2690: 'available', 2691: 'bashir', 2692: 'arab_man:', 2693: 'dress', 2694: 'grimly', 2695: 'lock', 2696: 'combine', 2697: 'queen', 2698: 'multiple', 2699: 'prize', 2700: 'alfred', 2701: 'shower', 2702: 'tiny', 2703: 'slice', 2704: 'playful', 2705: \"wonderin'\", 2706: 'defeated', 2707: 'maya', 2708: 'whether', 2709: 'awww', 2710: 'rhyme', 2711: 'un-sults', 2712: 'courage', 2713: 'reviews', 2714: 'hibbert', 2715: 'banquo', 2716: 'thought_bubble_homer:', 2717: 'tries', 2718: 'wing', 2719: 'helllp', 2720: 'lovely', 2721: 'cozy', 2722: 'begins', 2723: 'torn', 2724: 'warn', 2725: 'possibly', 2726: 'stranger:', 2727: 'gator:', 2728: 'corporate', 2729: 'industry', 2730: 'awesome', 2731: 'decency', 2732: 'extremely', 2733: 'saint', 2734: 'type', 2735: 'is:', 2736: 'partly', 2737: 'golf', 2738: 'ball-sized', 2739: 'hail', 2740: 'continuing', 2741: 'electronic', 2742: 'zero', 2743: 'tale', 2744: 'restroom', 2745: 'rules', 2746: 'sitar', 2747: 'smallest', 2748: 'sympathetic', 2749: 'slightly', 2750: 'soup', 2751: 'padre', 2752: 'lloyd', 2753: 'candy', 2754: 'scary', 2755: 'beep', 2756: 'fox', 2757: 'strategy', 2758: 'answers', 2759: 'grienke', 2760: 'sport', 2761: 'doug:', 2762: 'sabermetrics', 2763: \"others'\", 2764: 'fixed', 2765: 'assistant', 2766: 'admiration', 2767: 'self-made', 2768: 'suspect', 2769: 'proposing', 2770: 'plans', 2771: 'hitler', 2772: 'dungeon', 2773: 'stern', 2774: 'waltz', 2775: 'suspicious', 2776: 'roz:', 2777: 'relieved', 2778: 'suing', 2779: 'therapist', 2780: 'skeptical', 2781: 'boneheaded', 2782: 'relationship', 2783: 'twin', 2784: 'dreamed', 2785: 'joey_kramer:', 2786: 'kramer', 2787: 'neighbor', 2788: 'completing', 2789: \"other's\", 2790: 'wayne', 2791: 'stealings', 2792: 'monkey', 2793: 'crew', 2794: \"children's\", 2795: 'underbridge', 2796: 'academy', 2797: 'neil_gaiman:', 2798: 'square', 2799: 'vulnerable', 2800: 'copy', 2801: 'trolls', 2802: 'vampires', 2803: \"hasn't\", 2804: 'lenny:', 2805: 'carl:', 2806: 'carll', 2807: 'website', 2808: 'safer', 2809: 'bedbugs', 2810: 'duty', 2811: 'intense', 2812: 'friendship', 2813: \"crawlin'\", 2814: 'maman', 2815: 'failed', 2816: 'lise:', 2817: 'marguerite:', 2818: 'cheese', 2819: 'degradation', 2820: 'violin', 2821: 'heading', 2822: 'raccoons', 2823: 'filled', 2824: 'rolled', 2825: 'trench', 2826: 'frog', 2827: 'poker', 2828: 'cowardly', 2829: 'outlook', 2830: 'motorcycle', 2831: 'ripcord', 2832: 'reached', 2833: 'so-called', 2834: '7-year-old_brockman:', 2835: 'muttering', 2836: 'plywood', 2837: 'hats', 2838: 'civilization', 2839: 'anarchy', 2840: 'w', 2841: \"readin'\", 2842: 'chicks', 2843: 'wooden', 2844: 'deacon', 2845: 'priest', 2846: 'important', 2847: 'vacuum', 2848: 'cleaner', 2849: 'tie', 2850: 'belong', 2851: 'dreams', 2852: 'elephants', 2853: 'brothers', 2854: 'wings', 2855: 'spied', 2856: 'bump', 2857: 'reliable', 2858: 'superhero', 2859: 'pigs', 2860: 'refresh', 2861: 'express', 2862: 'mall', 2863: 'santa', 2864: 'page', 2865: 'brassiest', 2866: 'nickels', 2867: 'laney_fontaine:', 2868: 'craphole', 2869: 'smile:', 2870: 'baritone', 2871: 'africa', 2872: 'snorts', 2873: 'wa', 2874: 'scrape', 2875: 'nigeria', 2876: 'level', 2877: 'nigerian', 2878: 'princesses', 2879: 'familiar', 2880: 'yawns', 2881: 'stuck', 2882: 'scooter', 2883: 'aged_moe:', 2884: 'teenage_homer:', 2885: 'grade', 2886: \"homer's_brain:\", 2887: 'punk', 2888: 'someday', 2889: 'boxing_announcer:', 2890: \"monroe's\", 2891: 'thru', 2892: 'koholic', 2893: \"dyin'\", 2894: 'tv_announcer:', 2895: 'patty', 2896: 'elite', 2897: 'enhance', 2898: 'skills', 2899: 'politician', 2900: \"neighbor's\", 2901: 'right-handed', 2902: 'corkscrews', 2903: 'homer_', 2904: \"cont'd:\", 2905: 'led', 2906: 'richer', 2907: 'county', 2908: 'faces', 2909: 'profiling', 2910: 'paper', 2911: \"depressin'\", 2912: 'crisis', 2913: 'pictured', 2914: 'underwear', 2915: 'jury', 2916: 'lawyer', 2917: 'pretzel', 2918: 'patrons:', 2919: 'foam', 2920: 'spare', 2921: 'stiffening', 2922: 'trenchant', 2923: 'disappointing', 2924: 'jer', 2925: 'grudgingly', 2926: 'reed', 2927: 'whoo', 2928: 'instrument', 2929: 'sunk', 2930: 'patrons', 2931: 'figure', 2932: 'healthier', 2933: 'increased', 2934: 'togetherness', 2935: 'poison', 2936: 'purveyor', 2937: 'mind-numbing', 2938: 'intoxicants', 2939: 'unfamiliar', 2940: 'tonic', 2941: 'mix', 2942: 'bowie', 2943: 'nickel', 2944: 'coughs', 2945: 'phlegm', 2946: 'looser', 2947: 'sneeze', 2948: 'guard', 2949: 'chuckling', 2950: 'crowded', 2951: 'cracked', 2952: 'accepting', 2953: 'stamps', 2954: 'combination', 2955: 'patron_#1:', 2956: 'patron_#2:', 2957: 'store-bought', 2958: 'drollery', 2959: 'application', 2960: 'ons', 2961: 'salary', 2962: 'wage', 2963: 'meaningfully', 2964: 'fringe', 2965: 'unforgettable', 2966: 'weekend', 2967: 'vacations', 2968: 'someplace', 2969: 'moxie', 2970: 'methinks', 2971: 'bannister', 2972: \"mcstagger's\", 2973: 'emporium', 2974: 'composite', 2975: 'logos', 2976: 'mozzarella', 2977: 'proposition', 2978: 'chain', 2979: 'recipe', 2980: 'dice', 2981: 'sweat', 2982: 'dies', 2983: 'delivery_man:', 2984: 'cases', 2985: 'hooked', 2986: 'waitress', 2987: 'pursue', 2988: 'hundreds', 2989: 'thousands', 2990: 'cuz', 2991: \"duff's\", 2992: 'information', 2993: 'motto', 2994: 'full-time', 2995: 'swine', 2996: 'germany', 2997: 'east', 2998: 'west', 2999: 'cleveland', 3000: 'browns', 3001: 'monkeyshines', 3002: 'kinds', 3003: 'resist', 3004: 'musses', 3005: 'today/', 3006: 'marvelous', 3007: 'play/', 3008: 'trees', 3009: 'sees/', 3010: 'please/', 3011: 'picnic', 3012: 'pip', 3013: 'mirthless', 3014: 'damned', 3015: 'reptile', 3016: 'saucy', 3017: 'sieben-gruben', 3018: '7g', 3019: 'terminated', 3020: 'example', 3021: 'sing-song', 3022: 'heavens', 3023: 'stamp', 3024: 'slays', 3025: 'terror', 3026: 'determined', 3027: 'freshened', 3028: 'hourly', 3029: 'provide', 3030: 'coyly', 3031: 'h', 3032: 'justify', 3033: 'england', 3034: 'modest', 3035: 'malibu', 3036: 'stacey', 3037: 'kitchen', 3038: 'prints', 3039: 'feminist', 3040: 'newsletter', 3041: 'daaaaad', 3042: 'grumbling', 3043: 'usual', 3044: 'wad', 3045: 'bills', 3046: 'thirty-five', 3047: 'sagely', 3048: 'sweaty', 3049: 'son-of-a', 3050: \"ma's\", 3051: 'norway', 3052: 'brunch', 3053: 'spectacular', 3054: 'baloney', 3055: 'gotcha', 3056: 'eminence', 3057: 'bookie', 3058: \"bettin'\", 3059: 'football', 3060: 'forty-five', 3061: 'pre-game', 3062: 'actor', 3063: 'mcclure', 3064: 'sitcom', 3065: 'premiering', 3066: 'coincidentally', 3067: \"show's\", 3068: 'criminal', 3069: 'fell', 3070: 'script', 3071: 'recent', 3072: 'irs', 3073: 'sealed', 3074: \"drexel's\", 3075: 'kickoff', 3076: 'kicks', 3077: 'position', 3078: 'gambler', 3079: 'score', 3080: 'fourteen:', 3081: 'duff_announcer:', 3082: 'half-back', 3083: 'beer-dorf', 3084: 'ticks', 3085: 'scores', 3086: \"fans'll\", 3087: 'looting', 3088: 'lone', 3089: 'handoff', 3090: 'twenty-nine', 3091: 'scratching', 3092: 'chin', 3093: 'stinky', 3094: 'sniffing', 3095: \"england's\", 3096: 'boggs', 3097: 'scornfully', 3098: 'exploiter', 3099: 'ignorant', 3100: \"jackpot's\", 3101: 'spitting', 3102: 'boozehound', 3103: \"singin'\", 3104: 'young_barfly:', 3105: 'moonnnnnnnn', 3106: 'quarter', 3107: 'hillbillies', 3108: 'blind', 3109: \"smokin'\", 3110: 'cummerbund', 3111: 'tight', 3112: 'furniture', 3113: 'frazier', 3114: 'washer', 3115: 'religious', 3116: 'maximum', 3117: 'occupancy', 3118: 'slick', 3119: 'kneeling', 3120: 'unattractive', 3121: 'wheeeee', 3122: 'cutest', 3123: 'larson', 3124: 'sponsoring', 3125: 'regulations', 3126: 'advertising', 3127: 'smokes', 3128: 'carolina', 3129: 'crowned', 3130: 'host', 3131: 'maitre', 3132: \"d'\", 3133: 'glee', 3134: 'heartily', 3135: 'event', 3136: 'tv_daughter:', 3137: 'smoker', 3138: 'enter', 3139: 'blimp', 3140: 'scientists', 3141: \"bo's\", 3142: 'cavern', 3143: 'mobile', 3144: 'starving', 3145: 'dogs', 3146: 'rusty', 3147: 'dull', 3148: 'spilled', 3149: 'ashtray', 3150: 'slurps', 3151: 'captain:', 3152: 'freed', 3153: 'iranian', 3154: 'hostages', 3155: \"sat's\", 3156: 'wishing', 3157: 'diaper', 3158: 'ronstadt', 3159: 'linda_ronstadt:', 3160: 'kl5-4796', 3161: '/mr', 3162: 'boozer', 3163: 'intelligent', 3164: 'lachrymose', 3165: 'dyspeptic', 3166: 'ebullient', 3167: 'harvard', 3168: 'silent', 3169: 'admirer', 3170: 'snide', 3171: 'moesy', 3172: 'worthless', 3173: 'rub-a-dub', 3174: 'anthony_kiedis:', 3175: 'thirty-thousand', 3176: 'audience', 3177: 'restless', 3178: 'chili', 3179: 'peppers', 3180: 'klown', 3181: 'flea:', 3182: 'gig', 3183: 'problemo', 3184: \"wallet's\", 3185: 'stares', 3186: 'miss_lois_pennycandy:', 3187: 'ruby-studded', 3188: 'johnny_carson:', 3189: 'undies', 3190: '50%', 3191: 'sales', 3192: 'sweetest', 3193: 'entertainer', 3194: 'crowds', 3195: 'wild', 3196: 'farewell', 3197: 'shop', 3198: 'theatrical', 3199: 'distaste', 3200: 'officer', 3201: 'replace', 3202: 'nahasapeemapetilon', 3203: 'fit', 3204: 'marquee', 3205: 'luv', 3206: 'du', 3207: 'beaumarchais', 3208: 'dishonor', 3209: 'ancestors', 3210: 'applicant', 3211: 'killarney', 3212: 'mither', 3213: 'sang', 3214: 'tones', 3215: 'soft', 3216: 'swe-ee-ee-ee-eet', 3217: 'my-y-y-y-y-y', 3218: 'hanh', 3219: 'sounded', 3220: 'kako:', 3221: 'floating', 3222: 'perfume', 3223: \"man's\", 3224: 'hat', 3225: 'phasing', 3226: 'schabadoo', 3227: 'attracted', 3228: 'reciting', 3229: 'infatuation', 3230: 'physical', 3231: 'attraction', 3232: 'common', 3233: 'napkins', 3234: 'vigilante', 3235: 'handshake', 3236: 'eightball', 3237: 'twelveball', 3238: 'aboard', 3239: 'nooo', 3240: 'file', 3241: 'fiiiiile', 3242: 'necessary', 3243: 'astronauts', 3244: 'introduce', 3245: 'evils', 3246: 'unfair', 3247: 'wobble', 3248: 'caholic', 3249: 'pee', 3250: 'freely', 3251: 'crotch', 3252: 'ivanna', 3253: 'fondest', 3254: 'desire', 3255: 'invisible', 3256: 'donut', 3257: 'sacrilicious', 3258: 'indecipherable', 3259: 'goo', 3260: 'ideal', 3261: 'thoughtless', 3262: 'remain', 3263: 'nameless', 3264: 'spite', 3265: 'clips', 3266: 'awfully', 3267: 'flustered', 3268: \"ball's\", 3269: 'slender', 3270: 'feminine', 3271: 'tapered', 3272: 'lighter', 3273: 'delicate', 3274: 'brunswick', 3275: 'bowled', 3276: 'shifty', 3277: 'eyed', 3278: 'genuinely', 3279: 'enthused', 3280: 'patting', 3281: 'flames', 3282: \"burnin'\", 3283: 'soaked', 3284: \"messin'\", 3285: 'banned', 3286: 'sugar-me-do', 3287: 'caricature', 3288: 'mt', 3289: 'lushmore', 3290: 'juke', 3291: 'raining', 3292: 'oww', 3293: 'jokes', 3294: 'incognito', 3295: 'gr-aargh', 3296: 'exact', 3297: 'equal', 3298: 'astonishment', 3299: 'puffy', 3300: 'however', 3301: 'confidentially', 3302: 'collateral', 3303: 'shark', 3304: 'finance', 3305: 'sledge-hammer', 3306: 'othello', 3307: 'drinker', 3308: 'sensible', 3309: 'presently', 3310: 'beast', 3311: 'savagely', 3312: 'tender', 3313: 'scout', 3314: 'arrested:', 3315: 'heather', 3316: 'locklear', 3317: 'fortensky', 3318: 'hugh', 3319: 'cuff', 3320: 'links', 3321: 'traditions', 3322: 'enthusiasm', 3323: 'other_player:', 3324: \"fightin'\", 3325: 'dizzy', 3326: 'nauseous', 3327: 'female_inspector:', 3328: 'toxins', 3329: 'pumping', 3330: 'steely-eyed', 3331: 'ahhhh', 3332: 'rascals', 3333: 'smelly', 3334: 'shtick', 3335: 'faceful', 3336: 'soot', 3337: 'william', 3338: 'faulkner', 3339: 'aggie', 3340: 'director:', 3341: 'stagehand:', 3342: 'luckily', 3343: 'orphan', 3344: 'owned', 3345: 'assent', 3346: 'wealthy', 3347: 'merchants', 3348: 'forgiven', 3349: 'prices', 3350: 'flailing', 3351: 'agh', 3352: 'little_hibbert_girl:', 3353: 'mmm-hmm', 3354: 'cheesecake', 3355: 'depository', 3356: 'all-american', 3357: 'cooking', 3358: 'chairman', 3359: 'wok', 3360: 'relaxing', 3361: 'madman', 3362: 'cooker', 3363: 'feedbag', 3364: \"fryer's\", 3365: 'navy', 3366: 'flash-fry', 3367: 'whining', 3368: \"g'on\", 3369: 'extinguishers', 3370: 'cheering', 3371: \"aren'tcha\", 3372: '50-60', 3373: 'mistakes', 3374: 'mistresses', 3375: 'quimby_#2:', 3376: 'quimbys:', 3377: 'bell', 3378: 'support', 3379: 'prejudice', 3380: 'hero-phobia', 3381: 'sickens', 3382: 'jubilation', 3383: 'committee', 3384: 'vicious', 3385: 'distract', 3386: 'safely', 3387: 'choices:', 3388: 'barney-guarding', 3389: 'contemplated', 3390: 'truck_driver:', 3391: 'dracula', 3392: 'marry', 3393: 'jovial', 3394: 'sickly', 3395: 'ura', 3396: 'snotball', 3397: '70', 3398: 'voyager', 3399: 'craft', 3400: \"tab's\", 3401: '14', 3402: 'alls', 3403: 'halfway', 3404: 'muscle', 3405: \"wino's\", 3406: 'muffled', 3407: 'inches', 3408: 'bullet-proof', 3409: 'student', 3410: 'aggravazes', 3411: 'immiggants', 3412: 'bothered', 3413: 'language', 3414: 'sentimonies', 3415: \"jimbo's_dad:\", 3416: \"dolph's_dad:\", 3417: 'throws', 3418: 'ugh', 3419: \"kearney's_dad:\", 3420: \"somethin's\", 3421: \"fun's\", 3422: 'two-drink', 3423: 'punishment', 3424: 'three-man', 3425: \"poundin'\", 3426: \"kid's\", 3427: 'beatings', 3428: 'spirit', 3429: 'prizefighters', 3430: 'perking', 3431: 'boxers', 3432: 'lobster', 3433: 'dressing', 3434: 'limits', 3435: 'arise', 3436: 'clincher', 3437: 'sixty', 3438: 'wantcha', 3439: 'faith', 3440: '1979', 3441: 'office', 3442: 'presentable', 3443: 'gruesome', 3444: 'democrats', 3445: 'causes', 3446: 'damage', 3447: 'boxcar', 3448: 'brawled', 3449: 'boxcars', 3450: 'fighter', 3451: 'mitts', 3452: 'barbed', 3453: 'stinger', 3454: 'drawn', 3455: \"tramp's\", 3456: 'stops', 3457: 'punching', 3458: \"'cept\", 3459: 'bindle', 3460: \"now's\", 3461: 'delightful', 3462: 'glitterati', 3463: 'highest', 3464: 'priority', 3465: 'temporarily', 3466: 'incarcerated', 3467: 'pushing', 3468: 'stairs', 3469: 'impending', 3470: 'strategizing', 3471: 'glorious', 3472: 'shores', 3473: 'fistiana', 3474: 'comeback', 3475: \"donatin'\", 3476: 'stalwart', 3477: 'pugilist', 3478: 'fights', 3479: 'sustain', 3480: 'verticality', 3481: \"tatum'll\", 3482: 'fustigate', 3483: 'fustigation', 3484: 'choice:', 3485: 'faded', 3486: 'tar-paper', 3487: 'naively', 3488: 'champion', 3489: 'evasive', 3490: 'charged', 3491: 'landfill', 3492: 'burg', 3493: 'pussycat', 3494: 'doll-baby', 3495: 'starla', 3496: 'starla:', 3497: 'wigs', 3498: \"starla's\", 3499: 'temp', 3500: 'k-zug', 3501: \"'kay-zugg'\", 3502: '530', 3503: 'launch', 3504: 'demo', 3505: 'housework', 3506: 'self-centered', 3507: 'though:', 3508: 'thawing', 3509: 'station', 3510: 'sink', 3511: 'broken:', 3512: 'foundation', 3513: 'helpful', 3514: 'crony', 3515: 'sam:', 3516: 'sympathizer', 3517: 'bumblebee_man:', 3518: 'compadre', 3519: 'kearney_zzyzwicz:', 3520: 'associate', 3521: 'contemporary', 3522: 'well-wisher', 3523: 'specific', 3524: 'harm', 3525: 'friday', 3526: 'düff', 3527: 'doof', 3528: 'sweden', 3529: 'skoal', 3530: 'nasty', 3531: 'refreshing', 3532: 'breathalyzer', 3533: 'recreate', 3534: 'alien', 3535: 'wittgenstein', 3536: 'backgammon', 3537: 'dana_scully:', 3538: 'felony', 3539: 'packets', 3540: 'mustard', 3541: \"fine-lookin'\", 3542: 'remorseful', 3543: 'anyhow', 3544: 'agents', 3545: 'mulder', 3546: 'edgy', 3547: \"s'cuse\", 3548: 'dimly', 3549: 'generously', 3550: 'raking', 3551: 'nervously', 3552: 'syndicate', 3553: 'ambrose', 3554: 'burnside', 3555: 'stonewall', 3556: 'jackson', 3557: 'mill', 3558: \"industry's\", 3559: 'aerospace', 3560: 'railroads', 3561: 'knowingly', 3562: 'hoped', 3563: \"bart'd\", 3564: 'mystery', 3565: \"swishifyin'\", 3566: 'effect', 3567: \"mtv's\", 3568: 'lessee', 3569: \"shootin'\", 3570: \"man'd\", 3571: 'wars', 3572: 'warren', 3573: 'grandkids', 3574: 'considers', 3575: 'st', 3576: 'metal', 3577: 'busiest', 3578: 'cheapskates', 3579: 'ireland', 3580: 'menacing', 3581: 'yew', 3582: 'bathtub', 3583: 'mint', 3584: 'julep', 3585: 'jane', 3586: 'fonda', 3587: 'daniel', 3588: 'schorr', 3589: 'anderson', 3590: 'richard', 3591: \"nixon's\", 3592: 'expecting', 3593: 'chauffeur', 3594: 'lift', 3595: \"washin'\", 3596: 'desperately', 3597: 'belly-aching', 3598: 'wh', 3599: 'abe', 3600: 'dea-d-d-dead', 3601: 'stooges', 3602: 'shopping', 3603: 'cans', 3604: 'wise', 3605: 'socratic', 3606: 'swelling', 3607: 'mushy', 3608: 'hearts', 3609: 'pinball', 3610: 'western', 3611: 'dishrag', 3612: 'crab', 3613: 'talkers', 3614: 'jewish', 3615: 'catch-phrase', 3616: 'grrrreetings', 3617: 'darn', 3618: \"tootin'\", 3619: 'fink', 3620: 'ping-pong', 3621: 'plug', 3622: \"usin'\", 3623: \"phone's\", 3624: 'four-drink', 3625: 'test-', 3626: 'test-lady', 3627: \"g'ahead\", 3628: 'clammy', 3629: 'lovelorn', 3630: 'you-need-man', 3631: 'moe-near-now', 3632: 'go-near-', 3633: 'endorsement', 3634: 'breakfast', 3635: 'rush', 3636: \"'evening\", 3637: \"'morning\", 3638: 'chauffeur:', 3639: '91', 3640: 'accidents', 3641: 'choose', 3642: 'whoever', 3643: 'stays', 3644: 'noooooooooo', 3645: 'pantsless', 3646: 'duffed', 3647: 'creates', 3648: 'awareness', 3649: 'bottomless', 3650: 'cheerleaders:', 3651: 'and:', 3652: 'perfunctory', 3653: 'brusque', 3654: 'ehhh', 3655: 'swell', 3656: 'wholeheartedly', 3657: 'supports', 3658: 'shaky', 3659: 'lecture', 3660: 'villanova', 3661: 'streetcorner', 3662: 'anger', 3663: 'ought', 3664: 'parasol', 3665: 'congratulations', 3666: 'cockroach', 3667: 'displeased', 3668: 'man_at_bar:', 3669: \"scammin'\", 3670: 'easter', 3671: 'giant', 3672: 'rumor', 3673: 'depression', 3674: 'depressant', 3675: 'sight-unseen', 3676: 'twenty-four', 3677: 'chipper', 3678: 'dirge-like', 3679: 'blooded', 3680: 'bachelorhood', 3681: 'jasper_beardly:', 3682: 'hot-rod', 3683: 'souped', 3684: 'gear-head', 3685: 'six-barrel', 3686: 'hollye', 3687: 'carb', 3688: 'betcha', 3689: 'edelbrock', 3690: 'intakes', 3691: 'meyerhof', 3692: 'lifters', 3693: 'dignity', 3694: 'breakdown', 3695: 'society', 3696: 'dateline:', 3697: 'burglary', 3698: 'creature', 3699: 'intoxicated', 3700: 'marjorie', 3701: 'heart-broken', 3702: 'sweater', 3703: 'cajun', 3704: 'sneering', 3705: 'choke', 3706: 'enthusiastically', 3707: 'stomach', 3708: 'bushes', 3709: 'tapping', 3710: 'further', 3711: 'zinged', 3712: 'spews', 3713: 'orifice', 3714: 'indifference', 3715: 'clapping', 3716: \"hawkin'\", 3717: 'vincent', 3718: \"floatin'\", 3719: 'horrors', 3720: 'unfresh', 3721: 'winston', 3722: 'wienerschnitzel', 3723: 'madison', 3724: 'avenue', 3725: 'robbers', 3726: 'various', 3727: 'impeach', 3728: 'crooks', 3729: 'allowance', 3730: 'cats', 3731: '$42', 3732: 'bury', 3733: 'businessman_#2:', 3734: 'boston', 3735: 'suits', 3736: 'vehicle', 3737: 'oooo', 3738: 'ignoring', 3739: 'followed', 3740: 'begging', 3741: 'combines', 3742: 'handling', 3743: 'rugged', 3744: 'driveability', 3745: 'sturdy', 3746: '4x4', 3747: \"ya'\", 3748: 'cadillac', 3749: 'automobiles', 3750: 'beefs', 3751: 'fat-free', 3752: 'th-th-th-the', 3753: 'groan', 3754: 'jay:', 3755: 'shoulda', 3756: 'shill', 3757: 'indifferent', 3758: '35', 3759: 'hammer', 3760: 'country-fried', 3761: 'endorsed', 3762: 'federal', 3763: 'ruled', 3764: 'unsafe', 3765: 'chorus:', 3766: 'lanes', 3767: 'sixty-five', 3768: 'tons', 3769: 'unexplained', 3770: 'fires', 3771: 'courts', 3772: 'blinds', 3773: 'squirrel', 3774: 'squashing', 3775: \"smackin'\", 3776: 'canyoner-oooo', 3777: 'hyahh', 3778: 'blissful', 3779: 'hiding', 3780: 'rash', 3781: 'whatchacallit', 3782: 'homesick', 3783: 'diving', 3784: 'tourist', 3785: 'pennies', 3786: 'micronesian', 3787: 'swamp', 3788: 'mirror', 3789: 'puke-pail', 3790: \"fendin'\", 3791: 'starlets', 3792: 'pointy', 3793: 'ugliness', 3794: 'dozen', 3795: 'ram', 3796: 'players', 3797: 'maxed', 3798: 'tenuous', 3799: 'pinchpenny', 3800: 'besides', 3801: 'tabs', 3802: 'ungrateful', 3803: 'ingrates', 3804: \"renee's\", 3805: 'insured', 3806: 'wreck', 3807: 'awkwardly', 3808: 'insist', 3809: 'model', 3810: 'represents', 3811: 'olive', 3812: \"car's\", 3813: 'toy', 3814: 'waterfront', 3815: \"department's\", 3816: 'moonlight', 3817: 'cruise', 3818: 'righ', 3819: 'alibi', 3820: 'tracks', 3821: '10:15', 3822: 'wham', 3823: 'insurance', 3824: 'clams', 3825: 'troubles', 3826: 'betrayed', 3827: 'low-life', 3828: 'y-you', 3829: 'hmf', 3830: 'locked', 3831: 'clearing', 3832: 'graveyard', 3833: 'we-we-we', 3834: 'brandy', 3835: 'fwooof', 3836: 'hawaii', 3837: 'yelp', 3838: 'murderously', 3839: 'oh-ho', 3840: \"g'night\", 3841: 'mommy', 3842: 'sincerely', 3843: 'tearfully', 3844: 'beady', 3845: \"homer'll\", 3846: 'naval', 3847: 'strictly', 3848: 'forbids', 3849: 'hah', 3850: 'thorn', 3851: 'grants', 3852: 'wondered', 3853: \"that'd\", 3854: 'heatherton', 3855: 'tempting', 3856: 'agent_miller:', 3857: 'flashing', 3858: 'badge', 3859: 'united', 3860: 'states', 3861: 'wiping', 3862: 'signal', 3863: 'activity', 3864: 'cause', 3865: 'commit', 3866: 'crimes', 3867: 'fired', 3868: 'moonshine', 3869: 'basement', 3870: 'telemarketing', 3871: 'uhhhh', 3872: 'george', 3873: 'seething', 3874: 'charlie:', 3875: 'militia', 3876: 'sorts', 3877: 'officials', 3878: 'drag', 3879: 'high-definition', 3880: 'conspiracy', 3881: 'musta', 3882: 'ratted', 3883: 'transmission', 3884: 'disaster', 3885: 'wishful', 3886: 'elect', 3887: 'vengeful', 3888: 'slogan', 3889: 'appeals', 3890: 'slobs', 3891: 'triumphantly', 3892: 'u2:', 3893: 'sanitation', 3894: 'blokes', 3895: 'courteous', 3896: 'easygoing', 3897: 'the_edge:', 3898: 'overflowing', 3899: 'bono:', 3900: 'arse', 3901: 'knocks', 3902: 'omit', 3903: 'detail', 3904: 'spellbinding', 3905: 'thomas', 3906: 'dictating', 3907: 'fluoroscope', 3908: 'repeating', 3909: 'telegraph', 3910: 'breathless', 3911: 'firm', 3912: 'believer', 3913: 'fletcherism', 3914: 'heliotrope', 3915: 'alva', 3916: 'wore', 3917: 'pajamas', 3918: 'rubs', 3919: 'temples', 3920: 'menlo', 3921: 'tasimeter', 3922: 'ore', 3923: 'separator', 3924: 'watt', 3925: 'steam', 3926: 'engine', 3927: 'unusually', 3928: 'focused', 3929: 'squeal', 3930: 'waste', 3931: \"somebody's\", 3932: 'gus', 3933: 'yoink', 3934: 'peeved', 3935: 'citizens', 3936: 'murdered', 3937: 'watered', 3938: 'highball', 3939: 'derisive', 3940: 'grocery', 3941: 'absorbent', 3942: 'youuu', 3943: 'ointment', 3944: 'aisle', 3945: 'coy', 3946: 'kim_basinger:', 3947: 'alec_baldwin:', 3948: 'ron_howard:', 3949: 'statesmanlike', 3950: 'doctor', 3951: 'polenta', 3952: 'life-threatening', 3953: 'donor', 3954: 'sucker', 3955: 'lists', 3956: 'spine', 3957: 'vestigial', 3958: 'plaintive', 3959: 'buttocks', 3960: 'harvesting', 3961: 'eyeing', 3962: 'hostile', 3963: \"'round\", 3964: 'y', 3965: 'dime', 3966: 'quimby', 3967: 'puke-holes', 3968: 'reserved', 3969: 'cronies', 3970: 'düffenbraus', 3971: 'semi-imported', 3972: 'guzzles', 3973: 'generosity', 3974: 'greatly', 3975: 'appreciated', 3976: 'stagey', 3977: 'roach', 3978: 'hubub', 3979: 'sniper', 3980: 'blessing', 3981: 'disguise', 3982: 'ruuuule', 3983: 'die-hard', 3984: 'winded', 3985: \"brockman's\", 3986: 'microphone', 3987: 'woooooo', 3988: 'ga', 3989: 'ninth', 3990: 'outs', 3991: 'j', 3992: \"'s\", 3993: 'jumping', 3994: 'technical', 3995: 'stan', 3996: 'kadlubowski', 3997: 'injury', 3998: \"football's\", 3999: 'champs', 4000: 'harrowing', 4001: 'enjoys', 4002: 'scornful', 4003: 'bronco', 4004: 'nagurski', 4005: 'reconsidering', 4006: 'coupon', 4007: 'travel', 4008: 'agency', 4009: 'charter', 4010: 'dreamily', 4011: 'quarterback', 4012: 'wally', 4013: 'it:', 4014: 'count', 4015: 'broncos', 4016: 'hillary', 4017: 'adventure', 4018: 'assassination', 4019: 'scarf', 4020: 'lance', 4021: 'supervising', 4022: 'bumbling', 4023: 'sidekick', 4024: 'infiltrate', 4025: 'idiots', 4026: 'destroyed', 4027: 'shipment', 4028: 'indeedy', 4029: 'insulin', 4030: 'haplessly', 4031: \"spaghetti-o's\", 4032: 'dum-dum', 4033: 'unintelligent', 4034: 'shutup', 4035: 'diminish', 4036: 'bid', 4037: 'encore', 4038: 'encores', 4039: 'reactions', 4040: 'clap', 4041: 'erasers', 4042: 'sideshow_mel:', 4043: 'barbara', 4044: 'arts', 4045: 'stalking', 4046: 'bumped', 4047: 'sympathy', 4048: 'guiltily', 4049: 'maude', 4050: 'shriners', 4051: 'old_jewish_man:', 4052: 'traitor', 4053: 'astrid', 4054: 'dealer', 4055: 'gunter', 4056: 'cecil', 4057: 'hampstead-on-cecil-cecil', 4058: 'eurotrash', 4059: 'gunter:', 4060: 'adrift', 4061: 'decadent', 4062: 'luxury', 4063: 'meaningless', 4064: 'located', 4065: 'cecil_terwilliger:', 4066: 'hotel', 4067: 'practice', 4068: 'affectations', 4069: 'bon', 4070: 'soir', 4071: 'feld', 4072: 'priceless', 4073: 'sketch', 4074: 'certificate', 4075: 'authenticity', 4076: 'sketching', 4077: 'twelve-step', 4078: 'novelty', 4079: 'item', 4080: 'chosen', 4081: 'squadron', 4082: '8', 4083: 'monday', 4084: 'municipal', 4085: 'fortress', 4086: 'vengeance', 4087: 'studied', 4088: 'fastest', 4089: 'theory', 4090: 'donut-shaped', 4091: 'universe', 4092: 'intriguing', 4093: 'computer_voice_2:', 4094: 'larry', 4095: 'flynt', 4096: 'stink', 4097: \"hell's\", 4098: 'jazz', 4099: 'regretted', 4100: 'helpless', 4101: 'frescas', 4102: 'hushed', 4103: \"bladder's\", 4104: 'urine', 4105: 'demand', 4106: 'slaps', 4107: 'extreme', 4108: 'slapped', 4109: \"duelin'\", 4110: 'shack', 4111: \"b-52's:\", 4112: 'sat-is-fac-tion', 4113: 'feat', 4114: 'forgotten', 4115: 'depressed', 4116: 'shred', 4117: 'shreda', 4118: 'rivalry', 4119: 'spreads', 4120: 'wildfever', 4121: 'th', 4122: 'writer:', 4123: 'preparation', 4124: 'additional-seating-capacity', 4125: 'ivy-covered', 4126: 'founded', 4127: 'kegs', 4128: 'imported-sounding', 4129: 'tuborg', 4130: 'kings', 4131: 'accounta', 4132: 'sun', 4133: 'sky', 4134: 'sail', 4135: 'waters', 4136: 'theme', 4137: 'tyson/secretariat', 4138: 'wildest', 4139: 'calendars', 4140: 'liquor', 4141: 'examines', 4142: 'expired', 4143: '1973', 4144: 'rhode', 4145: 'signed', 4146: 'updated', 4147: 'poster', 4148: 'moe-lennium', 4149: 'sticker', 4150: 'viva', 4151: 'relative', 4152: 'stickers', 4153: 'uglier', 4154: 'pigtown', 4155: 'cauliflower', 4156: 'ear', 4157: 'lizard', 4158: 'caveman', 4159: 'snout', 4160: 'emphasis', 4161: 'maher', 4162: 'crapmore', 4163: 'kisser', 4164: 'spotting', 4165: 'windowshade', 4166: 'grope', 4167: 'softer', 4168: 'complicated', 4169: 'maintenance', 4170: \"neat's-foot\", 4171: 'hooters', 4172: 'wraps', 4173: 'crushed', 4174: 'hike', 4175: 'mabel', 4176: 'voted', 4177: 'chastity', 4178: 'bono', 4179: 'influence', 4180: 'glummy', 4181: 'shindig', 4182: 'videotaped', 4183: 'slot', 4184: 'package', 4185: 'tha', 4186: 'occasion', 4187: 'older', 4188: 'flew', 4189: 'upsetting', 4190: 'stage', 4191: 'talkative', 4192: 'coherent', 4193: 'yourse', 4194: 'soaking', 4195: 'shag', 4196: 'disgracefully', 4197: 'presents', 4198: 'without:', 4199: 'morning-after', 4200: 'boozebag', 4201: 'whirlybird', 4202: 'b-day', 4203: 'punkin', 4204: 'tanking', 4205: \"handwriting's\", 4206: 'afloat', 4207: 'santeria', 4208: 'breaks', 4209: 'straighten', 4210: 'finish', 4211: 'suspiciously', 4212: 'world-class', 4213: 'alcoholism', 4214: 'raging', 4215: 'barney-type', 4216: 'bad-mouth', 4217: 'catty', 4218: 'consulting', 4219: 'amends', 4220: 'disgraceful', 4221: 'behavior', 4222: 'barstools', 4223: 'closet', 4224: 'drop-off', 4225: 'bulletin', 4226: 'broken', 4227: 'trapping', 4228: 'youngsters', 4229: 'trucks', 4230: 'unavailable', 4231: 'blaze', 4232: 'burt_reynolds:', 4233: 'feisty', 4234: 'supreme', 4235: 'court', 4236: 'birth', 4237: 'competing', 4238: 'cross-country', 4239: 'race', 4240: 'flown', 4241: 'heroism', 4242: 'charges', 4243: 'binoculars', 4244: 'grieving', 4245: 'slab', 4246: 'tear', 4247: 'reluctantly', 4248: 'clenched', 4249: 'resigned', 4250: 'according', 4251: 'uses', 4252: 'appearance-altering', 4253: 'cosmetics', 4254: 'warned', 4255: 'tall', 4256: 'clandestine', 4257: 'disturbing', 4258: 'pulitzer', 4259: 'guinea', 4260: 'chew', 4261: 'telephone', 4262: 'experiments', 4263: 'ears', 4264: 'winces', 4265: 'hmmmm', 4266: 'dawning', 4267: 'appalled', 4268: 'fire_inspector:', 4269: 'brainiac', 4270: 'distinct', 4271: 'strain', 4272: 'anti-intellectualism', 4273: 'einstein', 4274: 'appendectomy', 4275: 'lipo', 4276: 'sampler', 4277: 'dramatically', 4278: 'crayon', 4279: 'art', 4280: 'carney', 4281: 'flourish', 4282: 'crayola', 4283: 'oblongata', 4284: 'deeper', 4285: 'pusillanimous', 4286: 'pilsner-pusher', 4287: 'inanely', 4288: 'extended', 4289: 'warranty', 4290: 'sacajawea', 4291: 'manatee', 4292: 'cranberry', 4293: 'aah', 4294: 'painted', 4295: 'choices', 4296: 'scanning', 4297: \"soakin's\", 4298: 'nectar', 4299: 'nitwit', 4300: \"knockin'\", 4301: 'badmouths', 4302: \"o'\", 4303: 'mindless', 4304: 'droning', 4305: 'befriend', 4306: \"raggin'\", 4307: 'conditioners', 4308: 'loneliness', 4309: 'guttural', 4310: 'heartless', 4311: 'owns', 4312: 'family-owned', 4313: 'eye-gouger', 4314: 'brine', 4315: 'massive', 4316: 'occasional', 4317: 'total', 4318: 'rip-off', 4319: 'gangrene', 4320: 'cup', 4321: \"coffee'll\", 4322: 'waking-up', 4323: 'instantly', 4324: \"nick's\", 4325: 'rude', 4326: 'hitchhike', 4327: 'emergency', 4328: 'dollface', 4329: 'nash', 4330: 'bridges', 4331: 'illegally', 4332: 'smuggled', 4333: '2nd_voice_on_transmitter:', 4334: '3rd_voice:', 4335: 'presses', 4336: 'snitch', 4337: 'lotsa', 4338: 'mission', 4339: 'fireworks', 4340: 'incriminating', 4341: 'recorder', 4342: 'hootie', 4343: 'blowfish', 4344: 'cheaper', 4345: 'blank', 4346: 'wells', 4347: 'aer', 4348: 'lingus', 4349: 'leprechaun', 4350: 'cursed', 4351: \"heat's\", 4352: 'dejected', 4353: 'slugger', 4354: 'italian', 4355: \"spyin'\", 4356: 'assumed', 4357: 'stupidest', 4358: 'valley', 4359: 'series', 4360: 'quitcher', 4361: 'bellyaching', 4362: 'dumb-asses', 4363: 'yak', 4364: \"d'ya\", 4365: 'shesh', 4366: 'smiled', 4367: 'nailed', 4368: 'jigger', 4369: 'illustrates', 4370: 'swigmore', 4371: 'fills', 4372: 'alma', 4373: 'mater', 4374: 'rekindle', 4375: 'urban', 4376: \"tinklin'\", 4377: 'chips', 4378: \"when's\", 4379: 'natured', 4380: 'splattered', 4381: 'fonzie', 4382: 'hemorrhage-amundo', 4383: 'yello', 4384: 'booger', 4385: 'dirty', 4386: 'teen', 4387: 'hardhat', 4388: 'wrecking', 4389: 'giggle', 4390: 'fainted', 4391: 'prettied', 4392: 'renew', 4393: 'zeal', 4394: 'twentieth', 4395: 'dean', 4396: 'design', 4397: 'certified', 4398: 'contractors', 4399: 'pages', 4400: 'hippies', 4401: 'rem', 4402: 'apology', 4403: 'eco-fraud', 4404: 'reluctant', 4405: 'rainforest', 4406: 'peter_buck:', 4407: 'michael', 4408: 'supplying', 4409: 'mike_mills:', 4410: 'gluten', 4411: 'ate', 4412: 'michael_stipe:', 4413: 'mmmmm', 4414: 'alternative', 4415: 'rockers', 4416: 'gabriel', 4417: 'mortal', 4418: 'equivalent', 4419: 'gabriel:', 4420: 'temper', 4421: 'deliberately', 4422: 'girl-bart', 4423: 'loathe', 4424: 'knives', 4425: \"lady's\", 4426: \"'n'\", 4427: 'creme', 4428: 'martini', 4429: 'amber_dempsey:', 4430: 'annoying', 4431: 'night-crawlers', 4432: 'bragging', 4433: 'mole', 4434: 'wowww', 4435: 'amber', 4436: 'proves', 4437: 'buffet', 4438: 'clothespins', 4439: 'attach', 4440: 'clothespins:', 4441: 'swallowed', 4442: 'inserted', 4443: 'clipped', 4444: 'sixteen', 4445: 'magnanimous', 4446: \"clancy's\", 4447: 'op', 4448: 'lovers', 4449: 'newsweek', 4450: 'failure', 4451: 'thrust', 4452: 'trivia', 4453: 'lifetime', 4454: 'supply', 4455: 'chug-monkeys', 4456: 'beverage', 4457: 'hops', 4458: 'grains', 4459: 'grain', 4460: \"time's\", 4461: 'reading:', 4462: 'woulda', 4463: 'arrange', 4464: 'escort', 4465: 'orgasmville', 4466: 'enlightened', 4467: 'television', 4468: 'producers', 4469: 'booking', 4470: 'mid-seventies', 4471: 'alky', 4472: \"round's\", 4473: 'payday', 4474: 'rented', 4475: 'swings', 4476: \"battin'\", 4477: 'cage', 4478: 'perverted', 4479: 'winner', 4480: 'sprawl', 4481: 'hockey-fight', 4482: 'settled', 4483: \"what'd\", 4484: 'lookalike:', 4485: 'chuck', 4486: 'exited', 4487: 'trunk', 4488: 'rainier', 4489: 'wolfcastle', 4490: 'ab', 4491: 'roller', 4492: 'backward', 4493: 'leftover', 4494: 'lookalike', 4495: 'lookalikes', 4496: 'macaulay', 4497: 'culkin', 4498: 'killing', 4499: 'alpha-crow', 4500: 'enveloped', 4501: 'crow', 4502: 'crowbar', 4503: 'sloppy', 4504: 'wacky', 4505: 'tobacky', 4506: 'spacey', 4507: 'intervention', 4508: 'poisoning', 4509: 'excuses', 4510: 'funeral', 4511: 'interrupting', 4512: 'forty-seven', 4513: 'here-here-here', 4514: 'pepper', 4515: 'shaker', 4516: 'dash', 4517: 'dinks', 4518: 'squishee', 4519: 'canoodling', 4520: 'junkyard', 4521: 'rabbits', 4522: 'soothing', 4523: 'promise', 4524: 'tropical', 4525: 'windelle', 4526: 'muhammad', 4527: 'ali', 4528: 'anti-lock', 4529: 'brakes', 4530: 'johnny', 4531: 'mathis', 4532: 'versus', 4533: 'pepsi', 4534: 'meditative', 4535: 'lily-pond', 4536: 'fry', 4537: 'squirrels', 4538: 'super-genius', 4539: 'certainly', 4540: 'lenford', 4541: 'celebration', 4542: 'pasta', 4543: 'mini-beret', 4544: \"this'll\", 4545: 'speed', 4546: 'nos', 4547: 'killer', 4548: 'stab', 4549: 'simon', 4550: 'up-bup-bup', 4551: \"pickin'\", 4552: 'homer_doubles:', 4553: 'len-ny', 4554: 'piano', 4555: 'cell-ee', 4556: 'cattle', 4557: \"rustlin'\", 4558: \"calf's\", 4559: 'sneak', 4560: 'snatch', 4561: 'ghouls', 4562: 'grammy', 4563: 'judges', 4564: 'perfected', 4565: 'device', 4566: 'flayvin', 4567: 'space-time', 4568: 'continuum', 4569: \"wait'll\", 4570: 'wasted', 4571: 'plotz', 4572: 'absentminded', 4573: 'polishing', 4574: 'diapers', 4575: 'yuh-huh', 4576: 'alter', 4577: 'consciousness', 4578: 'glitz', 4579: 'glamour', 4580: 'beligerent', 4581: 'liable', 4582: 'taunting', 4583: 'accelerating', 4584: 'snapping', 4585: 'cab_driver:', 4586: 'newest', 4587: 'supermodel', 4588: 'longest', 4589: 'spit-backs', 4590: \"tonight's\", 4591: 'cock', 4592: 'scoffs', 4593: 'tokens', 4594: 'reality', 4595: 'gimmick', 4596: 'lincoln', 4597: 'kennedy', 4598: 'mckinley', 4599: 'simple', 4600: 'slit', 4601: 'quick-like', 4602: 'sideshow_bob:', 4603: 'haikus', 4604: 'skinheads', 4605: 'concentrate', 4606: 'detective', 4607: 'unbelievable', 4608: 'digging', 4609: 'intimacy', 4610: 'cobbling', 4611: 'shoes', 4612: 'schizophrenia', 4613: 'hiring', 4614: 'swan', 4615: 'delts', 4616: 'clench', 4617: 'bulked', 4618: 'managed', 4619: 'femininity', 4620: 'fierce', 4621: 'glyco-load', 4622: 'ripping', 4623: 'gel', 4624: 'frightened', 4625: 'sacrifice', 4626: 'period', 4627: 'delicately', 4628: 'yammering', 4629: 'pile', 4630: 'disco_stu:', 4631: 'stu', 4632: 'ducked', 4633: 'slim', 4634: 'bupkus', 4635: 'perplexed', 4636: 'rump', 4637: 'payback', 4638: 'revenge', 4639: 'subscriptions', 4640: 'brick', 4641: 'cerebral', 4642: 'booze-bags', 4643: 'victorious', 4644: 'gallon', 4645: 'icelandic', 4646: 'boyhood', 4647: 'anti-crime', 4648: 'dealie', 4649: 'streetlights', 4650: 'strongly', 4651: 'pro', 4652: 'con', 4653: \"i'unno\", 4654: 'superdad', 4655: 'crystal', 4656: 'cheaped', 4657: 'shelf', 4658: 'paramedic:', 4659: 'ingested', 4660: 'defiantly', 4661: 'ihop', 4662: 'burger', 4663: 'absentmindedly', 4664: \"doctor's\", 4665: 'neanderthal', 4666: 'taylor', 4667: 'ing', 4668: 'voters', 4669: 'november', 4670: 'practically', 4671: 'everywhere', 4672: 'resenting', 4673: 'appreciate', 4674: 'shout', 4675: 'f-l-a-n-r-d-s', 4676: 'flame', 4677: 'researching', 4678: 'indigenous', 4679: 'overhearing', 4680: 'delightfully', 4681: 'byrne', 4682: 'singer', 4683: 'artist', 4684: 'composer', 4685: 'wrestle', 4686: 'el', 4687: 'diablo', 4688: 'philip', 4689: 'rewound', 4690: 'produce', 4691: 'rolls', 4692: 'kahlua', 4693: 'fleabag', 4694: 'unsanitary', 4695: \"wearin'\", 4696: 'walked', 4697: 'dark', 4698: 'dreary', 4699: 'drunkening', 4700: 'hangover', 4701: 'barber', 4702: 'frat', 4703: 'julienne', 4704: 'potatoes', 4705: 'groin', 4706: 'shortcomings', 4707: 'banquet', 4708: 'poulet', 4709: 'au', 4710: 'vin', 4711: 'avec', 4712: 'champignons', 4713: 'kisses', 4714: 'botanical', 4715: 'gardens', 4716: 'blossoming', 4717: 'sumatran', 4718: 'occurs', 4719: 'customers-slash-only', 4720: 'replaced', 4721: \"mopin'\", 4722: 'alarm', 4723: 'tummies', 4724: 'elves:', 4725: 'cakes', 4726: 'pets', 4727: 'brotherhood', 4728: \"i'd'a\", 4729: 'pizza', 4730: \"y'money's\", 4731: 'counter', 4732: 'leonard', 4733: 'competitive', 4734: 'macgregor', 4735: 'musketeers', 4736: 'accusing', 4737: 'lungs', 4738: 'devils:', 4739: 'apulina', 4740: 'including', 4741: 'bouquet', 4742: 'earrings', 4743: 'hilton', 4744: \"city's\", 4745: 'society_matron:', 4746: 'remote', 4747: 'sharity', 4748: 'aristotle:', 4749: 'weep', 4750: 'mamma', 4751: 'flush-town', 4752: 'population', 4753: 'nonchalant', 4754: 'ninety-eight', 4755: 'outstanding', 4756: 'flush', 4757: 'jacks', 4758: 'multi-national', 4759: 'manipulation', 4760: 'macho', 4761: 'undermine', 4762: 'affects', 4763: 'majority', 4764: 'shareholder', 4765: 'inherent', 4766: 'legal', 4767: 'liability', 4768: 'malfeasance', 4769: 'result', 4770: 'deny', 4771: 'showed', 4772: 'louse', 4773: 'jogging', 4774: 'intruding', 4775: 'sending', 4776: 'swooning', 4777: 'odor', 4778: 'eaters', 4779: 'beanbag', 4780: 'temple', 4781: 'doom', 4782: 'gentle', 4783: 'nightmares', 4784: 'orders', 4785: 'contemptuous', 4786: 'chateau', 4787: 'latour', 4788: 'eighteen', 4789: 'eighty-six', 4790: 'initially', 4791: \"collector's\", 4792: 'bidet', 4793: 'ladder', 4794: 'fountain', 4795: 'in-in-in', 4796: 'chipped', 4797: 'nail', 4798: 'sticking', 4799: 'poke', 4800: 'bachelor', 4801: 'peaked', 4802: 'and/or', 4803: 'buddies', 4804: 'chug-a-lug', 4805: 'a-lug', 4806: 'disposal', 4807: 'boisterous', 4808: 'exciting', 4809: 'photographer', 4810: 'van', 4811: 'notch', 4812: 'wiggle', 4813: 'friction', 4814: 'killjoy', 4815: 'wussy', 4816: 'grinch', 4817: 'consoling', 4818: 'picked', 4819: 'zoomed', 4820: 'junebug', 4821: 'windshield', 4822: \"secret's\", 4823: 'bail', 4824: \"bringin'\", 4825: 'easily', 4826: 'sobriety', 4827: 'urge', 4828: 'sponsor', 4829: 'white_rabbit:', 4830: 'lorre', 4831: 'warmth', 4832: 'penmanship', 4833: 'sucks', 4834: 'anyhoo', 4835: 'cyrano', 4836: 'americans', 4837: 'permanent', 4838: 'visas', 4839: 'dutch', 4840: \"leavin'\", 4841: \"president's\", 4842: 'rebuttal', 4843: 'mull', 4844: 'mugs', 4845: \"thinkin'\", 4846: 'symphonies', 4847: 'fuhgetaboutit', 4848: 'filth', 4849: 'oughta', 4850: 'hideous', 4851: 'frankie', 4852: 'fella', 4853: 'dads', 4854: 'malted', 4855: 'tooth', 4856: 'blinded', 4857: \"soundin'\", 4858: 'thorough', 4859: 'winks', 4860: 'infestation', 4861: 'sanitary', 4862: 'utensils', 4863: 'hygienically', 4864: 'stored', 4865: 'parked', 4866: 'hydrant', 4867: 'exhale', 4868: 'whaddya', 4869: 'hunky', 4870: 'dory', 4871: 'rife', 4872: 'starters', 4873: 'predecessor', 4874: 'trash', 4875: 'wednesday', 4876: 'chicken', 4877: 'skins', 4878: 'dispenser', 4879: 'john', 4880: 'danny', 4881: 'mountain', 4882: \"summer's\", 4883: 'falling', 4884: 'bide', 4885: 'tribute', 4886: 'e', 4887: 'acceptance', 4888: 'hafta', 4889: 'reopen', 4890: 'crestfallen', 4891: 'nor', 4892: 'pen', 4893: 'parrot', 4894: 'brief', 4895: 'contact', 4896: 'blocked', 4897: 'protecting', 4898: 'investment', 4899: 'cigars', 4900: 'microwave', 4901: 'beans', 4902: 'stupidly', 4903: 'jerk-ass', 4904: 'doy', 4905: 'cheerier', 4906: 'darkness', 4907: 'tactful', 4908: 'remodel', 4909: \"changin'\", 4910: 'susie-q', 4911: 'face-macer', 4912: 'guff', 4913: 'grub', 4914: 'proper', 4915: 'old-time', 4916: 'whaaa', 4917: 'britannia', 4918: 'meatpies', 4919: 'lager', 4920: 'classy', 4921: 'asses', 4922: 'so-ng', 4923: 'arm-pittish', 4924: \"renovatin'\", 4925: 'drapes', 4926: \"idea's\", 4927: 'lindsay', 4928: 'naegle', 4929: 'mis-statement', 4930: 'allow', 4931: 'credit', 4932: 'bumpy-like', 4933: 'counterfeit', 4934: 'moe-clone', 4935: 'socialize', 4936: 'e-z', 4937: 'oopsie', 4938: \"enjoyin'\", 4939: 'adult', 4940: 'tickets', 4941: \"santa's\", 4942: 'sleigh-horses', 4943: 'sells', 4944: 'impress', 4945: \"liftin'\", 4946: 'dumbbell', 4947: 'forty-nine', 4948: 'ninety-nine', 4949: \"lefty's\", 4950: 'victim', 4951: 'hustle', 4952: \"breakin'\", 4953: 'nerd', 4954: 'sugar-free', 4955: 'flat', 4956: 'buds', 4957: 'goldarnit', 4958: 'life-partner', 4959: 'whup', 4960: 'yee-ha', 4961: 'gol-dangit', 4962: \"dimwit's\", 4963: 'kazoo', 4964: 'head-gunk', 4965: 'hears', 4966: 'cocking', 4967: 'texan', 4968: 're-al', 4969: 'moe-heads', 4970: 'polls', 4971: 'negative', 4972: 'ads', 4973: 'hurting', 4974: 'homeless', 4975: 'bum:', 4976: 'annual', 4977: 'w-a-3-q-i-zed', 4978: 'mason', 4979: 'arrived', 4980: \"rentin'\", 4981: 'las', 4982: 'nevada', 4983: 'stingy', 4984: 'rat-like', 4985: 'sued', 4986: 'settlement', 4987: 'partially', 4988: 'risqué', 4989: 'plane', 4990: 'soul-crushing', 4991: 'blackjack', 4992: 'nelson_muntz:', 4993: 'nelson', 4994: 'pair', 4995: 'paints', 4996: 'noggin', 4997: 'meanwhile', 4998: \"yieldin'\", 4999: 'moe_recording:', 5000: 'ew', 5001: 'considering:', 5002: \"table's\", 5003: 'wobbly', 5004: 'jam', 5005: 'ford', 5006: 'captain', 5007: 'kirk', 5008: 'five-fifteen', 5009: 'eternity', 5010: 'fortune', 5011: 'fica', 5012: 'helping', 5013: 'steamed', 5014: 'cappuccino', 5015: '-ry', 5016: 'otherwise', 5017: 'neighbors', 5018: 'wife-swapping', 5019: 'strolled', 5020: 'donation', 5021: 'lewis', 5022: 'notorious', 5023: 'idealistic', 5024: 'law-abiding', 5025: 'archaeologist', 5026: 'excavating', 5027: 'mayan', 5028: 'pyramid', 5029: 'unearth', 5030: 'pre-columbian', 5031: 'donate', 5032: 'statues', 5033: 'handed', 5034: 'dilemma', 5035: 'edner', 5036: \"playin'\", 5037: 'coin', 5038: 'poorer', 5039: 'worldly', 5040: 'possessions', 5041: \"'ceptin'\", 5042: 'nucular', 5043: 'obsessive-compulsive', 5044: 'powered', 5045: 'non-american', 5046: \"tv's\", 5047: 'misfire', 5048: 'prolonged', 5049: 'playoff', 5050: \"hobo's\", 5051: 'owes', 5052: 'fist', 5053: \"puttin'\", 5054: 'screws', 5055: \"tony's\", 5056: 'all-all-all', 5057: 'stars', 5058: 'firing', 5059: 'pure', 5060: 'polish', 5061: 'heck', 5062: \"challengin'\", 5063: 'sudoku', 5064: 'puzzle', 5065: 'numeral', 5066: 'repeated', 5067: 'column', 5068: 'salvation', 5069: 'cocks', 5070: 'stripes', 5071: 'repay', 5072: 'colonel:', 5073: 'fishing', 5074: \"listenin'\", 5075: 'bursts', 5076: 'published', 5077: 'author', 5078: 'earlier', 5079: 'newly-published', 5080: 'snail', 5081: 'trail', 5082: 'name:', 5083: 'bonfire', 5084: 'vanities', 5085: 'coined', 5086: 'phrase', 5087: 'radical', 5088: 'chic', 5089: \"squeezin'\", 5090: \"'roids\", 5091: 'vermont', 5092: 'thrilled', 5093: \"wouldn't-a\", 5094: 'outlive', 5095: 'wizard', 5096: 'upn', 5097: 'assert', 5098: 'herself', 5099: 'backbone', 5100: 'notices', 5101: 'unlocked', 5102: 'beeps', 5103: 'declan', 5104: 'fruit', 5105: 'oddest', 5106: 'thing:', 5107: 'affection', 5108: 'knuckle-dragging', 5109: 'sub-monkeys', 5110: \"sippin'\", 5111: 'cuckoo', 5112: 'de-scramble', 5113: 'scrutinizing', 5114: 'shoe', 5115: 'inserts', 5116: \"writin'\", 5117: 'creepy', 5118: 'kills', 5119: 'title:', 5120: 'pontiff', 5121: 'gargoyles', 5122: 'good-looking', 5123: 'open-casket', 5124: 'material', 5125: 'sour', 5126: 'paparazzo', 5127: 'joy', 5128: 'robin', 5129: 'williams', 5130: 'bits', 5131: 'co-sign', 5132: 'photos', 5133: 'turlet', 5134: 'attractive_woman_#1:', 5135: 'attractive_woman_#2:', 5136: 'trade', 5137: 'bras', 5138: 'panties', 5139: 'volunteer', 5140: 'assume', 5141: 'dentist', 5142: 'mary', 5143: \"school's\", 5144: 'bake', 5145: \"betsy'll\", 5146: 'runs', 5147: 'depending', 5148: 'strips', 5149: 'eggshell', 5150: 'malabar', 5151: 'ivory', 5152: 'mediterranean', 5153: 'ecru', 5154: 'tow', 5155: 'lobster-politans', 5156: 'smelling', 5157: 'one-hour', 5158: 'zone', 5159: 'correction', 5160: 'lobster-based', 5161: 'designer', 5162: 'laughter', 5163: 'unhook', 5164: 'moving', 5165: 'tow-talitarian', 5166: 'totalitarians', 5167: 'stalin', 5168: 'forced', 5169: 'labor', 5170: 'insensitive', 5171: 'winch', 5172: 'enforced', 5173: 'fatty', 5174: 'ralph', 5175: 'ralphie', 5176: 'tow-joes', 5177: 'territorial', 5178: \"family's\", 5179: 'remembers', 5180: 'process', 5181: 'splash', 5182: 'jaegermeister', 5183: 'add', 5184: 'sloe', 5185: 'triple-sec', 5186: 'quadruple-sec', 5187: 'gunk', 5188: \"dog's\", 5189: 'absolut', 5190: 'stripe', 5191: 'aquafresh', 5192: 'funniest', 5193: 'venom', 5194: 'louisiana', 5195: 'loboto-moth', 5196: 'sweetie', 5197: 'pregnancy', 5198: 'presto:', 5199: 'ultimate', 5200: 'bleacher', 5201: 'menace', 5202: 'swig', 5203: 'wipes', 5204: 'entering', 5205: 'forget-me-drinks', 5206: 'rickles', 5207: 'arabs', 5208: 'gibson', 5209: 'mexicans', 5210: 'grammys', 5211: 'hispanic_crowd:', 5212: 'jeers', 5213: 'sternly', 5214: 'disturbance', 5215: 'filed', 5216: 'infor', 5217: 'ripper', 5218: 'doppler', 5219: \"queen's\", 5220: 'surgeonnn', 5221: 'piling', 5222: 'unkempt', 5223: 'attractive', 5224: 'spits', 5225: 'bottoms', 5226: 'retain', 5227: 'misconstrue', 5228: \"cuckold's\", 5229: 'horns', 5230: 'moon-bounce', 5231: 'amiable', 5232: 'newsies', 5233: 'scruffy_blogger:', 5234: 'access', 5235: 'politicians', 5236: 'issues', 5237: 'declare', 5238: 'frontrunner', 5239: 'mansions', 5240: 'abolish', 5241: 'democracy', 5242: 'dictator', 5243: 'juan', 5244: 'perón', 5245: 'madonna', 5246: 'dennis', 5247: 'kucinich', 5248: 'twerpy', 5249: 'unbelievably', 5250: 'manuel', 5251: 'fake', 5252: 'moustache', 5253: 'ees', 5254: 'mild', 5255: 'backing', 5256: 'reminded', 5257: 'quarry', 5258: 'stones', 5259: 'woodchucks', 5260: 'mailbox', 5261: 'cell', 5262: 'butter', 5263: 'tasty', 5264: 'almond', 5265: 'listens', 5266: 'compromise:', 5267: 'luckiest', 5268: 'remaining', 5269: 'scratcher', 5270: 'kick-ass', 5271: 'shush', 5272: 'propose', 5273: 'willing', 5274: 'halvsies', 5275: 'lugs', 5276: 'splendid', 5277: 'weather', 5278: 'way:', 5279: 'tying', 5280: 'crippling', 5281: 'refinanced', 5282: 'twenty-six', 5283: 'cowboy', 5284: 'encouraged', 5285: 'half-day', 5286: 'encouraging', 5287: 'widow', 5288: 'option', 5289: 'pep', 5290: 'squad', 5291: 'cheered', 5292: 'runners', 5293: 'ninety-seven', 5294: 'break-up', 5295: 'cheated', 5296: 'showered', 5297: 'soaps', 5298: 'massage', 5299: 'oils', 5300: 'maiden', 5301: 'nicer', 5302: \"she'll\", 5303: 'parenting', 5304: 'childless', 5305: 'goodwill', 5306: 'attached', 5307: 'direction', 5308: \"mecca's\", 5309: \"don'tcha\", 5310: 'oughtta', 5311: 'dint', 5312: \"son's\", 5313: \"bashir's\", 5314: 'derek', 5315: 'jeter', 5316: 'mariah', 5317: 'carey', 5318: 'muslim', 5319: 'espousing', 5320: 'view', 5321: 'fbi_agent:', 5322: 'fayed', 5323: 'statue', 5324: \"liberty's\", 5325: 'principles', 5326: 'discriminate', 5327: 'employment', 5328: 'housing', 5329: 'patriotic', 5330: 'bauer', 5331: 'sanctuary', 5332: 'super-tough', 5333: 'africanized', 5334: 'honeys', 5335: 'environment', 5336: 'dna', 5337: 'strains', 5338: 'species', 5339: 'protesting', 5340: 'inclination', 5341: 'anonymous', 5342: 'partners', 5343: 'privacy', 5344: 'buzziness', 5345: 'connor-politan', 5346: 'oh-so-sophisticated', 5347: 'connor', 5348: 'kidneys', 5349: 'guilt', 5350: 'haircuts', 5351: 'graves', 5352: 'dig', 5353: 'ballot', 5354: 'gore', 5355: 'presidential', 5356: 'stolen', 5357: 'falsetto', 5358: 'albert', 5359: 'landlord', 5360: 'and-and', 5361: 'getaway', 5362: 'flanders:', 5363: 'expose', 5364: 'dateline', 5365: 'nominated', 5366: 'peabody', 5367: 'exclusive:', 5368: 'forty-two', 5369: 'evergreen', 5370: 'terrace', 5371: 'suburban', 5372: 'actress', 5373: 'billiard', 5374: \"spiffin'\", 5375: 'inquiries', 5376: 'enabling', 5377: 'mags', 5378: 'taught', 5379: 'abcs', 5380: 'a-b-', 5381: 'forgets', 5382: 'p-k', 5383: \"s'pose\", 5384: \"cleanin'\", 5385: 'month', 5386: \"she'd\", 5387: 'stood', 5388: 'regretful', 5389: 'term', 5390: 'tidy', 5391: 'benjamin', 5392: 'life-sized', 5393: 'legoland', 5394: \"stealin'\", 5395: 'chinese_restaurateur:', 5396: 'espn', 5397: 'ling', 5398: 'chow', 5399: 'passenger', 5400: 'incredible', 5401: 'thought_bubble_lenny:', 5402: \"somethin':\", 5403: 'generally', 5404: 'limericks', 5405: 'coast', 5406: 'massachusetts', 5407: 'nantucket', 5408: 'unusual', 5409: 'personal', 5410: 'characteristic', 5411: 'simplest', 5412: 'a-a-b-b-a', 5413: 'dumbass', 5414: 'whistling', 5415: 'nonchalantly', 5416: 'chained', 5417: 'tomato', 5418: 'tomahto', 5419: 'comedies', 5420: 'reckless', 5421: 'gesture', 5422: 'blows', 5423: 'sidelines', 5424: \"who'da\", 5425: 'chapter', 5426: 'insults', 5427: 'disguised', 5428: 'suspenders', 5429: 'circus', 5430: 'clown-like', 5431: 'insecure', 5432: 'envy-tations', 5433: 'hate-hugs', 5434: 'spamming', 5435: 'faint', 5436: 'praise', 5437: 'frozen', 5438: 'toledo', 5439: 'take-back', 5440: \"people's\", 5441: 'eager', 5442: 'happily:', 5443: 'community', 5444: 'playhouse', 5445: 'bathed', 5446: 'glowers', 5447: 'sticking-place', 5448: 'fail', 5449: 'x-men', 5450: '2', 5451: 'macbeth', 5452: 'mac-who', 5453: 'gulliver_dark:', 5454: 'bedridden', 5455: 'unable', 5456: 'toe', 5457: 'paintings', 5458: 'melodramatic', 5459: 'nonsense', 5460: 'training', 5461: 'bleeding', 5462: \"murphy's\", 5463: \"pressure's\", 5464: 'bon-bons', 5465: 'declared', 5466: 'microbrew', 5467: 'cobra', 5468: 'solves', 5469: 'cupid', 5470: 'unattended', 5471: 'fl', 5472: 'ventriloquism', 5473: 'approval', 5474: 'cure', 5475: 'ails', 5476: 'cuddling', 5477: 'steaming', 5478: 'cocoa', 5479: 'rainbows', 5480: 'surprised/thrilled', 5481: 'full-bodied', 5482: 'full-blooded', 5483: 'harmony', 5484: 'loyal', 5485: 'hemoglobin', 5486: \"disrobin'\", 5487: 'rosey', 5488: 'bubbles-in-my-nose-y', 5489: \"mo'\", 5490: 'musical', 5491: 'kodos:', 5492: 'measure', 5493: 'distance', 5494: 'unrelated', 5495: 'seductive', 5496: 'cologne', 5497: 'shaved', 5498: 'knuckles', 5499: 'shakes', 5500: 'handwriting', 5501: 'idioms', 5502: 'midge:', 5503: 'gayer', 5504: 'occurred', 5505: 'timbuk-tee', 5506: 'fast-paced', 5507: 'nibble', 5508: 'teriyaki', 5509: 'frenchman', 5510: 'spoon', 5511: 'duke', 5512: 'amnesia', 5513: 'missing', 5514: 'squeeze', 5515: 'irishman', 5516: 'pretends', 5517: \"o'reilly\", 5518: 'radiator', 5519: 'rebuilt', 5520: 'briefly', 5521: 'uncreeped-out', 5522: 'mines', 5523: 'taste', 5524: 'romance', 5525: 'perverse', 5526: 'hearse', 5527: 'civil', 5528: 'nurse', 5529: 'proof', 5530: 'simultaneous', 5531: 'i/you', 5532: 'finale', 5533: 'indicates', 5534: 'half-beer', 5535: 'enjoyed', 5536: 'halloween', 5537: 'treehouse', 5538: 'horror', 5539: 'xx', 5540: 'shhh', 5541: 'habitrail', 5542: 'donuts', 5543: 'meals', 5544: 'philosophical', 5545: 'southern', 5546: 'indeed', 5547: 'gator', 5548: 'mccall', 5549: 'recruiter', 5550: 'specializes', 5551: 'headhunters', 5552: 'valuable', 5553: 'protesters', 5554: 'marched', 5555: 'plants', 5556: 'radiation', 5557: \"poisonin'\", 5558: 'passports', 5559: 'loafers', 5560: 'hooray', 5561: 'nap', 5562: 'awake', 5563: 'meteor', 5564: 'flexible', 5565: 'marshmallow', 5566: 'dumbest', 5567: \"stabbin'\", 5568: 'humanity', 5569: 'mocking', 5570: 'official', 5571: 'releasing', 5572: 'hounds', 5573: 'releases', 5574: 'wolverines', 5575: 'horses', 5576: \"eatin'\", 5577: 'wish-meat', 5578: 'bust', 5579: 'exchanged', 5580: 'whispered', 5581: 'huddle', 5582: 'nursemaid', 5583: \"elmo's\", 5584: 'reunion', 5585: 'andrew', 5586: 'mccarthy', 5587: 'attend', 5588: 'lied', 5589: 'itchy', 5590: 'planted', 5591: 'chair', 5592: 'refill', 5593: 'cozies', 5594: 'sassy', 5595: 'cushions', 5596: 'cushion', 5597: 'flash', 5598: 'drives', 5599: 'data', 5600: 'hammy', 5601: 'estranged', 5602: \"tomorrow's\", 5603: 'forecast', 5604: 'cloudy', 5605: 'sunny', 5606: 'guessing', 5607: 'thunder', 5608: 'storms', 5609: 'exultant', 5610: 'ahem', 5611: 'wagering', 5612: 'installed', 5613: \"america's\", 5614: \"blowin'\", 5615: 'homeland', 5616: 'mm-hmm', 5617: 'tsking', 5618: 'presided', 5619: 'suave', 5620: 'debonair', 5621: 'offa', 5622: \"narratin'\", 5623: 'cricket', 5624: 'uniforms', 5625: 'rain', 5626: \"'pu\", 5627: 'she-pu', 5628: 'everyday', 5629: 'mimes', 5630: 'saving', 5631: 'gheet', 5632: 'darjeeling', 5633: 'limited', 5634: 'low-blow', 5635: 'boxer:', 5636: 'pre-recorded', 5637: 'rug', 5638: \"mother's\", 5639: 'panicked', 5640: 'carny:', 5641: 'teacup', 5642: 'whispers', 5643: 'rutabaga', 5644: 'putty', 5645: 'innocuous', 5646: 'flashbacks', 5647: 'ferry', 5648: 'pointedly', 5649: 'lovejoy', 5650: 'ralph_wiggum:', 5651: 'popping', 5652: 'man_with_crazy_beard:', 5653: 'outrageous', 5654: 'beard', 5655: 'expense', 5656: 'beards', 5657: \"askin'\", 5658: 'scatter', 5659: 'cockroaches', 5660: 'rip', 5661: 'stretch', 5662: 'tee', 5663: 'california', 5664: 'judgments', 5665: 'legally', 5666: 'side:', 5667: 'murdoch', 5668: 'rupert_murdoch:', 5669: 'jay', 5670: 'leno', 5671: 'jay_leno:', 5672: 'iran', 5673: 'weapon', 5674: 'rig', 5675: 'leak', 5676: 'disappear', 5677: 'nbc', 5678: 'howya', 5679: 'button-pusher', 5680: 'obama', 5681: 'booth', 5682: 'cliff', 5683: 'lee', 5684: 'zack', 5685: 'grenky', 5686: 'completely', 5687: 'colossal', 5688: 'exception:', 5689: 'inning', 5690: 'domed', 5691: 'bunion', 5692: 'notably', 5693: 'ineffective', 5694: 'portentous', 5695: 'dexterous', 5696: 'understood', 5697: 'poin-dexterous', 5698: 'laid', 5699: 'key', 5700: 'developed', 5701: 'statistician', 5702: 'bill_james:', 5703: 'taxes', 5704: 'eight-year-old', 5705: 'ballclub', 5706: 'sagacity', 5707: 'stengel', 5708: 'single-mindedness', 5709: 'steinbrenner', 5710: 'stein-stengel-', 5711: 'stats', 5712: 'ratio', 5713: 'occupied', 5714: 'sobo', 5715: 'conversion', 5716: 'factor', 5717: 'refreshingness', 5718: 'effervescence', 5719: 'benjamin:', 5720: 'minus', 5721: 'rueful', 5722: 'advertise', 5723: 'specials', 5724: 'scientific', 5725: 'annus', 5726: 'horribilis', 5727: 'resolution', 5728: 'fixes', 5729: 'courthouse', 5730: 'compare', 5731: 'exquisite', 5732: 'reward', 5733: 'planned', 5734: 'addiction', 5735: 'compels', 5736: 'executive', 5737: 'average-looking', 5738: '_burns_heads:', 5739: 'hangout', 5740: 'offense', 5741: 'whatchamacallit', 5742: 'swishkabobs', 5743: \"grandmother's\", 5744: 'urinal', 5745: \"getting'\", 5746: 'renovations', 5747: \"friend's\", 5748: 'lainie:', 5749: 'carlotta:', 5750: 'jägermeister', 5751: 'pink', 5752: 'lemonade', 5753: 'strawberry', 5754: 'chapstick', 5755: \"cupid's\", 5756: 'wazoo', 5757: 'drains', 5758: 'scram', 5759: 'crinkly', 5760: 'eva', 5761: 'braun:', 5762: \"man's_voice:\", 5763: 'huhza', 5764: '3', 5765: 'whoopi', 5766: 'seminar', 5767: 'motor', 5768: 'lodge', 5769: 'tornado', 5770: 'kissingher', 5771: 'earth', 5772: 'casting', 5773: 'pall', 5774: 'serum', 5775: 'walther', 5776: 'hotenhoffer', 5777: 'pharmaceutical', 5778: 'occupation', 5779: 'renders', 5780: 'tolerable', 5781: 'normals', 5782: 'irrelevant', 5783: 'elaborate', 5784: 'extract', 5785: 'synthesize', 5786: 'scrutinizes', 5787: 'grease', 5788: 'germans', 5789: 'when-i-get-a-hold-of-you', 5790: 'dammit', 5791: 'typed', 5792: 'rapidly', 5793: 'donated', 5794: 'haiti', 5795: \"y'see\", 5796: 'pushes', 5797: 'strangles', 5798: 'sue', 5799: 'hollowed-out', 5800: 'contented', 5801: 'phony', 5802: 'grin', 5803: 'plastered', 5804: 'freaky', 5805: 'slipped', 5806: 'mickey', 5807: 'churchy', 5808: 'brainheaded', 5809: 'fence', 5810: 'sheet', 5811: 'wistful', 5812: 'prayers', 5813: 'choked', 5814: 'iddilies', 5815: 'diddilies', 5816: 'christian', 5817: 'wuss', 5818: 'confession', 5819: 'make:', 5820: 'solely', 5821: 'noble', 5822: 'intention', 5823: 'two-thirds-empty', 5824: 'poetry', 5825: 'multi-purpose', 5826: 'email', 5827: 'edna-lover-one-seventy-two', 5828: 'lowest', 5829: \"edna's\", 5830: 'drummer', 5831: 'gulps', 5832: 'plucked', 5833: 'wikipedia', 5834: 'frankenstein', 5835: 'neighboreeno', 5836: 'plain', 5837: 'bagged', 5838: 'tiger', 5839: 'prompting', 5840: 'sen', 5841: 'cesss', 5842: 'surprising', 5843: 'entrance', 5844: 'jewelry', 5845: 'pronto', 5846: 'drawer', 5847: \"linin'\", 5848: 'presidents', 5849: 'upgrade', 5850: 'commanding', 5851: 'appropriate', 5852: 'reaction', 5853: 'sooo', 5854: 'fresco', 5855: \"speakin'\", 5856: 'farthest', 5857: 'drove', 5858: 'roz', 5859: 'ditched', 5860: 'lady-free', 5861: 'eighty-three', 5862: 'souvenir', 5863: 'sizes', 5864: 'hare-brained', 5865: 'schemes', 5866: 'pillows', 5867: 'adopted', 5868: 'capuchin', 5869: 'bonding', 5870: 'phase', 5871: 'safecracker', 5872: 'caper', 5873: 'fantasy', 5874: 'novel', 5875: 'brag', 5876: 'publish', 5877: 'modestly', 5878: 'lucinda', 5879: 'placed', 5880: 'fifth', 5881: 'shard', 5882: 'stained-glass', 5883: 'read:', 5884: \"'your\", 5885: 'parents', 5886: \"'\", 5887: 'gregor', 5888: 'understood:', 5889: 'journey', 5890: 'reader', 5891: 'selection', 5892: 'steampunk', 5893: 'frink-y', 5894: 'mock-up', 5895: 'title', 5896: 'tuna', 5897: 'itself', 5898: 'kansas', 5899: 'golden', 5900: 'literary', 5901: 'lis', 5902: 'milhouses', 5903: 'jacksons', 5904: 'xanders', 5905: 'aidens', 5906: 'dreamy', 5907: 'aiden', 5908: 'vampire', 5909: 'transylvania', 5910: 'prep', 5911: 'brooklyn', 5912: 'fuzzlepitch', 5913: 'bloodball', 5914: 'lame', 5915: 'publishers', 5916: 'sistine', 5917: 'chapel', 5918: 'mural', 5919: 'hems', 5920: 'haws', 5921: 'watched', 5922: 'bluff', 5923: 'conversations', 5924: 'annie', 5925: 'meaning', 5926: 'brain-switching', 5927: 'ceremony', 5928: 'sleeping', 5929: 'switched', 5930: 'dashes', 5931: 'lennyy', 5932: 'sheets', 5933: 'wind', 5934: 'dignified', 5935: 'stumble', 5936: 'typing', 5937: 'lead', 5938: 'pledge', 5939: 'allegiance', 5940: 'conclude', 5941: 'thanking', 5942: 'hosting', 5943: 'fumigated', 5944: 'er', 5945: 'adjourned', 5946: 'convenient', 5947: 'sangre', 5948: 'de', 5949: 'los', 5950: 'muertos', 5951: 'friend:', 5952: 'mexican', 5953: 'mexican_duffman:', 5954: 'ho-la', 5955: 'pepto-bismol', 5956: 'facebook', 5957: 'scrubbing', 5958: 'hardy', 5959: 'unhappy', 5960: 'taxi', 5961: 'wears', 5962: 'nemo', 5963: 'brace', 5964: 'lear', 5965: 'be-stainèd', 5966: 'swatch', 5967: 'gentles', 5968: 'begin', 5969: 'medieval', 5970: 'self-satisfied', 5971: 'tapestry', 5972: 'sponge:', 5973: 'gutenberg', 5974: 'bartholomé:', 5975: 'overstressed', 5976: 'helps', 5977: 'recap:', 5978: 'unjustly', 5979: 'lofty', 5980: 'perch', 5981: 'wound', 5982: 'barter', 5983: 'persia', 5984: 'raggie', 5985: 'continued', 5986: 'enterprising', 5987: 'seamstress', 5988: 'fledgling', 5989: 'thousand-year', 5990: 'grace', 5991: 'predictable', 5992: 'startled', 5993: 'sensitivity', 5994: 'jobless', 5995: 'washouts', 5996: 'error', 5997: 'blamed', 5998: 'rent', 5999: 'pizzicato', 6000: 'buyer', 6001: 'specified', 6002: 'stepped', 6003: 'done:', 6004: 'arguing', 6005: 'guts', 6006: 'rationalizing', 6007: 'pack', 6008: 'adjust', 6009: 'runaway', 6010: 'monorails', 6011: 'nascar', 6012: 'gordon', 6013: 'jeff_gordon:', 6014: \"plank's\", 6015: 'land', 6016: 'traitors', 6017: 'lou', 6018: 'eliminate', 6019: 'bulldozing', 6020: 'tire', 6021: 'sinkhole', 6022: 'administration', 6023: 'solved', 6024: 'fears', 6025: 'most:', 6026: \"s'okay\", 6027: 'nuked', 6028: 'swimmers', 6029: 'shame', 6030: 'wrap', 6031: 'plums', 6032: 'tin', 6033: 'philosophic', 6034: 'samples', 6035: 'shelbyville', 6036: 'sperm', 6037: 'necklace', 6038: 'eww', 6039: 'fund', 6040: 'lend', 6041: 'sesame', 6042: 'frogs', 6043: 'settles', 6044: 'woe:', 6045: 'gamble', 6046: \"daughter's\", 6047: 'fdic', 6048: 'grubby', 6049: 'site', 6050: 'onion', 6051: 'rings', 6052: 'badmouth', 6053: 'country', 6054: 'prettiest', 6055: \"aristotle's\", 6056: 'poetics', 6057: 'rice', 6058: 'promotion', 6059: 'poured', 6060: 'hooky', 6061: 'throats', 6062: 'grind', 6063: 'crunch', 6064: 'nature', 6065: 'dipping', 6066: 'edge', 6067: 'groveling', 6068: 'brown', 6069: 'wiggle-frowns', 6070: 'abusive', 6071: 'tolerance', 6072: 'dejected_barfly:', 6073: 'slurred', 6074: 'hammock', 6075: 'bleak', 6076: 'icy', 6077: 'chill', 6078: 'dropping', 6079: 'janette', 6080: 'cheryl', 6081: 'rotten', 6082: 'pretend', 6083: 'improv', 6084: 'imaginary', 6085: 'chip', 6086: 'ends', 6087: 'skydiving', 6088: \"pullin'\", 6089: 'app', 6090: 'random', 6091: 'occurrence', 6092: 'squeezed', 6093: 'sap', 6094: \"choosin'\", 6095: 'adequate', 6096: 'carnival', 6097: 'miracle', 6098: \"tree's\", 6099: 'disillusioned', 6100: 'reporter', 6101: 'kenny', 6102: 'brockelstein', 6103: 'investigating', 6104: 'cartoons', 6105: 'thirty-three', 6106: 'short_man:', 6107: 'gruff', 6108: 'rancid', 6109: 'innocence', 6110: 'man_with_tree_hat:', 6111: 'hoax', 6112: 'tree_hoper:', 6113: 'crappy', 6114: 'pretentious_rat_lover:', 6115: 'manchego', 6116: 'aziz', 6117: 'lurks', 6118: 'racially-diverse', 6119: 'network', 6120: 'experienced', 6121: 'acronyms', 6122: 'kinderhook', 6123: 'collapse', 6124: 'rome', 6125: 'inexorable', 6126: 'march', 6127: 'progress', 6128: '_eugene_blatz:', 6129: 'slaves', 6130: 'supermarket', 6131: 'starve', 6132: 'unsourced', 6133: 'undated', 6134: 'convinced', 6135: 'beyond', 6136: 'suspended', 6137: 'voodoo', 6138: 'curse', 6139: 'gestated', 6140: 'popped', 6141: 'acquitted', 6142: 'nightmare', 6143: 'in-ground', 6144: 'shades', 6145: 'grey', 6146: 'what-for', 6147: 'fiction', 6148: 'sheriff', 6149: 'kissed', 6150: 'said:', 6151: 'imitating', 6152: 'griffith', 6153: \"'now\", 6154: 'aunt', 6155: 'asks', 6156: \"fishin'\", 6157: \"hole'\", 6158: 'argue', 6159: 'stirrers', 6160: 'holy', 6161: 'faiths', 6162: 'easy-going', 6163: 'offshoot', 6164: 'protestantism', 6165: 'handler', 6166: \"thing's\", 6167: 'rims', 6168: 'ribbon', 6169: 'cherry', 6170: 'blurbs', 6171: 'sedaris', 6172: 'flack', 6173: 'pews', 6174: 'catholic', 6175: 'sexton', 6176: 'rector', 6177: 'whim', 6178: \"nothin's\", 6179: 'mid-conversation', 6180: 'padres', 6181: 'tigers', 6182: 'polygon', 6183: 'hexa-', 6184: 'octa-', 6185: 'decide:', 6186: 'loudly', 6187: \"beggin'\", 6188: 'legend', 6189: 'buzz', 6190: 'recorded', 6191: 'options', 6192: 'carefully', 6193: 'committing', 6194: 'press', 6195: 'life-extension', 6196: 'male_singers:', 6197: 'painless', 6198: 'brings', 6199: 'delays', 6200: 'ron', 6201: 'moe-ron', 6202: 'libraries', 6203: 'newspaper', 6204: 'rods', 6205: 'compressions', 6206: 'gees', 6207: 'singing/pushing', 6208: \"stayin'\", 6209: 'living', 6210: 'fools', 6211: 'lease', 6212: 'post-suicide', 6213: 'afterglow', 6214: 'shorter', 6215: 'applesauce', 6216: 'leaving', 6217: 'choked-up', 6218: 'passes', 6219: 'reentering', 6220: 'noosey', 6221: 'noose', 6222: 'worldview', 6223: 'cleaning', 6224: 'growing', 6225: 'carpet', 6226: 'layer', 6227: 'congoleum', 6228: 'hardwood', 6229: 'jig', 6230: 'improved', 6231: 'non-losers', 6232: 'getcha', 6233: 'aged', 6234: 'venture', 6235: 'capitalists', 6236: 'mostly', 6237: 'kentucky', 6238: 'kool', 6239: 'aid', 6240: 'fantastic', 6241: 'startup', 6242: 'branding', 6243: 'specialists', 6244: 'touch', 6245: 'rafter', 6246: 'comforting', 6247: 'holidays', 6248: 'expensive', 6249: 'beer:', 6250: 'platinum', 6251: 'paste', 6252: 'hairs', 6253: 'youth', 6254: 'babar', 6255: 'confidential', 6256: 'cousin', 6257: 'celeste', 6258: 'takeaway', 6259: 'royal', 6260: 'trainers', 6261: 'average', 6262: 'schmoe', 6263: \"can't-believe-how-bald-he-is\", 6264: 'science', 6265: 'exhibit', 6266: 'hunger', 6267: \"games'd\", 6268: 'womb', 6269: 'life:', 6270: 'ninety-six', 6271: \"number's\", 6272: 'winning', 6273: 'celebrate', 6274: \"ragin'\", 6275: 'mini-dumpsters', 6276: 'gasoline', 6277: 'build', 6278: 'swimming', 6279: 'freaking', 6280: \"cashin'\", 6281: 'safety', 6282: 'ripped', 6283: 'tense', 6284: 'voicemail', 6285: 'offensive', 6286: 'sickened', 6287: 'moolah-stealing', 6288: 'jackpot-thief', 6289: \"something's\", 6290: 'reflected', 6291: 'lenses', 6292: 'sunglasses', 6293: 'geyser', 6294: 'strokkur', 6295: 'geysir', 6296: 'minors', 6297: 'fat_in_the_hat:', 6298: 'pawed', 6299: 'skunk', 6300: 'furry', 6301: 'knit', 6302: 'thnord', 6303: 'leathery', 6304: 'hidden', 6305: 'selfish', 6306: 'radioactive', 6307: 'hellhole', 6308: 'superpower', 6309: 'whoa-ho', 6310: 'looooooooooooooooooong', 6311: 'experience', 6312: 'schedule', 6313: 'hers', 6314: 'ideas', 6315: 'divorced', 6316: 's-a-u-r-c-e', 6317: 'touches', 6318: 'earpiece', 6319: 'senators:', 6320: 'abercrombie', 6321: 'billingsley', 6322: 'beaumont', 6323: \"plaster's\", 6324: 'flaking', 6325: 'lay', 6326: \"stallin'\", 6327: 'groans', 6328: 'squeals', 6329: 'liser', 6330: 'cletus_spuckler:', 6331: 'conditioning', 6332: 'barkeeps', 6333: 'gin-slingers', 6334: 'beer-jerks', 6335: 'compete', 6336: 'stores', 6337: 'hooch', 6338: 'cap', 6339: 'masks', 6340: 'uninhibited', 6341: 'invulnerable', 6342: 'shuts', 6343: 'nick', 6344: 'fury', 6345: 'batmobile', 6346: 'wolveriskey', 6347: \"'ere\", 6348: 'portfolium', 6349: \"boy's\", 6350: 'knock-up', 6351: 'powers', 6352: 'created', 6353: 'virility', 6354: 'virile', 6355: \"brady's\", 6356: 'libido', 6357: 'rocks', 6358: 'sets', 6359: 'legs:', 6360: 'kidnaps', 6361: 'grateful', 6362: \"must've\", 6363: 'corn', 6364: 'eighty-five', 6365: 'goal', 6366: 'nfl_narrator:', 6367: 'breathtaking', 6368: 'ignorance', 6369: 'dislike', 6370: 'rookie', 6371: 'housewife', 6372: 'savvy', 6373: 'veteran', 6374: \"tv'll\", 6375: \"yesterday's\", 6376: 'whatsit', 6377: 'lifestyle', 6378: 'contract', 6379: 'fast-food', 6380: 'hibachi', 6381: \"how're\", 6382: 'transfer', 6383: 'hyper-credits', 6384: 'ding-a-ding-ding-ding-ding-ding-ding', 6385: 'ding-a-ding-ding-a-ding-ding', 6386: 'blade', 6387: 'spender', 6388: 'gossipy', 6389: 'jukebox_record:', 6390: 'robot', 6391: 'incapable', 6392: 'emotion', 6393: 'terrifying', 6394: 'quebec', 6395: 'nordiques', 6396: 'spooky', 6397: 'colorado', 6398: 'avalanche', 6399: \"toot's\", 6400: 'verdict', 6401: 'overturned', 6402: 'sequel', 6403: 'neon', 6404: 'repairman', 6405: 'bolting', 6406: 'wrapped', 6407: 'shoulders', 6408: 'si-lent', 6409: 'ho-ly', 6410: 'eve', 6411: \"startin'\", 6412: 'gift:', 6413: 'shrieks', 6414: 'angrily', 6415: 'wenceslas', 6416: 'karaoke_machine:', 6417: 'doooown', 6418: 'weight', 6419: 'thirty-nine', 6420: \"foolin'\", 6421: 'car:', 6422: 'habit', 6423: 'hateful', 6424: 'chubby', 6425: 'chunky', 6426: 'blobbo', 6427: 'slobbo', 6428: 'michelin', 6429: 'stay-puft', 6430: 'chumbawamba', 6431: 'balloon', 6432: 'papa', 6433: 'grandé', 6434: 'augustus', 6435: 'gloop', 6436: 'beached', 6437: 'whale', 6438: 'boned', 6439: 'wisconsin', 6440: 'skinny', 6441: 'butterball', 6442: 'dumptruck', 6443: 'jelly', 6444: 'pudgy', 6445: 'wudgy', 6446: 'lard', 6447: 'blubberino', 6448: 'buddha', 6449: 'tubman', 6450: 'ton', 6451: 'blob', 6452: 'saget', 6453: 'chub', 6454: 'hub', 6455: 'calvin', 6456: 'manfred', 6457: 'manboobs', 6458: '21', 6459: 'lump', 6460: 'fatso', 6461: 'harvey', 6462: 'obese', 6463: 'cannoli', 6464: 'mahatma', 6465: 'gumbo', 6466: 'salvador', 6467: 'deli', 6468: 'elmer', 6469: 'pantry', 6470: 'sponge', 6471: 'snackie', 6472: 'onassis', 6473: 'foodie', 6474: 'hoagie', 6475: 'carmichael', 6476: 'load', 6477: 'belts', 6478: 'homunculus', 6479: \"feelin's\", 6480: 'goblins', 6481: 'pridesters:', 6482: 'movement', 6483: 'drinking:', 6484: 'relaxed', 6485: 'apron', 6486: 'limber', 6487: \"tap-pullin'\", 6488: 'hook', 6489: 'sideshow', 6490: 'laney', 6491: 'fontaine', 6492: 'vulgar', 6493: 'fulla', 6494: 'jimmy', 6495: 'stewart', 6496: 'super-nice', 6497: \"can'tcha\", 6498: 'items', 6499: 'shells', 6500: 'lime', 6501: \"high-falutin'\", 6502: 'theatah', 6503: 'exits', 6504: 'sight', 6505: 'tomatoes', 6506: 'bachelorette', 6507: 'lady_duff:', 6508: 'hearing', 6509: 'interesting', 6510: 'clubs', 6511: \"lovers'\", 6512: 'spiritual', 6513: 'other_book_club_member:', 6514: 'liven', 6515: 'charming', 6516: 'whaaaa', 6517: 'bones', 6518: 'dazed', 6519: 'bounced', 6520: 'sass', 6521: 'heaving', 6522: \"coaster's\", 6523: 'mouths', 6524: \"snappin'\", 6525: 'ruint', 6526: \"i-i'll\", 6527: 'savings', 6528: 'rubbed', 6529: 'defected', 6530: 'north', 6531: 'korea', 6532: 'dae', 6533: 'pickles', 6534: 'background', 6535: 'ummmmmmmmm', 6536: 'ehhhhhhhh', 6537: 'errrrrrr', 6538: 'ehhhhhhhhh', 6539: 'ehhhhhh', 6540: 'kay', 6541: 'apply', 6542: 'jerking', 6543: 'chunk', 6544: 'oak', 6545: 'poplar', 6546: 'knowledge', 6547: 'wood', 6548: 'something:', 6549: 'elizabeth', 6550: 'languages', 6551: 'portuguese', 6552: 'eu', 6553: 'não', 6554: 'quero', 6555: 'dizer', 6556: 'para', 6557: 'mostrar', 6558: 'je', 6559: 'ne', 6560: 'veux', 6561: 'pas', 6562: 'montrer', 6563: 'refiero', 6564: 'presumir', 6565: 'watashi', 6566: 'koji', 6567: 'suru', 6568: 'wakede', 6569: 'arimasen', 6570: 'majesty', 6571: 'notice', 6572: 'repressed', 6573: 'spelling', 6574: 'grammar', 6575: 'ze-ro', 6576: 'kemi', 6577: 'prince', 6578: 'trashed', 6579: 'happens', 6580: 'cruiser', 6581: 'answered', 6582: 'tank', 6583: 'gil_gunderson:', 6584: 'mumble', 6585: 'conclusions', 6586: 'tied', 6587: 'jernt', 6588: 'elocution', 6589: 'pronounce', 6590: 'over-pronouncing', 6591: 'online', 6592: 'pernt', 6593: 'tease', 6594: 'thrown', 6595: 'rom', 6596: 'coms', 6597: 'wheels', 6598: 'witches', 6599: \"treatin'\", 6600: 'countryman', 6601: 'chinua', 6602: 'achebe', 6603: 'apart', 6604: 'ease', 6605: 'optimistic', 6606: 'amused', 6607: 'comment', 6608: 'eaten', 6609: 'string', 6610: 'eats', 6611: 'stretches', 6612: 'moon', 6613: 'dregs', 6614: 'bugs', 6615: 'mice', 6616: 'treats', 6617: 'bar:', 6618: 'cab', 6619: 'waist', 6620: 'shyly', 6621: 'lifts', 6622: 'index', 6623: 'examples', 6624: 'albeit', 6625: 'depressing', 6626: 'bedtime', 6627: 'premise', 6628: \"cheerin'\", 6629: 'pine', 6630: 'suffering', 6631: 'silence', 6632: 'rafters', 6633: 'badly', 6634: 'smiles', 6635: 'divine', 6636: 'four-star', 6637: 'brother-in-law', 6638: 'nachos', 6639: 'triangle', 6640: 'atari', 6641: 'oblivious', 6642: 'aims', 6643: 'dumpster', 6644: 'gags', 6645: 'psst', 6646: 'asleep', 6647: 'mellow', 6648: 'aghast', 6649: 'kirk_voice_milhouse:', 6650: 'milks', 6651: 'lumpa', 6652: 'coal', 6653: 'stocking', 6654: 'sucking', 6655: 'getup', 6656: 'part-time', 6657: 'selective', 6658: 'reaches', 6659: 'opens', 6660: 'whoops', 6661: 'explanation', 6662: 'anxious', 6663: 'bloodiest', 6664: 'thirsty', 6665: 'log', 6666: 'eddie', 6667: 'pretzels', 6668: 'peeping', 6669: 'toms', 6670: 'terrorizing', 6671: 'neighborhood', 6672: 'scent', 6673: 'bobo', 6674: 'wieners', 6675: 'figures', 6676: 'disappointment', 6677: 'onto', 6678: 'dealt', 6679: 'control', 6680: 'tremendous', 6681: 'tv-station_announcer:', 6682: 'this:', 6683: 'small_boy:', 6684: 'furiously', 6685: '_marvin_monroe:', 6686: 'monroe', 6687: 'gimmicks', 6688: 'pills', 6689: 'fad', 6690: 'diets', 6691: 'bliss', 6692: '1-800-555-hugs', 6693: \"life's\", 6694: 'heh-heh', 6695: 'runt', 6696: 'gut', 6697: 'tragedy', 6698: 'ohhhh', 6699: 'hottest', 6700: 'heave-ho', 6701: 'dingy', 6702: 'flophouse', 6703: 'yellow-belly', 6704: 'jackass', 6705: \"'er\", 6706: 'hunka', 6707: 'beef', 6708: 'contemplates', 6709: 'jams', 6710: 'yells', 6711: 'drunkenly', 6712: \"larry's\", 6713: 'difference', 6714: 'slop', 6715: 'hose', 6716: 'beings', 6717: 'candles', 6718: 'tablecloth', 6719: 'drift', 6720: 'deals', 6721: 'capitol', 6722: 'curiosity', 6723: \"c'mom\", 6724: 'employees', 6725: 'spouses', 6726: 'decision', 6727: 'simpsons', 6728: 'faced', 6729: \"should've\", 6730: 'listened', 6731: 'bites', 6732: 'oooh', 6733: \"costume's\", 6734: 'ape-like', 6735: 'saga', 6736: 'riveting', 6737: 'humiliation', 6738: \"rasputin's\", 6739: \"professor's\", 6740: 'patented', 6741: 'coma', 6742: 'show-off', 6743: 'muscles', 6744: 'engraved', 6745: 'richard:', 6746: 'audience:', 6747: 'ref', 6748: 'issuing', 6749: 'warning', 6750: 'rasputin', 6751: 'referee', 6752: 'permitting', 6753: 'smitty:', 6754: 'squabbled', 6755: 'washed', 6756: 'refreshment', 6757: 'trustworthy', 6758: 'sharing', 6759: 'birthplace', 6760: 'roy', 6761: 'scum-sucking', 6762: 'pus-bucket', 6763: 'eyeballs', 6764: 'often', 6765: 'bull', 6766: 'connection', 6767: 'lighten', 6768: 'ironic', 6769: 'snotty', 6770: 'sister-in-law', 6771: 'picky', 6772: 'blur', 6773: 'decided', 6774: 'happiness', 6775: 'pancakes', 6776: 'disdainful', 6777: 'heals', 6778: 'wounds'}\n",
      "output: ||newline||\n",
      "probbbb: [[[  7.14754497e-05   2.38254120e-06   7.48807425e-03 ...,   4.68829836e-11\n",
      "     4.86329206e-11   5.28103741e-11]\n",
      "  [  7.92972870e-08   5.21448528e-05   2.73783911e-08 ...,   1.45497248e-17\n",
      "     1.83605393e-17   2.05241162e-17]]]\n",
      "dyn_seq_length-1: 1\n"
     ]
    },
    {
     "ename": "IndexError",
     "evalue": "index 1 is out of bounds for axis 0 with size 1",
     "output_type": "error",
     "traceback": [
      "\u001b[0;31m---------------------------------------------------------------------------\u001b[0m",
      "\u001b[0;31mIndexError\u001b[0m                                Traceback (most recent call last)",
      "\u001b[0;32m<ipython-input-39-e061cc52c919>\u001b[0m in \u001b[0;36m<module>\u001b[0;34m()\u001b[0m\n\u001b[1;32m     32\u001b[0m         \u001b[0mprint\u001b[0m\u001b[0;34m(\u001b[0m\u001b[0;34m'probbbb:'\u001b[0m\u001b[0;34m,\u001b[0m \u001b[0mprobabilities\u001b[0m\u001b[0;34m)\u001b[0m\u001b[0;34m\u001b[0m\u001b[0m\n\u001b[1;32m     33\u001b[0m         \u001b[0mprint\u001b[0m\u001b[0;34m(\u001b[0m\u001b[0;34m'dyn_seq_length-1:'\u001b[0m\u001b[0;34m,\u001b[0m \u001b[0mdyn_seq_length\u001b[0m\u001b[0;34m-\u001b[0m\u001b[0;36m1\u001b[0m\u001b[0;34m)\u001b[0m\u001b[0;34m\u001b[0m\u001b[0m\n\u001b[0;32m---> 34\u001b[0;31m         \u001b[0mprint\u001b[0m\u001b[0;34m(\u001b[0m\u001b[0;34m'probbbb_indexed:'\u001b[0m\u001b[0;34m,\u001b[0m \u001b[0mprobabilities\u001b[0m\u001b[0;34m[\u001b[0m\u001b[0mdyn_seq_length\u001b[0m\u001b[0;34m-\u001b[0m\u001b[0;36m1\u001b[0m\u001b[0;34m]\u001b[0m\u001b[0;34m)\u001b[0m\u001b[0;34m\u001b[0m\u001b[0m\n\u001b[0m\u001b[1;32m     35\u001b[0m         \u001b[0mpred_word\u001b[0m \u001b[0;34m=\u001b[0m \u001b[0mpick_word\u001b[0m\u001b[0;34m(\u001b[0m\u001b[0mprobabilities\u001b[0m\u001b[0;34m[\u001b[0m\u001b[0mdyn_seq_length\u001b[0m\u001b[0;34m-\u001b[0m\u001b[0;36m1\u001b[0m\u001b[0;34m]\u001b[0m\u001b[0;34m,\u001b[0m \u001b[0mint_to_vocab\u001b[0m\u001b[0;34m)\u001b[0m\u001b[0;34m\u001b[0m\u001b[0m\n\u001b[1;32m     36\u001b[0m \u001b[0;34m\u001b[0m\u001b[0m\n",
      "\u001b[0;31mIndexError\u001b[0m: index 1 is out of bounds for axis 0 with size 1"
     ]
    }
   ],
   "source": [
    "gen_length = 200\n",
    "# homer_simpson, moe_szyslak, or Barney_Gumble\n",
    "prime_word = 'moe_szyslak'\n",
    "\n",
    "\"\"\"\n",
    "DON'T MODIFY ANYTHING IN THIS CELL THAT IS BELOW THIS LINE\n",
    "\"\"\"\n",
    "loaded_graph = tf.Graph()\n",
    "with tf.Session(graph=loaded_graph) as sess:\n",
    "    # Load saved model\n",
    "    loader = tf.train.import_meta_graph(load_dir + '.meta')\n",
    "    loader.restore(sess, load_dir)\n",
    "\n",
    "    # Get Tensors from loaded model\n",
    "    input_text, initial_state, final_state, probs = get_tensors(loaded_graph)\n",
    "\n",
    "    # Sentences generation setup\n",
    "    gen_sentences = [prime_word + ':']\n",
    "    prev_state = sess.run(initial_state, {input_text: np.array([[1]])})\n",
    "\n",
    "    # Generate sentences\n",
    "    for n in range(gen_length):\n",
    "        # Dynamic Input\n",
    "        dyn_input = [[vocab_to_int[word] for word in gen_sentences[-seq_length:]]]\n",
    "        dyn_seq_length = len(dyn_input[0])\n",
    "\n",
    "        # Get Prediction\n",
    "        probabilities, prev_state = sess.run(\n",
    "            [probs, final_state],\n",
    "            {input_text: dyn_input, initial_state: prev_state})\n",
    "        \n",
    "        print('probbbb:', probabilities)\n",
    "        print('dyn_seq_length-1:', dyn_seq_length-1)\n",
    "        print('probbbb_indexed:', probabilities[dyn_seq_length-1])\n",
    "        pred_word = pick_word(probabilities[dyn_seq_length-1], int_to_vocab)\n",
    "\n",
    "        gen_sentences.append(pred_word)\n",
    "    \n",
    "    # Remove tokens\n",
    "    tv_script = ' '.join(gen_sentences)\n",
    "    for key, token in token_dict.items():\n",
    "        ending = ' ' if key in ['\\n', '(', '\"'] else ''\n",
    "        tv_script = tv_script.replace(' ' + token.lower(), key)\n",
    "    tv_script = tv_script.replace('\\n ', '\\n')\n",
    "    tv_script = tv_script.replace('( ', '(')\n",
    "        \n",
    "    print(tv_script)"
   ]
  },
  {
   "cell_type": "markdown",
   "metadata": {},
   "source": [
    "# The TV Script is Nonsensical\n",
    "It's ok if the TV script doesn't make any sense.  We trained on less than a megabyte of text.  In order to get good results, you'll have to use a smaller vocabulary or get more data.  Luckly there's more data!  As we mentioned in the begging of this project, this is a subset of [another dataset](https://www.kaggle.com/wcukierski/the-simpsons-by-the-data).  We didn't have you train on all the data, because that would take too long.  However, you are free to train your neural network on all the data.  After you complete the project, of course.\n",
    "# Submitting This Project\n",
    "When submitting this project, make sure to run all the cells before saving the notebook. Save the notebook file as \"dlnd_tv_script_generation.ipynb\" and save it as a HTML file under \"File\" -> \"Download as\". Include the \"helper.py\" and \"problem_unittests.py\" files in your submission."
   ]
  }
 ],
 "metadata": {
  "kernelspec": {
   "display_name": "Python 3",
   "language": "python",
   "name": "python3"
  },
  "language_info": {
   "codemirror_mode": {
    "name": "ipython",
    "version": 3
   },
   "file_extension": ".py",
   "mimetype": "text/x-python",
   "name": "python",
   "nbconvert_exporter": "python",
   "pygments_lexer": "ipython3",
   "version": "3.6.2"
  }
 },
 "nbformat": 4,
 "nbformat_minor": 1
}
